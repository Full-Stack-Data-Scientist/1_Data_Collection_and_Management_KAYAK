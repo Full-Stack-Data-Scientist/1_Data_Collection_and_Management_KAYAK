{
 "cells": [
  {
   "attachments": {},
   "cell_type": "markdown",
   "metadata": {},
   "source": [
    "__`NOTEBOOK START`__"
   ]
  },
  {
   "attachments": {},
   "cell_type": "markdown",
   "metadata": {},
   "source": [
    "-----------"
   ]
  },
  {
   "attachments": {},
   "cell_type": "markdown",
   "metadata": {},
   "source": [
    "#### __NOTEBOOK PLAN__ 🎯\n",
    "\n",
    "1. Get the gps coordinates of all the cities from nominatim\n",
    "2. Get weather data from each destination\n",
    "3. Get hotels' info about each destination\n",
    "4. Store all the information above in a data lake\n",
    "5. Extract, transform and load cleaned data from your datalake to a data warehouse"
   ]
  },
  {
   "attachments": {},
   "cell_type": "markdown",
   "metadata": {},
   "source": [
    "-----------"
   ]
  },
  {
   "cell_type": "code",
   "execution_count": 43,
   "metadata": {},
   "outputs": [
    {
     "name": "stdout",
     "output_type": "stream",
     "text": [
      ">>>> 📚 Importing librairies...\n",
      ">>>> ✅ ...Done\n"
     ]
    }
   ],
   "source": [
    "print('>>>> 📚 Importing librairies...')\n",
    "import requests\n",
    "\n",
    "import pandas as pd\n",
    "\n",
    "import json\n",
    "\n",
    "from time import sleep\n",
    "\n",
    "import plotly\n",
    "import plotly.express as px\n",
    "\n",
    "from datetime import datetime, timezone\n",
    "\n",
    "import scrapy\n",
    "from scrapy.crawler import CrawlerProcess\n",
    "\n",
    "import logging\n",
    "\n",
    "import datetime\n",
    "\n",
    "import os\n",
    "\n",
    "import boto3\n",
    "\n",
    "import bs4\n",
    "\n",
    "from sqlalchemy import create_engine\n",
    "\n",
    "print('>>>> ✅ ...Done')"
   ]
  },
  {
   "cell_type": "code",
   "execution_count": 44,
   "metadata": {},
   "outputs": [
    {
     "name": "stdout",
     "output_type": "stream",
     "text": [
      "['Aigues Mortes', 'Aix en Provence', 'Amiens', 'Annecy', 'Ariege', 'Avignon', 'Bayeux', 'Bayonne', 'Besancon', 'Biarritz', 'Bormes les Mimosas', 'Carcassonne', 'Cassis', 'Chateau du Haut Koenigsbourg', 'Collioure', 'Colmar', 'Dijon', 'Eguisheim', 'Gorges du Verdon', 'Grenoble', 'La Rochelle', 'Le Havre', 'Lille', 'Lyon', 'Marseille', 'Mont Saint Michel', 'Montauban', 'Nimes', 'Paris', 'Rouen', 'Saintes Maries de la mer', 'St Malo', 'Strasbourg', 'Toulouse', 'Uzes']\n"
     ]
    }
   ],
   "source": [
    "# Scrape data from these destinations\n",
    "destinations_to_scrape = [\"Mont Saint Michel\", \"St Malo\", \"Bayeux\", \"Le Havre\", \"Rouen\", \"Paris\", \"Amiens\", \"Lille\", \"Strasbourg\",\\\n",
    "\"Chateau du Haut Koenigsbourg\", \"Colmar\", \"Eguisheim\", \"Besancon\", \"Dijon\", \"Annecy\", \"Grenoble\", \"Lyon\", \"Gorges du Verdon\",\\\n",
    "\"Bormes les Mimosas\", \"Cassis\", \"Marseille\", \"Aix en Provence\", \"Avignon\", \"Uzes\", \"Nimes\", \"Aigues Mortes\", \"Saintes Maries de la mer\",\\\n",
    "\"Collioure\", \"Carcassonne\", \"Ariege\", \"Toulouse\", \"Montauban\", \"Biarritz\", \"Bayonne\", \"La Rochelle\"] \n",
    "\n",
    "# we order them in alphabetic order\n",
    "destinations_to_scrape.sort()\n",
    "\n",
    "print(destinations_to_scrape)"
   ]
  },
  {
   "cell_type": "code",
   "execution_count": 45,
   "metadata": {},
   "outputs": [
    {
     "name": "stdout",
     "output_type": "stream",
     "text": [
      "Number of cities to scrap information for: 35\n"
     ]
    }
   ],
   "source": [
    "print ('Number of cities to scrap information for:', len(destinations_to_scrape))"
   ]
  },
  {
   "attachments": {},
   "cell_type": "markdown",
   "metadata": {},
   "source": [
    "---------\n",
    "### __1. Get the gps coordinates of all the cities from nominatim__\n",
    "---------"
   ]
  },
  {
   "cell_type": "code",
   "execution_count": 46,
   "metadata": {},
   "outputs": [],
   "source": [
    "url_nominatim = 'https://nominatim.openstreetmap.org/search?'\n",
    "\n",
    "def get_gps_coordinates (address, format='json', limit=1, country='France'):\n",
    "    # we create a dictionary with the values of the arguments that will be passed as parameters to the API request\n",
    "    params = {'q': address, 'format': format, 'limit': limit, 'country': country}\n",
    "    # then we send a get request to the API with the URL and parameters\n",
    "    r = requests.get(url_nominatim, params=params)\n",
    "    # we try avoiding overloading with the sleep function\n",
    "    sleep(1)\n",
    "    return r.json()"
   ]
  },
  {
   "cell_type": "code",
   "execution_count": 47,
   "metadata": {},
   "outputs": [],
   "source": [
    "# these will be the columns names of our cities_df\n",
    "columns = ['cid', 'city', 'latitude', 'longitude']\n",
    "\n",
    "# we create an empyt list in which will store the information we get\n",
    "data = []\n",
    "\n",
    "# now we loop over each city in our list of cities\n",
    "for count, city in enumerate(destinations_to_scrape):\n",
    "    # for each city, we call the function with the address argument set to the name of the city\n",
    "    response = get_gps_coordinates(address=city)\n",
    "    # the 'row' list will contain the data of the current city and the count variable\n",
    "    # assigns a unique ID to each city stored in the column cid\n",
    "    row = [count, city, response[0]['lat'], response[0]['lon']]\n",
    "    # we then append this list to the 'data' list\n",
    "    data.append(row)\n",
    "\n",
    "# we now convert our list to a Data frame\n",
    "cities_df = pd.DataFrame(data=data, columns=columns).sort_values(by='city', ascending=True).reset_index(drop='index')"
   ]
  },
  {
   "cell_type": "code",
   "execution_count": 48,
   "metadata": {},
   "outputs": [
    {
     "name": "stdout",
     "output_type": "stream",
     "text": [
      "\n",
      "Display of dataset: \n",
      "\n"
     ]
    },
    {
     "data": {
      "text/html": [
       "<div>\n",
       "<style scoped>\n",
       "    .dataframe tbody tr th:only-of-type {\n",
       "        vertical-align: middle;\n",
       "    }\n",
       "\n",
       "    .dataframe tbody tr th {\n",
       "        vertical-align: top;\n",
       "    }\n",
       "\n",
       "    .dataframe thead th {\n",
       "        text-align: right;\n",
       "    }\n",
       "</style>\n",
       "<table border=\"1\" class=\"dataframe\">\n",
       "  <thead>\n",
       "    <tr style=\"text-align: right;\">\n",
       "      <th></th>\n",
       "      <th>cid</th>\n",
       "      <th>city</th>\n",
       "      <th>latitude</th>\n",
       "      <th>longitude</th>\n",
       "    </tr>\n",
       "  </thead>\n",
       "  <tbody>\n",
       "    <tr>\n",
       "      <th>0</th>\n",
       "      <td>0</td>\n",
       "      <td>Aigues Mortes</td>\n",
       "      <td>43.5658225</td>\n",
       "      <td>4.1912837</td>\n",
       "    </tr>\n",
       "    <tr>\n",
       "      <th>1</th>\n",
       "      <td>1</td>\n",
       "      <td>Aix en Provence</td>\n",
       "      <td>43.5298424</td>\n",
       "      <td>5.4474738</td>\n",
       "    </tr>\n",
       "    <tr>\n",
       "      <th>2</th>\n",
       "      <td>2</td>\n",
       "      <td>Amiens</td>\n",
       "      <td>49.8941708</td>\n",
       "      <td>2.2956951</td>\n",
       "    </tr>\n",
       "    <tr>\n",
       "      <th>3</th>\n",
       "      <td>3</td>\n",
       "      <td>Annecy</td>\n",
       "      <td>45.8992348</td>\n",
       "      <td>6.1288847</td>\n",
       "    </tr>\n",
       "    <tr>\n",
       "      <th>4</th>\n",
       "      <td>4</td>\n",
       "      <td>Ariege</td>\n",
       "      <td>42.9455368</td>\n",
       "      <td>1.4065544156065486</td>\n",
       "    </tr>\n",
       "    <tr>\n",
       "      <th>5</th>\n",
       "      <td>5</td>\n",
       "      <td>Avignon</td>\n",
       "      <td>43.9492493</td>\n",
       "      <td>4.8059012</td>\n",
       "    </tr>\n",
       "    <tr>\n",
       "      <th>6</th>\n",
       "      <td>6</td>\n",
       "      <td>Bayeux</td>\n",
       "      <td>49.2764624</td>\n",
       "      <td>-0.7024738</td>\n",
       "    </tr>\n",
       "    <tr>\n",
       "      <th>7</th>\n",
       "      <td>7</td>\n",
       "      <td>Bayonne</td>\n",
       "      <td>43.4945144</td>\n",
       "      <td>-1.4736657</td>\n",
       "    </tr>\n",
       "    <tr>\n",
       "      <th>8</th>\n",
       "      <td>8</td>\n",
       "      <td>Besancon</td>\n",
       "      <td>47.2380222</td>\n",
       "      <td>6.0243622</td>\n",
       "    </tr>\n",
       "    <tr>\n",
       "      <th>9</th>\n",
       "      <td>9</td>\n",
       "      <td>Biarritz</td>\n",
       "      <td>43.471143749999996</td>\n",
       "      <td>-1.552726590666314</td>\n",
       "    </tr>\n",
       "    <tr>\n",
       "      <th>10</th>\n",
       "      <td>10</td>\n",
       "      <td>Bormes les Mimosas</td>\n",
       "      <td>43.1506968</td>\n",
       "      <td>6.3419285</td>\n",
       "    </tr>\n",
       "  </tbody>\n",
       "</table>\n",
       "</div>"
      ],
      "text/plain": [
       "    cid                city            latitude           longitude\n",
       "0     0       Aigues Mortes          43.5658225           4.1912837\n",
       "1     1     Aix en Provence          43.5298424           5.4474738\n",
       "2     2              Amiens          49.8941708           2.2956951\n",
       "3     3              Annecy          45.8992348           6.1288847\n",
       "4     4              Ariege          42.9455368  1.4065544156065486\n",
       "5     5             Avignon          43.9492493           4.8059012\n",
       "6     6              Bayeux          49.2764624          -0.7024738\n",
       "7     7             Bayonne          43.4945144          -1.4736657\n",
       "8     8            Besancon          47.2380222           6.0243622\n",
       "9     9            Biarritz  43.471143749999996  -1.552726590666314\n",
       "10   10  Bormes les Mimosas          43.1506968           6.3419285"
      ]
     },
     "metadata": {},
     "output_type": "display_data"
    },
    {
     "name": "stdout",
     "output_type": "stream",
     "text": [
      "\n",
      "Main statistics: \n",
      "\n"
     ]
    },
    {
     "data": {
      "text/html": [
       "<div>\n",
       "<style scoped>\n",
       "    .dataframe tbody tr th:only-of-type {\n",
       "        vertical-align: middle;\n",
       "    }\n",
       "\n",
       "    .dataframe tbody tr th {\n",
       "        vertical-align: top;\n",
       "    }\n",
       "\n",
       "    .dataframe thead th {\n",
       "        text-align: right;\n",
       "    }\n",
       "</style>\n",
       "<table border=\"1\" class=\"dataframe\">\n",
       "  <thead>\n",
       "    <tr style=\"text-align: right;\">\n",
       "      <th></th>\n",
       "      <th>cid</th>\n",
       "    </tr>\n",
       "  </thead>\n",
       "  <tbody>\n",
       "    <tr>\n",
       "      <th>count</th>\n",
       "      <td>35.00</td>\n",
       "    </tr>\n",
       "    <tr>\n",
       "      <th>mean</th>\n",
       "      <td>17.00</td>\n",
       "    </tr>\n",
       "    <tr>\n",
       "      <th>std</th>\n",
       "      <td>10.25</td>\n",
       "    </tr>\n",
       "    <tr>\n",
       "      <th>min</th>\n",
       "      <td>0.00</td>\n",
       "    </tr>\n",
       "    <tr>\n",
       "      <th>25%</th>\n",
       "      <td>8.50</td>\n",
       "    </tr>\n",
       "    <tr>\n",
       "      <th>50%</th>\n",
       "      <td>17.00</td>\n",
       "    </tr>\n",
       "    <tr>\n",
       "      <th>75%</th>\n",
       "      <td>25.50</td>\n",
       "    </tr>\n",
       "    <tr>\n",
       "      <th>max</th>\n",
       "      <td>34.00</td>\n",
       "    </tr>\n",
       "  </tbody>\n",
       "</table>\n",
       "</div>"
      ],
      "text/plain": [
       "         cid\n",
       "count  35.00\n",
       "mean   17.00\n",
       "std    10.25\n",
       "min     0.00\n",
       "25%     8.50\n",
       "50%    17.00\n",
       "75%    25.50\n",
       "max    34.00"
      ]
     },
     "metadata": {},
     "output_type": "display_data"
    },
    {
     "name": "stdout",
     "output_type": "stream",
     "text": [
      "\n",
      "Missing values:\n",
      "\n"
     ]
    },
    {
     "data": {
      "text/html": [
       "<div>\n",
       "<style scoped>\n",
       "    .dataframe tbody tr th:only-of-type {\n",
       "        vertical-align: middle;\n",
       "    }\n",
       "\n",
       "    .dataframe tbody tr th {\n",
       "        vertical-align: top;\n",
       "    }\n",
       "\n",
       "    .dataframe thead th {\n",
       "        text-align: right;\n",
       "    }\n",
       "</style>\n",
       "<table border=\"1\" class=\"dataframe\">\n",
       "  <thead>\n",
       "    <tr style=\"text-align: right;\">\n",
       "      <th></th>\n",
       "      <th>Percentage of Missing Values</th>\n",
       "      <th>Number of Missing Values</th>\n",
       "    </tr>\n",
       "  </thead>\n",
       "  <tbody>\n",
       "    <tr>\n",
       "      <th>cid</th>\n",
       "      <td>0.0</td>\n",
       "      <td>0</td>\n",
       "    </tr>\n",
       "    <tr>\n",
       "      <th>city</th>\n",
       "      <td>0.0</td>\n",
       "      <td>0</td>\n",
       "    </tr>\n",
       "    <tr>\n",
       "      <th>latitude</th>\n",
       "      <td>0.0</td>\n",
       "      <td>0</td>\n",
       "    </tr>\n",
       "    <tr>\n",
       "      <th>longitude</th>\n",
       "      <td>0.0</td>\n",
       "      <td>0</td>\n",
       "    </tr>\n",
       "  </tbody>\n",
       "</table>\n",
       "</div>"
      ],
      "text/plain": [
       "           Percentage of Missing Values  Number of Missing Values\n",
       "cid                                 0.0                         0\n",
       "city                                0.0                         0\n",
       "latitude                            0.0                         0\n",
       "longitude                           0.0                         0"
      ]
     },
     "metadata": {},
     "output_type": "display_data"
    }
   ],
   "source": [
    "print()\n",
    "print('Display of dataset: ')\n",
    "print()\n",
    "display(cities_df.head(11))\n",
    "\n",
    "print()\n",
    "print('Main statistics: ')\n",
    "print()\n",
    "df_stats = cities_df.describe().apply(lambda s: s.apply('{0:.2f}'.format))\n",
    "display(df_stats)\n",
    "\n",
    "print()\n",
    "print ('Missing values:')\n",
    "print()\n",
    "# below is a function that will return the percentage and the quantity of missing values in our DF\n",
    "def missing_values():\n",
    "    \n",
    "    missing = (pd.DataFrame(cities_df.isnull().sum()/cities_df.shape[0])*100).round(2)\n",
    "    missing.columns = ['Percentage of Missing Values']\n",
    "    missing['Number of Missing Values'] = pd.DataFrame(cities_df.isnull().sum())\n",
    "    \n",
    "    return missing.sort_values(by='Percentage of Missing Values', ascending=False)\n",
    "\n",
    "display(missing_values())"
   ]
  },
  {
   "cell_type": "code",
   "execution_count": 49,
   "metadata": {},
   "outputs": [
    {
     "data": {
      "text/plain": [
       "cid           int64\n",
       "city         object\n",
       "latitude     object\n",
       "longitude    object\n",
       "dtype: object"
      ]
     },
     "execution_count": 49,
     "metadata": {},
     "output_type": "execute_result"
    }
   ],
   "source": [
    "cities_df.dtypes"
   ]
  },
  {
   "cell_type": "code",
   "execution_count": 50,
   "metadata": {},
   "outputs": [],
   "source": [
    "# we convert our lat and long data to float\n",
    "cities_df[['latitude', 'longitude']] = cities_df[['latitude', 'longitude']].astype(float)"
   ]
  },
  {
   "cell_type": "code",
   "execution_count": 51,
   "metadata": {},
   "outputs": [
    {
     "data": {
      "text/plain": [
       "cid            int64\n",
       "city          object\n",
       "latitude     float64\n",
       "longitude    float64\n",
       "dtype: object"
      ]
     },
     "execution_count": 51,
     "metadata": {},
     "output_type": "execute_result"
    }
   ],
   "source": [
    "cities_df.dtypes"
   ]
  },
  {
   "attachments": {},
   "cell_type": "markdown",
   "metadata": {},
   "source": [
    "### Let's visualize our cities on a map"
   ]
  },
  {
   "cell_type": "code",
   "execution_count": 52,
   "metadata": {},
   "outputs": [
    {
     "data": {
      "application/vnd.plotly.v1+json": {
       "config": {
        "plotlyServerURL": "https://plot.ly"
       },
       "data": [
        {
         "hovertemplate": "city=Aigues Mortes<br>latitude=%{lat}<br>longitude=%{lon}<extra></extra>",
         "lat": [
          43.5658225
         ],
         "legendgroup": "Aigues Mortes",
         "lon": [
          4.1912837
         ],
         "marker": {
          "color": "#636efa"
         },
         "mode": "markers",
         "name": "Aigues Mortes",
         "showlegend": true,
         "subplot": "mapbox",
         "type": "scattermapbox"
        },
        {
         "hovertemplate": "city=Aix en Provence<br>latitude=%{lat}<br>longitude=%{lon}<extra></extra>",
         "lat": [
          43.5298424
         ],
         "legendgroup": "Aix en Provence",
         "lon": [
          5.4474738
         ],
         "marker": {
          "color": "#EF553B"
         },
         "mode": "markers",
         "name": "Aix en Provence",
         "showlegend": true,
         "subplot": "mapbox",
         "type": "scattermapbox"
        },
        {
         "hovertemplate": "city=Amiens<br>latitude=%{lat}<br>longitude=%{lon}<extra></extra>",
         "lat": [
          49.8941708
         ],
         "legendgroup": "Amiens",
         "lon": [
          2.2956951
         ],
         "marker": {
          "color": "#00cc96"
         },
         "mode": "markers",
         "name": "Amiens",
         "showlegend": true,
         "subplot": "mapbox",
         "type": "scattermapbox"
        },
        {
         "hovertemplate": "city=Annecy<br>latitude=%{lat}<br>longitude=%{lon}<extra></extra>",
         "lat": [
          45.8992348
         ],
         "legendgroup": "Annecy",
         "lon": [
          6.1288847
         ],
         "marker": {
          "color": "#ab63fa"
         },
         "mode": "markers",
         "name": "Annecy",
         "showlegend": true,
         "subplot": "mapbox",
         "type": "scattermapbox"
        },
        {
         "hovertemplate": "city=Ariege<br>latitude=%{lat}<br>longitude=%{lon}<extra></extra>",
         "lat": [
          42.9455368
         ],
         "legendgroup": "Ariege",
         "lon": [
          1.4065544156065486
         ],
         "marker": {
          "color": "#FFA15A"
         },
         "mode": "markers",
         "name": "Ariege",
         "showlegend": true,
         "subplot": "mapbox",
         "type": "scattermapbox"
        },
        {
         "hovertemplate": "city=Avignon<br>latitude=%{lat}<br>longitude=%{lon}<extra></extra>",
         "lat": [
          43.9492493
         ],
         "legendgroup": "Avignon",
         "lon": [
          4.8059012
         ],
         "marker": {
          "color": "#19d3f3"
         },
         "mode": "markers",
         "name": "Avignon",
         "showlegend": true,
         "subplot": "mapbox",
         "type": "scattermapbox"
        },
        {
         "hovertemplate": "city=Bayeux<br>latitude=%{lat}<br>longitude=%{lon}<extra></extra>",
         "lat": [
          49.2764624
         ],
         "legendgroup": "Bayeux",
         "lon": [
          -0.7024738
         ],
         "marker": {
          "color": "#FF6692"
         },
         "mode": "markers",
         "name": "Bayeux",
         "showlegend": true,
         "subplot": "mapbox",
         "type": "scattermapbox"
        },
        {
         "hovertemplate": "city=Bayonne<br>latitude=%{lat}<br>longitude=%{lon}<extra></extra>",
         "lat": [
          43.4945144
         ],
         "legendgroup": "Bayonne",
         "lon": [
          -1.4736657
         ],
         "marker": {
          "color": "#B6E880"
         },
         "mode": "markers",
         "name": "Bayonne",
         "showlegend": true,
         "subplot": "mapbox",
         "type": "scattermapbox"
        },
        {
         "hovertemplate": "city=Besancon<br>latitude=%{lat}<br>longitude=%{lon}<extra></extra>",
         "lat": [
          47.2380222
         ],
         "legendgroup": "Besancon",
         "lon": [
          6.0243622
         ],
         "marker": {
          "color": "#FF97FF"
         },
         "mode": "markers",
         "name": "Besancon",
         "showlegend": true,
         "subplot": "mapbox",
         "type": "scattermapbox"
        },
        {
         "hovertemplate": "city=Biarritz<br>latitude=%{lat}<br>longitude=%{lon}<extra></extra>",
         "lat": [
          43.471143749999996
         ],
         "legendgroup": "Biarritz",
         "lon": [
          -1.552726590666314
         ],
         "marker": {
          "color": "#FECB52"
         },
         "mode": "markers",
         "name": "Biarritz",
         "showlegend": true,
         "subplot": "mapbox",
         "type": "scattermapbox"
        },
        {
         "hovertemplate": "city=Bormes les Mimosas<br>latitude=%{lat}<br>longitude=%{lon}<extra></extra>",
         "lat": [
          43.1506968
         ],
         "legendgroup": "Bormes les Mimosas",
         "lon": [
          6.3419285
         ],
         "marker": {
          "color": "#636efa"
         },
         "mode": "markers",
         "name": "Bormes les Mimosas",
         "showlegend": true,
         "subplot": "mapbox",
         "type": "scattermapbox"
        },
        {
         "hovertemplate": "city=Carcassonne<br>latitude=%{lat}<br>longitude=%{lon}<extra></extra>",
         "lat": [
          43.2130358
         ],
         "legendgroup": "Carcassonne",
         "lon": [
          2.3491069
         ],
         "marker": {
          "color": "#EF553B"
         },
         "mode": "markers",
         "name": "Carcassonne",
         "showlegend": true,
         "subplot": "mapbox",
         "type": "scattermapbox"
        },
        {
         "hovertemplate": "city=Cassis<br>latitude=%{lat}<br>longitude=%{lon}<extra></extra>",
         "lat": [
          43.2140359
         ],
         "legendgroup": "Cassis",
         "lon": [
          5.5396318
         ],
         "marker": {
          "color": "#00cc96"
         },
         "mode": "markers",
         "name": "Cassis",
         "showlegend": true,
         "subplot": "mapbox",
         "type": "scattermapbox"
        },
        {
         "hovertemplate": "city=Chateau du Haut Koenigsbourg<br>latitude=%{lat}<br>longitude=%{lon}<extra></extra>",
         "lat": [
          48.249489800000006
         ],
         "legendgroup": "Chateau du Haut Koenigsbourg",
         "lon": [
          7.34429620253195
         ],
         "marker": {
          "color": "#ab63fa"
         },
         "mode": "markers",
         "name": "Chateau du Haut Koenigsbourg",
         "showlegend": true,
         "subplot": "mapbox",
         "type": "scattermapbox"
        },
        {
         "hovertemplate": "city=Collioure<br>latitude=%{lat}<br>longitude=%{lon}<extra></extra>",
         "lat": [
          42.52505
         ],
         "legendgroup": "Collioure",
         "lon": [
          3.0831554
         ],
         "marker": {
          "color": "#FFA15A"
         },
         "mode": "markers",
         "name": "Collioure",
         "showlegend": true,
         "subplot": "mapbox",
         "type": "scattermapbox"
        },
        {
         "hovertemplate": "city=Colmar<br>latitude=%{lat}<br>longitude=%{lon}<extra></extra>",
         "lat": [
          48.0777517
         ],
         "legendgroup": "Colmar",
         "lon": [
          7.3579641
         ],
         "marker": {
          "color": "#19d3f3"
         },
         "mode": "markers",
         "name": "Colmar",
         "showlegend": true,
         "subplot": "mapbox",
         "type": "scattermapbox"
        },
        {
         "hovertemplate": "city=Dijon<br>latitude=%{lat}<br>longitude=%{lon}<extra></extra>",
         "lat": [
          47.3215806
         ],
         "legendgroup": "Dijon",
         "lon": [
          5.0414701
         ],
         "marker": {
          "color": "#FF6692"
         },
         "mode": "markers",
         "name": "Dijon",
         "showlegend": true,
         "subplot": "mapbox",
         "type": "scattermapbox"
        },
        {
         "hovertemplate": "city=Eguisheim<br>latitude=%{lat}<br>longitude=%{lon}<extra></extra>",
         "lat": [
          48.0447968
         ],
         "legendgroup": "Eguisheim",
         "lon": [
          7.3079618
         ],
         "marker": {
          "color": "#B6E880"
         },
         "mode": "markers",
         "name": "Eguisheim",
         "showlegend": true,
         "subplot": "mapbox",
         "type": "scattermapbox"
        },
        {
         "hovertemplate": "city=Gorges du Verdon<br>latitude=%{lat}<br>longitude=%{lon}<extra></extra>",
         "lat": [
          43.7496562
         ],
         "legendgroup": "Gorges du Verdon",
         "lon": [
          6.3285616
         ],
         "marker": {
          "color": "#FF97FF"
         },
         "mode": "markers",
         "name": "Gorges du Verdon",
         "showlegend": true,
         "subplot": "mapbox",
         "type": "scattermapbox"
        },
        {
         "hovertemplate": "city=Grenoble<br>latitude=%{lat}<br>longitude=%{lon}<extra></extra>",
         "lat": [
          45.1875602
         ],
         "legendgroup": "Grenoble",
         "lon": [
          5.7357819
         ],
         "marker": {
          "color": "#FECB52"
         },
         "mode": "markers",
         "name": "Grenoble",
         "showlegend": true,
         "subplot": "mapbox",
         "type": "scattermapbox"
        },
        {
         "hovertemplate": "city=La Rochelle<br>latitude=%{lat}<br>longitude=%{lon}<extra></extra>",
         "lat": [
          46.1591126
         ],
         "legendgroup": "La Rochelle",
         "lon": [
          -1.1520434
         ],
         "marker": {
          "color": "#636efa"
         },
         "mode": "markers",
         "name": "La Rochelle",
         "showlegend": true,
         "subplot": "mapbox",
         "type": "scattermapbox"
        },
        {
         "hovertemplate": "city=Le Havre<br>latitude=%{lat}<br>longitude=%{lon}<extra></extra>",
         "lat": [
          49.4938975
         ],
         "legendgroup": "Le Havre",
         "lon": [
          0.1079732
         ],
         "marker": {
          "color": "#EF553B"
         },
         "mode": "markers",
         "name": "Le Havre",
         "showlegend": true,
         "subplot": "mapbox",
         "type": "scattermapbox"
        },
        {
         "hovertemplate": "city=Lille<br>latitude=%{lat}<br>longitude=%{lon}<extra></extra>",
         "lat": [
          50.6365654
         ],
         "legendgroup": "Lille",
         "lon": [
          3.0635282
         ],
         "marker": {
          "color": "#00cc96"
         },
         "mode": "markers",
         "name": "Lille",
         "showlegend": true,
         "subplot": "mapbox",
         "type": "scattermapbox"
        },
        {
         "hovertemplate": "city=Lyon<br>latitude=%{lat}<br>longitude=%{lon}<extra></extra>",
         "lat": [
          45.7578137
         ],
         "legendgroup": "Lyon",
         "lon": [
          4.8320114
         ],
         "marker": {
          "color": "#ab63fa"
         },
         "mode": "markers",
         "name": "Lyon",
         "showlegend": true,
         "subplot": "mapbox",
         "type": "scattermapbox"
        },
        {
         "hovertemplate": "city=Marseille<br>latitude=%{lat}<br>longitude=%{lon}<extra></extra>",
         "lat": [
          43.2961743
         ],
         "legendgroup": "Marseille",
         "lon": [
          5.3699525
         ],
         "marker": {
          "color": "#FFA15A"
         },
         "mode": "markers",
         "name": "Marseille",
         "showlegend": true,
         "subplot": "mapbox",
         "type": "scattermapbox"
        },
        {
         "hovertemplate": "city=Mont Saint Michel<br>latitude=%{lat}<br>longitude=%{lon}<extra></extra>",
         "lat": [
          48.6359541
         ],
         "legendgroup": "Mont Saint Michel",
         "lon": [
          -1.511459954959514
         ],
         "marker": {
          "color": "#19d3f3"
         },
         "mode": "markers",
         "name": "Mont Saint Michel",
         "showlegend": true,
         "subplot": "mapbox",
         "type": "scattermapbox"
        },
        {
         "hovertemplate": "city=Montauban<br>latitude=%{lat}<br>longitude=%{lon}<extra></extra>",
         "lat": [
          44.0175835
         ],
         "legendgroup": "Montauban",
         "lon": [
          1.3549991
         ],
         "marker": {
          "color": "#FF6692"
         },
         "mode": "markers",
         "name": "Montauban",
         "showlegend": true,
         "subplot": "mapbox",
         "type": "scattermapbox"
        },
        {
         "hovertemplate": "city=Nimes<br>latitude=%{lat}<br>longitude=%{lon}<extra></extra>",
         "lat": [
          43.8374249
         ],
         "legendgroup": "Nimes",
         "lon": [
          4.3600687
         ],
         "marker": {
          "color": "#B6E880"
         },
         "mode": "markers",
         "name": "Nimes",
         "showlegend": true,
         "subplot": "mapbox",
         "type": "scattermapbox"
        },
        {
         "hovertemplate": "city=Paris<br>latitude=%{lat}<br>longitude=%{lon}<extra></extra>",
         "lat": [
          48.8534951
         ],
         "legendgroup": "Paris",
         "lon": [
          2.3483915
         ],
         "marker": {
          "color": "#FF97FF"
         },
         "mode": "markers",
         "name": "Paris",
         "showlegend": true,
         "subplot": "mapbox",
         "type": "scattermapbox"
        },
        {
         "hovertemplate": "city=Rouen<br>latitude=%{lat}<br>longitude=%{lon}<extra></extra>",
         "lat": [
          49.4404591
         ],
         "legendgroup": "Rouen",
         "lon": [
          1.0939658
         ],
         "marker": {
          "color": "#FECB52"
         },
         "mode": "markers",
         "name": "Rouen",
         "showlegend": true,
         "subplot": "mapbox",
         "type": "scattermapbox"
        },
        {
         "hovertemplate": "city=Saintes Maries de la mer<br>latitude=%{lat}<br>longitude=%{lon}<extra></extra>",
         "lat": [
          43.4522771
         ],
         "legendgroup": "Saintes Maries de la mer",
         "lon": [
          4.4287172
         ],
         "marker": {
          "color": "#636efa"
         },
         "mode": "markers",
         "name": "Saintes Maries de la mer",
         "showlegend": true,
         "subplot": "mapbox",
         "type": "scattermapbox"
        },
        {
         "hovertemplate": "city=St Malo<br>latitude=%{lat}<br>longitude=%{lon}<extra></extra>",
         "lat": [
          48.649518
         ],
         "legendgroup": "St Malo",
         "lon": [
          -2.0260409
         ],
         "marker": {
          "color": "#EF553B"
         },
         "mode": "markers",
         "name": "St Malo",
         "showlegend": true,
         "subplot": "mapbox",
         "type": "scattermapbox"
        },
        {
         "hovertemplate": "city=Strasbourg<br>latitude=%{lat}<br>longitude=%{lon}<extra></extra>",
         "lat": [
          48.584614
         ],
         "legendgroup": "Strasbourg",
         "lon": [
          7.7507127
         ],
         "marker": {
          "color": "#00cc96"
         },
         "mode": "markers",
         "name": "Strasbourg",
         "showlegend": true,
         "subplot": "mapbox",
         "type": "scattermapbox"
        },
        {
         "hovertemplate": "city=Toulouse<br>latitude=%{lat}<br>longitude=%{lon}<extra></extra>",
         "lat": [
          43.6044622
         ],
         "legendgroup": "Toulouse",
         "lon": [
          1.4442469
         ],
         "marker": {
          "color": "#ab63fa"
         },
         "mode": "markers",
         "name": "Toulouse",
         "showlegend": true,
         "subplot": "mapbox",
         "type": "scattermapbox"
        },
        {
         "hovertemplate": "city=Uzes<br>latitude=%{lat}<br>longitude=%{lon}<extra></extra>",
         "lat": [
          44.0121279
         ],
         "legendgroup": "Uzes",
         "lon": [
          4.4196718
         ],
         "marker": {
          "color": "#FFA15A"
         },
         "mode": "markers",
         "name": "Uzes",
         "showlegend": true,
         "subplot": "mapbox",
         "type": "scattermapbox"
        }
       ],
       "layout": {
        "legend": {
         "title": {
          "text": "city"
         },
         "tracegroupgap": 0
        },
        "mapbox": {
         "center": {
          "lat": 45.84083235857143,
          "lon": 3.3967383449289335
         },
         "domain": {
          "x": [
           0,
           1
          ],
          "y": [
           0,
           1
          ]
         },
         "style": "carto-positron",
         "zoom": 3.7
        },
        "template": {
         "data": {
          "bar": [
           {
            "error_x": {
             "color": "#2a3f5f"
            },
            "error_y": {
             "color": "#2a3f5f"
            },
            "marker": {
             "line": {
              "color": "#E5ECF6",
              "width": 0.5
             },
             "pattern": {
              "fillmode": "overlay",
              "size": 10,
              "solidity": 0.2
             }
            },
            "type": "bar"
           }
          ],
          "barpolar": [
           {
            "marker": {
             "line": {
              "color": "#E5ECF6",
              "width": 0.5
             },
             "pattern": {
              "fillmode": "overlay",
              "size": 10,
              "solidity": 0.2
             }
            },
            "type": "barpolar"
           }
          ],
          "carpet": [
           {
            "aaxis": {
             "endlinecolor": "#2a3f5f",
             "gridcolor": "white",
             "linecolor": "white",
             "minorgridcolor": "white",
             "startlinecolor": "#2a3f5f"
            },
            "baxis": {
             "endlinecolor": "#2a3f5f",
             "gridcolor": "white",
             "linecolor": "white",
             "minorgridcolor": "white",
             "startlinecolor": "#2a3f5f"
            },
            "type": "carpet"
           }
          ],
          "choropleth": [
           {
            "colorbar": {
             "outlinewidth": 0,
             "ticks": ""
            },
            "type": "choropleth"
           }
          ],
          "contour": [
           {
            "colorbar": {
             "outlinewidth": 0,
             "ticks": ""
            },
            "colorscale": [
             [
              0,
              "#0d0887"
             ],
             [
              0.1111111111111111,
              "#46039f"
             ],
             [
              0.2222222222222222,
              "#7201a8"
             ],
             [
              0.3333333333333333,
              "#9c179e"
             ],
             [
              0.4444444444444444,
              "#bd3786"
             ],
             [
              0.5555555555555556,
              "#d8576b"
             ],
             [
              0.6666666666666666,
              "#ed7953"
             ],
             [
              0.7777777777777778,
              "#fb9f3a"
             ],
             [
              0.8888888888888888,
              "#fdca26"
             ],
             [
              1,
              "#f0f921"
             ]
            ],
            "type": "contour"
           }
          ],
          "contourcarpet": [
           {
            "colorbar": {
             "outlinewidth": 0,
             "ticks": ""
            },
            "type": "contourcarpet"
           }
          ],
          "heatmap": [
           {
            "colorbar": {
             "outlinewidth": 0,
             "ticks": ""
            },
            "colorscale": [
             [
              0,
              "#0d0887"
             ],
             [
              0.1111111111111111,
              "#46039f"
             ],
             [
              0.2222222222222222,
              "#7201a8"
             ],
             [
              0.3333333333333333,
              "#9c179e"
             ],
             [
              0.4444444444444444,
              "#bd3786"
             ],
             [
              0.5555555555555556,
              "#d8576b"
             ],
             [
              0.6666666666666666,
              "#ed7953"
             ],
             [
              0.7777777777777778,
              "#fb9f3a"
             ],
             [
              0.8888888888888888,
              "#fdca26"
             ],
             [
              1,
              "#f0f921"
             ]
            ],
            "type": "heatmap"
           }
          ],
          "heatmapgl": [
           {
            "colorbar": {
             "outlinewidth": 0,
             "ticks": ""
            },
            "colorscale": [
             [
              0,
              "#0d0887"
             ],
             [
              0.1111111111111111,
              "#46039f"
             ],
             [
              0.2222222222222222,
              "#7201a8"
             ],
             [
              0.3333333333333333,
              "#9c179e"
             ],
             [
              0.4444444444444444,
              "#bd3786"
             ],
             [
              0.5555555555555556,
              "#d8576b"
             ],
             [
              0.6666666666666666,
              "#ed7953"
             ],
             [
              0.7777777777777778,
              "#fb9f3a"
             ],
             [
              0.8888888888888888,
              "#fdca26"
             ],
             [
              1,
              "#f0f921"
             ]
            ],
            "type": "heatmapgl"
           }
          ],
          "histogram": [
           {
            "marker": {
             "pattern": {
              "fillmode": "overlay",
              "size": 10,
              "solidity": 0.2
             }
            },
            "type": "histogram"
           }
          ],
          "histogram2d": [
           {
            "colorbar": {
             "outlinewidth": 0,
             "ticks": ""
            },
            "colorscale": [
             [
              0,
              "#0d0887"
             ],
             [
              0.1111111111111111,
              "#46039f"
             ],
             [
              0.2222222222222222,
              "#7201a8"
             ],
             [
              0.3333333333333333,
              "#9c179e"
             ],
             [
              0.4444444444444444,
              "#bd3786"
             ],
             [
              0.5555555555555556,
              "#d8576b"
             ],
             [
              0.6666666666666666,
              "#ed7953"
             ],
             [
              0.7777777777777778,
              "#fb9f3a"
             ],
             [
              0.8888888888888888,
              "#fdca26"
             ],
             [
              1,
              "#f0f921"
             ]
            ],
            "type": "histogram2d"
           }
          ],
          "histogram2dcontour": [
           {
            "colorbar": {
             "outlinewidth": 0,
             "ticks": ""
            },
            "colorscale": [
             [
              0,
              "#0d0887"
             ],
             [
              0.1111111111111111,
              "#46039f"
             ],
             [
              0.2222222222222222,
              "#7201a8"
             ],
             [
              0.3333333333333333,
              "#9c179e"
             ],
             [
              0.4444444444444444,
              "#bd3786"
             ],
             [
              0.5555555555555556,
              "#d8576b"
             ],
             [
              0.6666666666666666,
              "#ed7953"
             ],
             [
              0.7777777777777778,
              "#fb9f3a"
             ],
             [
              0.8888888888888888,
              "#fdca26"
             ],
             [
              1,
              "#f0f921"
             ]
            ],
            "type": "histogram2dcontour"
           }
          ],
          "mesh3d": [
           {
            "colorbar": {
             "outlinewidth": 0,
             "ticks": ""
            },
            "type": "mesh3d"
           }
          ],
          "parcoords": [
           {
            "line": {
             "colorbar": {
              "outlinewidth": 0,
              "ticks": ""
             }
            },
            "type": "parcoords"
           }
          ],
          "pie": [
           {
            "automargin": true,
            "type": "pie"
           }
          ],
          "scatter": [
           {
            "fillpattern": {
             "fillmode": "overlay",
             "size": 10,
             "solidity": 0.2
            },
            "type": "scatter"
           }
          ],
          "scatter3d": [
           {
            "line": {
             "colorbar": {
              "outlinewidth": 0,
              "ticks": ""
             }
            },
            "marker": {
             "colorbar": {
              "outlinewidth": 0,
              "ticks": ""
             }
            },
            "type": "scatter3d"
           }
          ],
          "scattercarpet": [
           {
            "marker": {
             "colorbar": {
              "outlinewidth": 0,
              "ticks": ""
             }
            },
            "type": "scattercarpet"
           }
          ],
          "scattergeo": [
           {
            "marker": {
             "colorbar": {
              "outlinewidth": 0,
              "ticks": ""
             }
            },
            "type": "scattergeo"
           }
          ],
          "scattergl": [
           {
            "marker": {
             "colorbar": {
              "outlinewidth": 0,
              "ticks": ""
             }
            },
            "type": "scattergl"
           }
          ],
          "scattermapbox": [
           {
            "marker": {
             "colorbar": {
              "outlinewidth": 0,
              "ticks": ""
             }
            },
            "type": "scattermapbox"
           }
          ],
          "scatterpolar": [
           {
            "marker": {
             "colorbar": {
              "outlinewidth": 0,
              "ticks": ""
             }
            },
            "type": "scatterpolar"
           }
          ],
          "scatterpolargl": [
           {
            "marker": {
             "colorbar": {
              "outlinewidth": 0,
              "ticks": ""
             }
            },
            "type": "scatterpolargl"
           }
          ],
          "scatterternary": [
           {
            "marker": {
             "colorbar": {
              "outlinewidth": 0,
              "ticks": ""
             }
            },
            "type": "scatterternary"
           }
          ],
          "surface": [
           {
            "colorbar": {
             "outlinewidth": 0,
             "ticks": ""
            },
            "colorscale": [
             [
              0,
              "#0d0887"
             ],
             [
              0.1111111111111111,
              "#46039f"
             ],
             [
              0.2222222222222222,
              "#7201a8"
             ],
             [
              0.3333333333333333,
              "#9c179e"
             ],
             [
              0.4444444444444444,
              "#bd3786"
             ],
             [
              0.5555555555555556,
              "#d8576b"
             ],
             [
              0.6666666666666666,
              "#ed7953"
             ],
             [
              0.7777777777777778,
              "#fb9f3a"
             ],
             [
              0.8888888888888888,
              "#fdca26"
             ],
             [
              1,
              "#f0f921"
             ]
            ],
            "type": "surface"
           }
          ],
          "table": [
           {
            "cells": {
             "fill": {
              "color": "#EBF0F8"
             },
             "line": {
              "color": "white"
             }
            },
            "header": {
             "fill": {
              "color": "#C8D4E3"
             },
             "line": {
              "color": "white"
             }
            },
            "type": "table"
           }
          ]
         },
         "layout": {
          "annotationdefaults": {
           "arrowcolor": "#2a3f5f",
           "arrowhead": 0,
           "arrowwidth": 1
          },
          "autotypenumbers": "strict",
          "coloraxis": {
           "colorbar": {
            "outlinewidth": 0,
            "ticks": ""
           }
          },
          "colorscale": {
           "diverging": [
            [
             0,
             "#8e0152"
            ],
            [
             0.1,
             "#c51b7d"
            ],
            [
             0.2,
             "#de77ae"
            ],
            [
             0.3,
             "#f1b6da"
            ],
            [
             0.4,
             "#fde0ef"
            ],
            [
             0.5,
             "#f7f7f7"
            ],
            [
             0.6,
             "#e6f5d0"
            ],
            [
             0.7,
             "#b8e186"
            ],
            [
             0.8,
             "#7fbc41"
            ],
            [
             0.9,
             "#4d9221"
            ],
            [
             1,
             "#276419"
            ]
           ],
           "sequential": [
            [
             0,
             "#0d0887"
            ],
            [
             0.1111111111111111,
             "#46039f"
            ],
            [
             0.2222222222222222,
             "#7201a8"
            ],
            [
             0.3333333333333333,
             "#9c179e"
            ],
            [
             0.4444444444444444,
             "#bd3786"
            ],
            [
             0.5555555555555556,
             "#d8576b"
            ],
            [
             0.6666666666666666,
             "#ed7953"
            ],
            [
             0.7777777777777778,
             "#fb9f3a"
            ],
            [
             0.8888888888888888,
             "#fdca26"
            ],
            [
             1,
             "#f0f921"
            ]
           ],
           "sequentialminus": [
            [
             0,
             "#0d0887"
            ],
            [
             0.1111111111111111,
             "#46039f"
            ],
            [
             0.2222222222222222,
             "#7201a8"
            ],
            [
             0.3333333333333333,
             "#9c179e"
            ],
            [
             0.4444444444444444,
             "#bd3786"
            ],
            [
             0.5555555555555556,
             "#d8576b"
            ],
            [
             0.6666666666666666,
             "#ed7953"
            ],
            [
             0.7777777777777778,
             "#fb9f3a"
            ],
            [
             0.8888888888888888,
             "#fdca26"
            ],
            [
             1,
             "#f0f921"
            ]
           ]
          },
          "colorway": [
           "#636efa",
           "#EF553B",
           "#00cc96",
           "#ab63fa",
           "#FFA15A",
           "#19d3f3",
           "#FF6692",
           "#B6E880",
           "#FF97FF",
           "#FECB52"
          ],
          "font": {
           "color": "#2a3f5f"
          },
          "geo": {
           "bgcolor": "white",
           "lakecolor": "white",
           "landcolor": "#E5ECF6",
           "showlakes": true,
           "showland": true,
           "subunitcolor": "white"
          },
          "hoverlabel": {
           "align": "left"
          },
          "hovermode": "closest",
          "mapbox": {
           "style": "light"
          },
          "paper_bgcolor": "white",
          "plot_bgcolor": "#E5ECF6",
          "polar": {
           "angularaxis": {
            "gridcolor": "white",
            "linecolor": "white",
            "ticks": ""
           },
           "bgcolor": "#E5ECF6",
           "radialaxis": {
            "gridcolor": "white",
            "linecolor": "white",
            "ticks": ""
           }
          },
          "scene": {
           "xaxis": {
            "backgroundcolor": "#E5ECF6",
            "gridcolor": "white",
            "gridwidth": 2,
            "linecolor": "white",
            "showbackground": true,
            "ticks": "",
            "zerolinecolor": "white"
           },
           "yaxis": {
            "backgroundcolor": "#E5ECF6",
            "gridcolor": "white",
            "gridwidth": 2,
            "linecolor": "white",
            "showbackground": true,
            "ticks": "",
            "zerolinecolor": "white"
           },
           "zaxis": {
            "backgroundcolor": "#E5ECF6",
            "gridcolor": "white",
            "gridwidth": 2,
            "linecolor": "white",
            "showbackground": true,
            "ticks": "",
            "zerolinecolor": "white"
           }
          },
          "shapedefaults": {
           "line": {
            "color": "#2a3f5f"
           }
          },
          "ternary": {
           "aaxis": {
            "gridcolor": "white",
            "linecolor": "white",
            "ticks": ""
           },
           "baxis": {
            "gridcolor": "white",
            "linecolor": "white",
            "ticks": ""
           },
           "bgcolor": "#E5ECF6",
           "caxis": {
            "gridcolor": "white",
            "linecolor": "white",
            "ticks": ""
           }
          },
          "title": {
           "x": 0.05
          },
          "xaxis": {
           "automargin": true,
           "gridcolor": "white",
           "linecolor": "white",
           "ticks": "",
           "title": {
            "standoff": 15
           },
           "zerolinecolor": "white",
           "zerolinewidth": 2
          },
          "yaxis": {
           "automargin": true,
           "gridcolor": "white",
           "linecolor": "white",
           "ticks": "",
           "title": {
            "standoff": 15
           },
           "zerolinecolor": "white",
           "zerolinewidth": 2
          }
         }
        },
        "title": {
         "text": "Top 35 Cities Location"
        }
       }
      }
     },
     "metadata": {},
     "output_type": "display_data"
    }
   ],
   "source": [
    "fig = px.scatter_mapbox(\n",
    "        cities_df, \n",
    "        lat=\"latitude\", \n",
    "        lon=\"longitude\",\n",
    "        color=\"city\",\n",
    "        mapbox_style=\"carto-positron\",\n",
    "        zoom=3.7,\n",
    "        title='Top 35 Cities Location'\n",
    ")\n",
    "\n",
    "fig.show()"
   ]
  },
  {
   "cell_type": "code",
   "execution_count": 53,
   "metadata": {},
   "outputs": [
    {
     "data": {
      "text/plain": [
       "\"# we save our information\\ncities_df.to_csv('cities_lat_lon.csv', index = False)\""
      ]
     },
     "execution_count": 53,
     "metadata": {},
     "output_type": "execute_result"
    }
   ],
   "source": [
    "\"\"\"# we save our information\n",
    "cities_df.to_csv('cities_lat_lon.csv', index = False)\"\"\""
   ]
  },
  {
   "attachments": {},
   "cell_type": "markdown",
   "metadata": {},
   "source": [
    "---------\n",
    "### __2. Get weather data from open_weather API__\n",
    "---------"
   ]
  },
  {
   "cell_type": "code",
   "execution_count": 54,
   "metadata": {},
   "outputs": [],
   "source": [
    "key = pd.read_csv('OpenWeather_API_KEY.txt')"
   ]
  },
  {
   "cell_type": "code",
   "execution_count": 55,
   "metadata": {},
   "outputs": [],
   "source": [
    "url_open_weather_map = 'https://api.openweathermap.org/data/3.0/onecall?'\n",
    "\n",
    "def get_weather_info (lat, lon, exclude, API_key = key, units= 'metric'):\n",
    "    # again, with this function we create a dictionary with the parameters that will be passed to the API request\n",
    "    params = {'lat': lat, 'lon': lon, 'exclude': exclude, 'appid': API_key, 'units': units}\n",
    "    r = requests.get(url_open_weather_map, params=params)\n",
    "    sleep(1)\n",
    "    return r.json()"
   ]
  },
  {
   "cell_type": "code",
   "execution_count": 56,
   "metadata": {},
   "outputs": [],
   "source": [
    "def convert_day_time(unixDt):\n",
    "    utc_time = datetime.datetime.fromtimestamp(unixDt, timezone.utc)\n",
    "    local_time = utc_time.astimezone()\n",
    "    return (local_time.strftime(\"%Y-%m-%d %H:%M:%S\"))"
   ]
  },
  {
   "cell_type": "code",
   "execution_count": 57,
   "metadata": {},
   "outputs": [],
   "source": [
    "columns = ['day_time', 'temperature', 'probability_to_rain', 'weather_description', 'cid']\n",
    "weather_desc = []\n",
    "\n",
    "# we loop over every cities in our cities_df to extract the cid, the lat and lon\n",
    "for i in range(len(cities_df)):\n",
    "    \n",
    "    cid = cities_df.loc[i, 'cid']\n",
    "    latitude = cities_df.loc[i, 'latitude']\n",
    "    longitude = cities_df.loc[i, 'longitude']\n",
    "\n",
    "    # we call our function to obtain the weather information and loop to get the next 7 days\n",
    "    r_weather = get_weather_info(lat=latitude, lon=longitude, exclude='current, minutely, hourly, alerts')\n",
    "    \n",
    "    for j in range(1, 8):\n",
    "\n",
    "        day_time = convert_day_time(int(r_weather['daily'][j]['dt']))\n",
    "        temperature = r_weather['daily'][j]['temp']['day']\n",
    "        probability_to_rain = r_weather['daily'][j]['pop']\n",
    "        weather = r_weather['daily'][j]['weather'][0]['description']\n",
    "        \n",
    "        weather_desc.append([day_time, temperature, probability_to_rain, weather, cid])\n",
    "    \n",
    "weather_df = pd.DataFrame(weather_desc, columns=columns)"
   ]
  },
  {
   "cell_type": "code",
   "execution_count": 58,
   "metadata": {},
   "outputs": [
    {
     "name": "stdout",
     "output_type": "stream",
     "text": [
      "\n",
      "Display of dataset: \n",
      "\n"
     ]
    },
    {
     "data": {
      "text/html": [
       "<div>\n",
       "<style scoped>\n",
       "    .dataframe tbody tr th:only-of-type {\n",
       "        vertical-align: middle;\n",
       "    }\n",
       "\n",
       "    .dataframe tbody tr th {\n",
       "        vertical-align: top;\n",
       "    }\n",
       "\n",
       "    .dataframe thead th {\n",
       "        text-align: right;\n",
       "    }\n",
       "</style>\n",
       "<table border=\"1\" class=\"dataframe\">\n",
       "  <thead>\n",
       "    <tr style=\"text-align: right;\">\n",
       "      <th></th>\n",
       "      <th>day_time</th>\n",
       "      <th>temperature</th>\n",
       "      <th>probability_to_rain</th>\n",
       "      <th>weather_description</th>\n",
       "      <th>cid</th>\n",
       "    </tr>\n",
       "  </thead>\n",
       "  <tbody>\n",
       "    <tr>\n",
       "      <th>0</th>\n",
       "      <td>2023-05-10 13:00:00</td>\n",
       "      <td>20.14</td>\n",
       "      <td>0.00</td>\n",
       "      <td>clear sky</td>\n",
       "      <td>0</td>\n",
       "    </tr>\n",
       "    <tr>\n",
       "      <th>1</th>\n",
       "      <td>2023-05-11 13:00:00</td>\n",
       "      <td>19.37</td>\n",
       "      <td>0.00</td>\n",
       "      <td>scattered clouds</td>\n",
       "      <td>0</td>\n",
       "    </tr>\n",
       "    <tr>\n",
       "      <th>2</th>\n",
       "      <td>2023-05-12 13:00:00</td>\n",
       "      <td>17.43</td>\n",
       "      <td>0.30</td>\n",
       "      <td>light rain</td>\n",
       "      <td>0</td>\n",
       "    </tr>\n",
       "    <tr>\n",
       "      <th>3</th>\n",
       "      <td>2023-05-13 13:00:00</td>\n",
       "      <td>18.31</td>\n",
       "      <td>0.73</td>\n",
       "      <td>light rain</td>\n",
       "      <td>0</td>\n",
       "    </tr>\n",
       "    <tr>\n",
       "      <th>4</th>\n",
       "      <td>2023-05-14 13:00:00</td>\n",
       "      <td>22.53</td>\n",
       "      <td>0.39</td>\n",
       "      <td>scattered clouds</td>\n",
       "      <td>0</td>\n",
       "    </tr>\n",
       "    <tr>\n",
       "      <th>5</th>\n",
       "      <td>2023-05-15 13:00:00</td>\n",
       "      <td>17.18</td>\n",
       "      <td>0.00</td>\n",
       "      <td>overcast clouds</td>\n",
       "      <td>0</td>\n",
       "    </tr>\n",
       "    <tr>\n",
       "      <th>6</th>\n",
       "      <td>2023-05-16 13:00:00</td>\n",
       "      <td>17.59</td>\n",
       "      <td>0.09</td>\n",
       "      <td>few clouds</td>\n",
       "      <td>0</td>\n",
       "    </tr>\n",
       "    <tr>\n",
       "      <th>7</th>\n",
       "      <td>2023-05-10 13:00:00</td>\n",
       "      <td>18.76</td>\n",
       "      <td>0.37</td>\n",
       "      <td>clear sky</td>\n",
       "      <td>1</td>\n",
       "    </tr>\n",
       "    <tr>\n",
       "      <th>8</th>\n",
       "      <td>2023-05-11 13:00:00</td>\n",
       "      <td>18.14</td>\n",
       "      <td>0.00</td>\n",
       "      <td>clear sky</td>\n",
       "      <td>1</td>\n",
       "    </tr>\n",
       "    <tr>\n",
       "      <th>9</th>\n",
       "      <td>2023-05-12 13:00:00</td>\n",
       "      <td>17.66</td>\n",
       "      <td>0.63</td>\n",
       "      <td>light rain</td>\n",
       "      <td>1</td>\n",
       "    </tr>\n",
       "    <tr>\n",
       "      <th>10</th>\n",
       "      <td>2023-05-13 13:00:00</td>\n",
       "      <td>18.90</td>\n",
       "      <td>1.00</td>\n",
       "      <td>moderate rain</td>\n",
       "      <td>1</td>\n",
       "    </tr>\n",
       "  </tbody>\n",
       "</table>\n",
       "</div>"
      ],
      "text/plain": [
       "               day_time  temperature  probability_to_rain weather_description  \\\n",
       "0   2023-05-10 13:00:00        20.14                 0.00           clear sky   \n",
       "1   2023-05-11 13:00:00        19.37                 0.00    scattered clouds   \n",
       "2   2023-05-12 13:00:00        17.43                 0.30          light rain   \n",
       "3   2023-05-13 13:00:00        18.31                 0.73          light rain   \n",
       "4   2023-05-14 13:00:00        22.53                 0.39    scattered clouds   \n",
       "5   2023-05-15 13:00:00        17.18                 0.00     overcast clouds   \n",
       "6   2023-05-16 13:00:00        17.59                 0.09          few clouds   \n",
       "7   2023-05-10 13:00:00        18.76                 0.37           clear sky   \n",
       "8   2023-05-11 13:00:00        18.14                 0.00           clear sky   \n",
       "9   2023-05-12 13:00:00        17.66                 0.63          light rain   \n",
       "10  2023-05-13 13:00:00        18.90                 1.00       moderate rain   \n",
       "\n",
       "    cid  \n",
       "0     0  \n",
       "1     0  \n",
       "2     0  \n",
       "3     0  \n",
       "4     0  \n",
       "5     0  \n",
       "6     0  \n",
       "7     1  \n",
       "8     1  \n",
       "9     1  \n",
       "10    1  "
      ]
     },
     "metadata": {},
     "output_type": "display_data"
    },
    {
     "name": "stdout",
     "output_type": "stream",
     "text": [
      "\n",
      "Main statistics: \n",
      "\n"
     ]
    },
    {
     "data": {
      "text/html": [
       "<div>\n",
       "<style scoped>\n",
       "    .dataframe tbody tr th:only-of-type {\n",
       "        vertical-align: middle;\n",
       "    }\n",
       "\n",
       "    .dataframe tbody tr th {\n",
       "        vertical-align: top;\n",
       "    }\n",
       "\n",
       "    .dataframe thead th {\n",
       "        text-align: right;\n",
       "    }\n",
       "</style>\n",
       "<table border=\"1\" class=\"dataframe\">\n",
       "  <thead>\n",
       "    <tr style=\"text-align: right;\">\n",
       "      <th></th>\n",
       "      <th>temperature</th>\n",
       "      <th>probability_to_rain</th>\n",
       "      <th>cid</th>\n",
       "    </tr>\n",
       "  </thead>\n",
       "  <tbody>\n",
       "    <tr>\n",
       "      <th>count</th>\n",
       "      <td>245.00</td>\n",
       "      <td>245.00</td>\n",
       "      <td>245.00</td>\n",
       "    </tr>\n",
       "    <tr>\n",
       "      <th>mean</th>\n",
       "      <td>14.92</td>\n",
       "      <td>0.66</td>\n",
       "      <td>17.00</td>\n",
       "    </tr>\n",
       "    <tr>\n",
       "      <th>std</th>\n",
       "      <td>3.37</td>\n",
       "      <td>0.36</td>\n",
       "      <td>10.12</td>\n",
       "    </tr>\n",
       "    <tr>\n",
       "      <th>min</th>\n",
       "      <td>5.39</td>\n",
       "      <td>0.00</td>\n",
       "      <td>0.00</td>\n",
       "    </tr>\n",
       "    <tr>\n",
       "      <th>25%</th>\n",
       "      <td>12.53</td>\n",
       "      <td>0.39</td>\n",
       "      <td>8.00</td>\n",
       "    </tr>\n",
       "    <tr>\n",
       "      <th>50%</th>\n",
       "      <td>15.01</td>\n",
       "      <td>0.84</td>\n",
       "      <td>17.00</td>\n",
       "    </tr>\n",
       "    <tr>\n",
       "      <th>75%</th>\n",
       "      <td>17.59</td>\n",
       "      <td>1.00</td>\n",
       "      <td>26.00</td>\n",
       "    </tr>\n",
       "    <tr>\n",
       "      <th>max</th>\n",
       "      <td>22.58</td>\n",
       "      <td>1.00</td>\n",
       "      <td>34.00</td>\n",
       "    </tr>\n",
       "  </tbody>\n",
       "</table>\n",
       "</div>"
      ],
      "text/plain": [
       "      temperature probability_to_rain     cid\n",
       "count      245.00              245.00  245.00\n",
       "mean        14.92                0.66   17.00\n",
       "std          3.37                0.36   10.12\n",
       "min          5.39                0.00    0.00\n",
       "25%         12.53                0.39    8.00\n",
       "50%         15.01                0.84   17.00\n",
       "75%         17.59                1.00   26.00\n",
       "max         22.58                1.00   34.00"
      ]
     },
     "metadata": {},
     "output_type": "display_data"
    },
    {
     "name": "stdout",
     "output_type": "stream",
     "text": [
      "\n",
      "Missing values:\n",
      "\n"
     ]
    },
    {
     "data": {
      "text/html": [
       "<div>\n",
       "<style scoped>\n",
       "    .dataframe tbody tr th:only-of-type {\n",
       "        vertical-align: middle;\n",
       "    }\n",
       "\n",
       "    .dataframe tbody tr th {\n",
       "        vertical-align: top;\n",
       "    }\n",
       "\n",
       "    .dataframe thead th {\n",
       "        text-align: right;\n",
       "    }\n",
       "</style>\n",
       "<table border=\"1\" class=\"dataframe\">\n",
       "  <thead>\n",
       "    <tr style=\"text-align: right;\">\n",
       "      <th></th>\n",
       "      <th>Percentage of Missing Values</th>\n",
       "      <th>Number of Missing Values</th>\n",
       "    </tr>\n",
       "  </thead>\n",
       "  <tbody>\n",
       "    <tr>\n",
       "      <th>day_time</th>\n",
       "      <td>0.0</td>\n",
       "      <td>0</td>\n",
       "    </tr>\n",
       "    <tr>\n",
       "      <th>temperature</th>\n",
       "      <td>0.0</td>\n",
       "      <td>0</td>\n",
       "    </tr>\n",
       "    <tr>\n",
       "      <th>probability_to_rain</th>\n",
       "      <td>0.0</td>\n",
       "      <td>0</td>\n",
       "    </tr>\n",
       "    <tr>\n",
       "      <th>weather_description</th>\n",
       "      <td>0.0</td>\n",
       "      <td>0</td>\n",
       "    </tr>\n",
       "    <tr>\n",
       "      <th>cid</th>\n",
       "      <td>0.0</td>\n",
       "      <td>0</td>\n",
       "    </tr>\n",
       "  </tbody>\n",
       "</table>\n",
       "</div>"
      ],
      "text/plain": [
       "                     Percentage of Missing Values  Number of Missing Values\n",
       "day_time                                      0.0                         0\n",
       "temperature                                   0.0                         0\n",
       "probability_to_rain                           0.0                         0\n",
       "weather_description                           0.0                         0\n",
       "cid                                           0.0                         0"
      ]
     },
     "metadata": {},
     "output_type": "display_data"
    }
   ],
   "source": [
    "print()\n",
    "print('Display of dataset: ')\n",
    "print()\n",
    "display(weather_df.head(11))\n",
    "\n",
    "print()\n",
    "print('Main statistics: ')\n",
    "print()\n",
    "df_stats = weather_df.describe().apply(lambda s: s.apply('{0:.2f}'.format))\n",
    "display(df_stats)\n",
    "\n",
    "print()\n",
    "print ('Missing values:')\n",
    "print()\n",
    "# Here I created a function that will return the percentage and the quantity of missing values in our DF\n",
    "def missing_values():\n",
    "    \n",
    "    missing = (pd.DataFrame(weather_df.isnull().sum()/weather_df.shape[0])*100).round(2)\n",
    "    missing.columns = ['Percentage of Missing Values']\n",
    "    missing['Number of Missing Values'] = pd.DataFrame(weather_df.isnull().sum())\n",
    "    \n",
    "    return missing.sort_values(by='Percentage of Missing Values', ascending=False)\n",
    "\n",
    "display(missing_values())"
   ]
  },
  {
   "cell_type": "code",
   "execution_count": 59,
   "metadata": {},
   "outputs": [
    {
     "data": {
      "text/plain": [
       "245"
      ]
     },
     "execution_count": 59,
     "metadata": {},
     "output_type": "execute_result"
    }
   ],
   "source": [
    "len(weather_df)"
   ]
  },
  {
   "cell_type": "code",
   "execution_count": 60,
   "metadata": {},
   "outputs": [
    {
     "data": {
      "text/plain": [
       "\"# we save our information\\nweather_df.to_csv('weather_forecast.csv', index = False)\""
      ]
     },
     "execution_count": 60,
     "metadata": {},
     "output_type": "execute_result"
    }
   ],
   "source": [
    "\"\"\"# we save our information\n",
    "weather_df.to_csv('weather_forecast.csv', index = False)\"\"\""
   ]
  },
  {
   "attachments": {},
   "cell_type": "markdown",
   "metadata": {},
   "source": [
    "---------\n",
    "### __3. Scrap Booking.com__\n",
    "---------"
   ]
  },
  {
   "attachments": {},
   "cell_type": "markdown",
   "metadata": {},
   "source": [
    "To take a look at our spider, please open the file named: 'Scrap_Booking.py'"
   ]
  },
  {
   "cell_type": "code",
   "execution_count": 61,
   "metadata": {},
   "outputs": [],
   "source": [
    "# the information scraped by our spider has been stored in the file called:'booking_hotel_scraping.json'\n",
    "booking_df = pd.read_json('booking_hotel_scraping_1.json')"
   ]
  },
  {
   "cell_type": "code",
   "execution_count": 62,
   "metadata": {},
   "outputs": [
    {
     "name": "stdout",
     "output_type": "stream",
     "text": [
      "\n",
      "Display of dataset: \n",
      "\n"
     ]
    },
    {
     "data": {
      "text/html": [
       "<div>\n",
       "<style scoped>\n",
       "    .dataframe tbody tr th:only-of-type {\n",
       "        vertical-align: middle;\n",
       "    }\n",
       "\n",
       "    .dataframe tbody tr th {\n",
       "        vertical-align: top;\n",
       "    }\n",
       "\n",
       "    .dataframe thead th {\n",
       "        text-align: right;\n",
       "    }\n",
       "</style>\n",
       "<table border=\"1\" class=\"dataframe\">\n",
       "  <thead>\n",
       "    <tr style=\"text-align: right;\">\n",
       "      <th></th>\n",
       "      <th>city</th>\n",
       "      <th>name</th>\n",
       "      <th>description</th>\n",
       "      <th>rating</th>\n",
       "      <th>location</th>\n",
       "      <th>url</th>\n",
       "    </tr>\n",
       "  </thead>\n",
       "  <tbody>\n",
       "    <tr>\n",
       "      <th>0</th>\n",
       "      <td>Amiens</td>\n",
       "      <td>WHITE HOUSE DHAVERNAS - PROCHE CENTRE - PARKIN...</td>\n",
       "      <td>Situé à Amiens, en Picardie, à proximité de la...</td>\n",
       "      <td>8,7</td>\n",
       "      <td>Amiens</td>\n",
       "      <td>https://www.booking.com/hotel/fr/white-house-d...</td>\n",
       "    </tr>\n",
       "    <tr>\n",
       "      <th>1</th>\n",
       "      <td>Amiens</td>\n",
       "      <td>La Parenthèse Envoutée</td>\n",
       "      <td>Situé à Amiens, en Picardie, à proximité de la...</td>\n",
       "      <td>9,0</td>\n",
       "      <td>Amiens</td>\n",
       "      <td>https://www.booking.com/hotel/fr/aux-caves.fr....</td>\n",
       "    </tr>\n",
       "    <tr>\n",
       "      <th>2</th>\n",
       "      <td>Amiens</td>\n",
       "      <td>Holiday Inn Express Amiens, an IHG Hotel</td>\n",
       "      <td>Rénové en avril 2015, le Holiday Inn Express A...</td>\n",
       "      <td>7,9</td>\n",
       "      <td>Amiens</td>\n",
       "      <td>https://www.booking.com/hotel/fr/express-by-ho...</td>\n",
       "    </tr>\n",
       "    <tr>\n",
       "      <th>3</th>\n",
       "      <td>Amiens</td>\n",
       "      <td>L'Oratoire</td>\n",
       "      <td>Situé à Amiens, à proximité de la gare, du par...</td>\n",
       "      <td>8,0</td>\n",
       "      <td>Amiens</td>\n",
       "      <td>https://www.booking.com/hotel/fr/oratoire-amie...</td>\n",
       "    </tr>\n",
       "    <tr>\n",
       "      <th>4</th>\n",
       "      <td>Amiens</td>\n",
       "      <td>Hotel Le Prieuré et La Résidence</td>\n",
       "      <td>L'Hotel Le Prieuré et La Résidence est situé d...</td>\n",
       "      <td>8,3</td>\n",
       "      <td>Amiens</td>\n",
       "      <td>https://www.booking.com/hotel/fr/le-prieure-am...</td>\n",
       "    </tr>\n",
       "    <tr>\n",
       "      <th>5</th>\n",
       "      <td>Amiens</td>\n",
       "      <td>Le Cottage des Hortillonnages</td>\n",
       "      <td>Le Cottage des Hortillonnages est situé à Amie...</td>\n",
       "      <td>9,3</td>\n",
       "      <td>Amiens</td>\n",
       "      <td>https://www.booking.com/hotel/fr/le-cottage-de...</td>\n",
       "    </tr>\n",
       "    <tr>\n",
       "      <th>6</th>\n",
       "      <td>Amiens</td>\n",
       "      <td>Les Augustins</td>\n",
       "      <td>Situé à Amiens, à moins de 700 mètres de la ga...</td>\n",
       "      <td>7,9</td>\n",
       "      <td>Amiens</td>\n",
       "      <td>https://www.booking.com/hotel/fr/les-augustins...</td>\n",
       "    </tr>\n",
       "    <tr>\n",
       "      <th>7</th>\n",
       "      <td>Amiens</td>\n",
       "      <td>Moxy Amiens</td>\n",
       "      <td>Situé au cœur de la ville et à deux pas de la ...</td>\n",
       "      <td>8,5</td>\n",
       "      <td>Amiens</td>\n",
       "      <td>https://www.booking.com/hotel/fr/campanile-ami...</td>\n",
       "    </tr>\n",
       "    <tr>\n",
       "      <th>8</th>\n",
       "      <td>Amiens</td>\n",
       "      <td>Chill &amp; Sun</td>\n",
       "      <td>Doté d'une terrasse et offrant une vue sur le ...</td>\n",
       "      <td>8,7</td>\n",
       "      <td>Amiens</td>\n",
       "      <td>https://www.booking.com/hotel/fr/t2-industriel...</td>\n",
       "    </tr>\n",
       "    <tr>\n",
       "      <th>9</th>\n",
       "      <td>Amiens</td>\n",
       "      <td>Odalys City Amiens Blamont</td>\n",
       "      <td>Situé à 2,8 km du Zénith d'Amiens et à 900 mèt...</td>\n",
       "      <td>8,0</td>\n",
       "      <td>Amiens</td>\n",
       "      <td>https://www.booking.com/hotel/fr/appart-39-oda...</td>\n",
       "    </tr>\n",
       "    <tr>\n",
       "      <th>10</th>\n",
       "      <td>St Malo</td>\n",
       "      <td>Apartment Le 1727</td>\n",
       "      <td>Situé à seulement 5 minutes à pied de la plage...</td>\n",
       "      <td>9,8</td>\n",
       "      <td>Intra muros, Saint-Malo</td>\n",
       "      <td>https://www.booking.com/hotel/fr/apartment-le-...</td>\n",
       "    </tr>\n",
       "  </tbody>\n",
       "</table>\n",
       "</div>"
      ],
      "text/plain": [
       "       city                                               name  \\\n",
       "0    Amiens  WHITE HOUSE DHAVERNAS - PROCHE CENTRE - PARKIN...   \n",
       "1    Amiens                             La Parenthèse Envoutée   \n",
       "2    Amiens           Holiday Inn Express Amiens, an IHG Hotel   \n",
       "3    Amiens                                         L'Oratoire   \n",
       "4    Amiens                   Hotel Le Prieuré et La Résidence   \n",
       "5    Amiens                      Le Cottage des Hortillonnages   \n",
       "6    Amiens                                      Les Augustins   \n",
       "7    Amiens                                        Moxy Amiens   \n",
       "8    Amiens                                        Chill & Sun   \n",
       "9    Amiens                         Odalys City Amiens Blamont   \n",
       "10  St Malo                                  Apartment Le 1727   \n",
       "\n",
       "                                          description rating  \\\n",
       "0   Situé à Amiens, en Picardie, à proximité de la...    8,7   \n",
       "1   Situé à Amiens, en Picardie, à proximité de la...    9,0   \n",
       "2   Rénové en avril 2015, le Holiday Inn Express A...    7,9   \n",
       "3   Situé à Amiens, à proximité de la gare, du par...    8,0   \n",
       "4   L'Hotel Le Prieuré et La Résidence est situé d...    8,3   \n",
       "5   Le Cottage des Hortillonnages est situé à Amie...    9,3   \n",
       "6   Situé à Amiens, à moins de 700 mètres de la ga...    7,9   \n",
       "7   Situé au cœur de la ville et à deux pas de la ...    8,5   \n",
       "8   Doté d'une terrasse et offrant une vue sur le ...    8,7   \n",
       "9   Situé à 2,8 km du Zénith d'Amiens et à 900 mèt...    8,0   \n",
       "10  Situé à seulement 5 minutes à pied de la plage...    9,8   \n",
       "\n",
       "                   location                                                url  \n",
       "0                    Amiens  https://www.booking.com/hotel/fr/white-house-d...  \n",
       "1                    Amiens  https://www.booking.com/hotel/fr/aux-caves.fr....  \n",
       "2                    Amiens  https://www.booking.com/hotel/fr/express-by-ho...  \n",
       "3                    Amiens  https://www.booking.com/hotel/fr/oratoire-amie...  \n",
       "4                    Amiens  https://www.booking.com/hotel/fr/le-prieure-am...  \n",
       "5                    Amiens  https://www.booking.com/hotel/fr/le-cottage-de...  \n",
       "6                    Amiens  https://www.booking.com/hotel/fr/les-augustins...  \n",
       "7                    Amiens  https://www.booking.com/hotel/fr/campanile-ami...  \n",
       "8                    Amiens  https://www.booking.com/hotel/fr/t2-industriel...  \n",
       "9                    Amiens  https://www.booking.com/hotel/fr/appart-39-oda...  \n",
       "10  Intra muros, Saint-Malo  https://www.booking.com/hotel/fr/apartment-le-...  "
      ]
     },
     "metadata": {},
     "output_type": "display_data"
    },
    {
     "name": "stdout",
     "output_type": "stream",
     "text": [
      "\n",
      "Main statistics: \n",
      "\n"
     ]
    },
    {
     "data": {
      "text/html": [
       "<div>\n",
       "<style scoped>\n",
       "    .dataframe tbody tr th:only-of-type {\n",
       "        vertical-align: middle;\n",
       "    }\n",
       "\n",
       "    .dataframe tbody tr th {\n",
       "        vertical-align: top;\n",
       "    }\n",
       "\n",
       "    .dataframe thead th {\n",
       "        text-align: right;\n",
       "    }\n",
       "</style>\n",
       "<table border=\"1\" class=\"dataframe\">\n",
       "  <thead>\n",
       "    <tr style=\"text-align: right;\">\n",
       "      <th></th>\n",
       "      <th>city</th>\n",
       "      <th>name</th>\n",
       "      <th>description</th>\n",
       "      <th>rating</th>\n",
       "      <th>location</th>\n",
       "      <th>url</th>\n",
       "    </tr>\n",
       "  </thead>\n",
       "  <tbody>\n",
       "    <tr>\n",
       "      <th>count</th>\n",
       "      <td>875</td>\n",
       "      <td>875</td>\n",
       "      <td>875</td>\n",
       "      <td>847</td>\n",
       "      <td>875</td>\n",
       "      <td>875</td>\n",
       "    </tr>\n",
       "    <tr>\n",
       "      <th>unique</th>\n",
       "      <td>35</td>\n",
       "      <td>872</td>\n",
       "      <td>875</td>\n",
       "      <td>37</td>\n",
       "      <td>136</td>\n",
       "      <td>875</td>\n",
       "    </tr>\n",
       "    <tr>\n",
       "      <th>top</th>\n",
       "      <td>Amiens</td>\n",
       "      <td>Hôtel Le Médiéval</td>\n",
       "      <td>Situé à Amiens, en Picardie, à proximité de la...</td>\n",
       "      <td>8,0</td>\n",
       "      <td>Amiens</td>\n",
       "      <td>https://www.booking.com/hotel/fr/white-house-d...</td>\n",
       "    </tr>\n",
       "    <tr>\n",
       "      <th>freq</th>\n",
       "      <td>25</td>\n",
       "      <td>2</td>\n",
       "      <td>1</td>\n",
       "      <td>59</td>\n",
       "      <td>25</td>\n",
       "      <td>1</td>\n",
       "    </tr>\n",
       "  </tbody>\n",
       "</table>\n",
       "</div>"
      ],
      "text/plain": [
       "          city               name  \\\n",
       "count      875                875   \n",
       "unique      35                872   \n",
       "top     Amiens  Hôtel Le Médiéval   \n",
       "freq        25                  2   \n",
       "\n",
       "                                              description rating location  \\\n",
       "count                                                 875    847      875   \n",
       "unique                                                875     37      136   \n",
       "top     Situé à Amiens, en Picardie, à proximité de la...    8,0   Amiens   \n",
       "freq                                                    1     59       25   \n",
       "\n",
       "                                                      url  \n",
       "count                                                 875  \n",
       "unique                                                875  \n",
       "top     https://www.booking.com/hotel/fr/white-house-d...  \n",
       "freq                                                    1  "
      ]
     },
     "metadata": {},
     "output_type": "display_data"
    },
    {
     "name": "stdout",
     "output_type": "stream",
     "text": [
      "\n",
      "Missing values:\n",
      "\n"
     ]
    },
    {
     "data": {
      "text/html": [
       "<div>\n",
       "<style scoped>\n",
       "    .dataframe tbody tr th:only-of-type {\n",
       "        vertical-align: middle;\n",
       "    }\n",
       "\n",
       "    .dataframe tbody tr th {\n",
       "        vertical-align: top;\n",
       "    }\n",
       "\n",
       "    .dataframe thead th {\n",
       "        text-align: right;\n",
       "    }\n",
       "</style>\n",
       "<table border=\"1\" class=\"dataframe\">\n",
       "  <thead>\n",
       "    <tr style=\"text-align: right;\">\n",
       "      <th></th>\n",
       "      <th>Percentage of Missing Values</th>\n",
       "      <th>Number of Missing Values</th>\n",
       "    </tr>\n",
       "  </thead>\n",
       "  <tbody>\n",
       "    <tr>\n",
       "      <th>rating</th>\n",
       "      <td>3.2</td>\n",
       "      <td>28</td>\n",
       "    </tr>\n",
       "    <tr>\n",
       "      <th>city</th>\n",
       "      <td>0.0</td>\n",
       "      <td>0</td>\n",
       "    </tr>\n",
       "    <tr>\n",
       "      <th>name</th>\n",
       "      <td>0.0</td>\n",
       "      <td>0</td>\n",
       "    </tr>\n",
       "    <tr>\n",
       "      <th>description</th>\n",
       "      <td>0.0</td>\n",
       "      <td>0</td>\n",
       "    </tr>\n",
       "    <tr>\n",
       "      <th>location</th>\n",
       "      <td>0.0</td>\n",
       "      <td>0</td>\n",
       "    </tr>\n",
       "    <tr>\n",
       "      <th>url</th>\n",
       "      <td>0.0</td>\n",
       "      <td>0</td>\n",
       "    </tr>\n",
       "  </tbody>\n",
       "</table>\n",
       "</div>"
      ],
      "text/plain": [
       "             Percentage of Missing Values  Number of Missing Values\n",
       "rating                                3.2                        28\n",
       "city                                  0.0                         0\n",
       "name                                  0.0                         0\n",
       "description                           0.0                         0\n",
       "location                              0.0                         0\n",
       "url                                   0.0                         0"
      ]
     },
     "metadata": {},
     "output_type": "display_data"
    }
   ],
   "source": [
    "print()\n",
    "print('Display of dataset: ')\n",
    "print()\n",
    "display(booking_df.head(11))\n",
    "\n",
    "print()\n",
    "print('Main statistics: ')\n",
    "print()\n",
    "df_stats = booking_df.describe()\n",
    "display(df_stats)\n",
    "\n",
    "print()\n",
    "print ('Missing values:')\n",
    "print()\n",
    "# Here I created a function that will return the percentage and the quantity of missing values in our DF\n",
    "def missing_values():\n",
    "    \n",
    "    missing = (pd.DataFrame(booking_df.isnull().sum()/booking_df.shape[0])*100).round(2)\n",
    "    missing.columns = ['Percentage of Missing Values']\n",
    "    missing['Number of Missing Values'] = pd.DataFrame(booking_df.isnull().sum())\n",
    "    \n",
    "    return missing.sort_values(by='Percentage of Missing Values', ascending=False)\n",
    "\n",
    "display(missing_values())"
   ]
  },
  {
   "cell_type": "code",
   "execution_count": 63,
   "metadata": {},
   "outputs": [],
   "source": [
    "# we put 0 where values are missing in the column 'rating' \n",
    "booking_df['rating'] = booking_df['rating'].fillna(0)"
   ]
  },
  {
   "cell_type": "code",
   "execution_count": 64,
   "metadata": {},
   "outputs": [
    {
     "data": {
      "text/plain": [
       "city           object\n",
       "name           object\n",
       "description    object\n",
       "rating         object\n",
       "location       object\n",
       "url            object\n",
       "dtype: object"
      ]
     },
     "execution_count": 64,
     "metadata": {},
     "output_type": "execute_result"
    }
   ],
   "source": [
    "booking_df.dtypes"
   ]
  },
  {
   "cell_type": "code",
   "execution_count": 65,
   "metadata": {},
   "outputs": [],
   "source": [
    "# we replace the comma by a dot in order to change the type of the column rating\n",
    "booking_df['rating'] = booking_df['rating'].replace({\",\":\".\"}, regex=True)\n",
    "\n",
    "# now we can change the type\n",
    "booking_df['rating'] = booking_df['rating'].astype(float)"
   ]
  },
  {
   "cell_type": "code",
   "execution_count": 66,
   "metadata": {},
   "outputs": [
    {
     "data": {
      "text/plain": [
       "city            object\n",
       "name            object\n",
       "description     object\n",
       "rating         float64\n",
       "location        object\n",
       "url             object\n",
       "dtype: object"
      ]
     },
     "execution_count": 66,
     "metadata": {},
     "output_type": "execute_result"
    }
   ],
   "source": [
    "booking_df.dtypes"
   ]
  },
  {
   "cell_type": "code",
   "execution_count": 67,
   "metadata": {},
   "outputs": [],
   "source": [
    "# for each city we are going to look for the corresponding id in the df cities_df\n",
    "# this will help us when using SQL\n",
    "booking_df['cid'] = booking_df['city'].map(cities_df.set_index('city')['cid'])"
   ]
  },
  {
   "cell_type": "code",
   "execution_count": 68,
   "metadata": {},
   "outputs": [
    {
     "data": {
      "text/html": [
       "<div>\n",
       "<style scoped>\n",
       "    .dataframe tbody tr th:only-of-type {\n",
       "        vertical-align: middle;\n",
       "    }\n",
       "\n",
       "    .dataframe tbody tr th {\n",
       "        vertical-align: top;\n",
       "    }\n",
       "\n",
       "    .dataframe thead th {\n",
       "        text-align: right;\n",
       "    }\n",
       "</style>\n",
       "<table border=\"1\" class=\"dataframe\">\n",
       "  <thead>\n",
       "    <tr style=\"text-align: right;\">\n",
       "      <th></th>\n",
       "      <th>city</th>\n",
       "      <th>name</th>\n",
       "      <th>description</th>\n",
       "      <th>rating</th>\n",
       "      <th>location</th>\n",
       "      <th>url</th>\n",
       "      <th>cid</th>\n",
       "    </tr>\n",
       "  </thead>\n",
       "  <tbody>\n",
       "    <tr>\n",
       "      <th>0</th>\n",
       "      <td>Amiens</td>\n",
       "      <td>WHITE HOUSE DHAVERNAS - PROCHE CENTRE - PARKIN...</td>\n",
       "      <td>Situé à Amiens, en Picardie, à proximité de la...</td>\n",
       "      <td>8.7</td>\n",
       "      <td>Amiens</td>\n",
       "      <td>https://www.booking.com/hotel/fr/white-house-d...</td>\n",
       "      <td>2</td>\n",
       "    </tr>\n",
       "    <tr>\n",
       "      <th>1</th>\n",
       "      <td>Amiens</td>\n",
       "      <td>La Parenthèse Envoutée</td>\n",
       "      <td>Situé à Amiens, en Picardie, à proximité de la...</td>\n",
       "      <td>9.0</td>\n",
       "      <td>Amiens</td>\n",
       "      <td>https://www.booking.com/hotel/fr/aux-caves.fr....</td>\n",
       "      <td>2</td>\n",
       "    </tr>\n",
       "    <tr>\n",
       "      <th>2</th>\n",
       "      <td>Amiens</td>\n",
       "      <td>Holiday Inn Express Amiens, an IHG Hotel</td>\n",
       "      <td>Rénové en avril 2015, le Holiday Inn Express A...</td>\n",
       "      <td>7.9</td>\n",
       "      <td>Amiens</td>\n",
       "      <td>https://www.booking.com/hotel/fr/express-by-ho...</td>\n",
       "      <td>2</td>\n",
       "    </tr>\n",
       "    <tr>\n",
       "      <th>3</th>\n",
       "      <td>Amiens</td>\n",
       "      <td>L'Oratoire</td>\n",
       "      <td>Situé à Amiens, à proximité de la gare, du par...</td>\n",
       "      <td>8.0</td>\n",
       "      <td>Amiens</td>\n",
       "      <td>https://www.booking.com/hotel/fr/oratoire-amie...</td>\n",
       "      <td>2</td>\n",
       "    </tr>\n",
       "    <tr>\n",
       "      <th>4</th>\n",
       "      <td>Amiens</td>\n",
       "      <td>Hotel Le Prieuré et La Résidence</td>\n",
       "      <td>L'Hotel Le Prieuré et La Résidence est situé d...</td>\n",
       "      <td>8.3</td>\n",
       "      <td>Amiens</td>\n",
       "      <td>https://www.booking.com/hotel/fr/le-prieure-am...</td>\n",
       "      <td>2</td>\n",
       "    </tr>\n",
       "    <tr>\n",
       "      <th>...</th>\n",
       "      <td>...</td>\n",
       "      <td>...</td>\n",
       "      <td>...</td>\n",
       "      <td>...</td>\n",
       "      <td>...</td>\n",
       "      <td>...</td>\n",
       "      <td>...</td>\n",
       "    </tr>\n",
       "    <tr>\n",
       "      <th>870</th>\n",
       "      <td>Bayonne</td>\n",
       "      <td>Studio centre Bayonne</td>\n",
       "      <td>Situé à Bayonne, en Aquitaine, le Studio centr...</td>\n",
       "      <td>8.2</td>\n",
       "      <td>Bayonne</td>\n",
       "      <td>https://www.booking.com/hotel/fr/studio-centre...</td>\n",
       "      <td>7</td>\n",
       "    </tr>\n",
       "    <tr>\n",
       "      <th>871</th>\n",
       "      <td>Bayonne</td>\n",
       "      <td>Hôtel des Arceaux</td>\n",
       "      <td>Situé dans une zone piétonne du centre histori...</td>\n",
       "      <td>7.0</td>\n",
       "      <td>Bayonne</td>\n",
       "      <td>https://www.booking.com/hotel/fr/des-arceaux.f...</td>\n",
       "      <td>7</td>\n",
       "    </tr>\n",
       "    <tr>\n",
       "      <th>872</th>\n",
       "      <td>Bayonne</td>\n",
       "      <td>Campanile Bayonne</td>\n",
       "      <td>Situé à 5 minutes en voiture du centre de Bayo...</td>\n",
       "      <td>6.6</td>\n",
       "      <td>Bayonne</td>\n",
       "      <td>https://www.booking.com/hotel/fr/campanile-bay...</td>\n",
       "      <td>7</td>\n",
       "    </tr>\n",
       "    <tr>\n",
       "      <th>873</th>\n",
       "      <td>Bayonne</td>\n",
       "      <td>La Chambre d'Hote de Mano - Centre-ville de Ba...</td>\n",
       "      <td>Situé à 200 mètres de la gare de Bayonne, à mo...</td>\n",
       "      <td>9.4</td>\n",
       "      <td>Bayonne</td>\n",
       "      <td>https://www.booking.com/hotel/fr/chambre-d-39-...</td>\n",
       "      <td>7</td>\n",
       "    </tr>\n",
       "    <tr>\n",
       "      <th>874</th>\n",
       "      <td>Bayonne</td>\n",
       "      <td>Villa AJNA Bayonne</td>\n",
       "      <td>Située à Bayonne, la Villa AJNA Bayonne propos...</td>\n",
       "      <td>8.8</td>\n",
       "      <td>Bayonne</td>\n",
       "      <td>https://www.booking.com/hotel/fr/chambre-chino...</td>\n",
       "      <td>7</td>\n",
       "    </tr>\n",
       "  </tbody>\n",
       "</table>\n",
       "<p>875 rows × 7 columns</p>\n",
       "</div>"
      ],
      "text/plain": [
       "        city                                               name  \\\n",
       "0     Amiens  WHITE HOUSE DHAVERNAS - PROCHE CENTRE - PARKIN...   \n",
       "1     Amiens                             La Parenthèse Envoutée   \n",
       "2     Amiens           Holiday Inn Express Amiens, an IHG Hotel   \n",
       "3     Amiens                                         L'Oratoire   \n",
       "4     Amiens                   Hotel Le Prieuré et La Résidence   \n",
       "..       ...                                                ...   \n",
       "870  Bayonne                              Studio centre Bayonne   \n",
       "871  Bayonne                                  Hôtel des Arceaux   \n",
       "872  Bayonne                                  Campanile Bayonne   \n",
       "873  Bayonne  La Chambre d'Hote de Mano - Centre-ville de Ba...   \n",
       "874  Bayonne                                 Villa AJNA Bayonne   \n",
       "\n",
       "                                           description  rating location  \\\n",
       "0    Situé à Amiens, en Picardie, à proximité de la...     8.7   Amiens   \n",
       "1    Situé à Amiens, en Picardie, à proximité de la...     9.0   Amiens   \n",
       "2    Rénové en avril 2015, le Holiday Inn Express A...     7.9   Amiens   \n",
       "3    Situé à Amiens, à proximité de la gare, du par...     8.0   Amiens   \n",
       "4    L'Hotel Le Prieuré et La Résidence est situé d...     8.3   Amiens   \n",
       "..                                                 ...     ...      ...   \n",
       "870  Situé à Bayonne, en Aquitaine, le Studio centr...     8.2  Bayonne   \n",
       "871  Situé dans une zone piétonne du centre histori...     7.0  Bayonne   \n",
       "872  Situé à 5 minutes en voiture du centre de Bayo...     6.6  Bayonne   \n",
       "873  Situé à 200 mètres de la gare de Bayonne, à mo...     9.4  Bayonne   \n",
       "874  Située à Bayonne, la Villa AJNA Bayonne propos...     8.8  Bayonne   \n",
       "\n",
       "                                                   url  cid  \n",
       "0    https://www.booking.com/hotel/fr/white-house-d...    2  \n",
       "1    https://www.booking.com/hotel/fr/aux-caves.fr....    2  \n",
       "2    https://www.booking.com/hotel/fr/express-by-ho...    2  \n",
       "3    https://www.booking.com/hotel/fr/oratoire-amie...    2  \n",
       "4    https://www.booking.com/hotel/fr/le-prieure-am...    2  \n",
       "..                                                 ...  ...  \n",
       "870  https://www.booking.com/hotel/fr/studio-centre...    7  \n",
       "871  https://www.booking.com/hotel/fr/des-arceaux.f...    7  \n",
       "872  https://www.booking.com/hotel/fr/campanile-bay...    7  \n",
       "873  https://www.booking.com/hotel/fr/chambre-d-39-...    7  \n",
       "874  https://www.booking.com/hotel/fr/chambre-chino...    7  \n",
       "\n",
       "[875 rows x 7 columns]"
      ]
     },
     "execution_count": 68,
     "metadata": {},
     "output_type": "execute_result"
    }
   ],
   "source": [
    "booking_df"
   ]
  },
  {
   "cell_type": "code",
   "execution_count": 69,
   "metadata": {},
   "outputs": [
    {
     "data": {
      "text/plain": [
       "25"
      ]
     },
     "execution_count": 69,
     "metadata": {},
     "output_type": "execute_result"
    }
   ],
   "source": [
    "# checking how many hotels we have, as we should have the number of hotels displayed on 1 page, which is 25\n",
    "num_of_hotels = booking_df[booking_df['city']=='Aix en Provence']['name'].value_counts().sum()\n",
    "num_of_hotels"
   ]
  },
  {
   "cell_type": "code",
   "execution_count": 70,
   "metadata": {},
   "outputs": [
    {
     "data": {
      "text/plain": [
       "450    8.0\n",
       "451    7.3\n",
       "452    0.0\n",
       "453    8.3\n",
       "454    8.0\n",
       "455    8.3\n",
       "456    7.8\n",
       "457    8.1\n",
       "458    7.9\n",
       "459    8.1\n",
       "460    7.9\n",
       "461    8.4\n",
       "462    8.0\n",
       "465    7.8\n",
       "466    7.9\n",
       "467    7.7\n",
       "468    7.1\n",
       "469    9.0\n",
       "470    8.1\n",
       "471    7.7\n",
       "472    8.4\n",
       "473    8.3\n",
       "474    7.6\n",
       "475    7.2\n",
       "476    7.4\n",
       "Name: rating, dtype: float64"
      ]
     },
     "execution_count": 70,
     "metadata": {},
     "output_type": "execute_result"
    }
   ],
   "source": [
    "booking_df[booking_df['city']=='Aix en Provence']['rating']"
   ]
  },
  {
   "cell_type": "code",
   "execution_count": 71,
   "metadata": {},
   "outputs": [
    {
     "data": {
      "text/plain": [
       "\"# we save our information\\nbooking_df.to_csv('booking_scraping_df.csv', index = False)\""
      ]
     },
     "execution_count": 71,
     "metadata": {},
     "output_type": "execute_result"
    }
   ],
   "source": [
    "\"\"\"# we save our information\n",
    "booking_df.to_csv('booking_scraping_df.csv', index = False)\"\"\""
   ]
  },
  {
   "attachments": {},
   "cell_type": "markdown",
   "metadata": {},
   "source": [
    "We now add the information from the lat and lon from our second spider."
   ]
  },
  {
   "cell_type": "code",
   "execution_count": 72,
   "metadata": {},
   "outputs": [
    {
     "data": {
      "text/html": [
       "<div>\n",
       "<style scoped>\n",
       "    .dataframe tbody tr th:only-of-type {\n",
       "        vertical-align: middle;\n",
       "    }\n",
       "\n",
       "    .dataframe tbody tr th {\n",
       "        vertical-align: top;\n",
       "    }\n",
       "\n",
       "    .dataframe thead th {\n",
       "        text-align: right;\n",
       "    }\n",
       "</style>\n",
       "<table border=\"1\" class=\"dataframe\">\n",
       "  <thead>\n",
       "    <tr style=\"text-align: right;\">\n",
       "      <th></th>\n",
       "      <th>lat_lon</th>\n",
       "    </tr>\n",
       "  </thead>\n",
       "  <tbody>\n",
       "    <tr>\n",
       "      <th>0</th>\n",
       "      <td>49.89755206,2.31635948</td>\n",
       "    </tr>\n",
       "    <tr>\n",
       "      <th>1</th>\n",
       "      <td>49.89444519,2.30094239</td>\n",
       "    </tr>\n",
       "    <tr>\n",
       "      <th>2</th>\n",
       "      <td>49.88146960,2.29987140</td>\n",
       "    </tr>\n",
       "    <tr>\n",
       "      <th>3</th>\n",
       "      <td>49.88833910,2.31217084</td>\n",
       "    </tr>\n",
       "    <tr>\n",
       "      <th>4</th>\n",
       "      <td>49.89422900,2.30577800</td>\n",
       "    </tr>\n",
       "    <tr>\n",
       "      <th>...</th>\n",
       "      <td>...</td>\n",
       "    </tr>\n",
       "    <tr>\n",
       "      <th>870</th>\n",
       "      <td>43.49224970,-1.47577260</td>\n",
       "    </tr>\n",
       "    <tr>\n",
       "      <th>871</th>\n",
       "      <td>43.49530232,-1.46939464</td>\n",
       "    </tr>\n",
       "    <tr>\n",
       "      <th>872</th>\n",
       "      <td>43.48954193,-1.47812448</td>\n",
       "    </tr>\n",
       "    <tr>\n",
       "      <th>873</th>\n",
       "      <td>43.49112493,-1.45484090</td>\n",
       "    </tr>\n",
       "    <tr>\n",
       "      <th>874</th>\n",
       "      <td>43.48392100,-1.49821200</td>\n",
       "    </tr>\n",
       "  </tbody>\n",
       "</table>\n",
       "<p>875 rows × 1 columns</p>\n",
       "</div>"
      ],
      "text/plain": [
       "                     lat_lon\n",
       "0     49.89755206,2.31635948\n",
       "1     49.89444519,2.30094239\n",
       "2     49.88146960,2.29987140\n",
       "3     49.88833910,2.31217084\n",
       "4     49.89422900,2.30577800\n",
       "..                       ...\n",
       "870  43.49224970,-1.47577260\n",
       "871  43.49530232,-1.46939464\n",
       "872  43.48954193,-1.47812448\n",
       "873  43.49112493,-1.45484090\n",
       "874  43.48392100,-1.49821200\n",
       "\n",
       "[875 rows x 1 columns]"
      ]
     },
     "execution_count": 72,
     "metadata": {},
     "output_type": "execute_result"
    }
   ],
   "source": [
    "# like above, we convert it to a pd dataframe\n",
    "df_booking_latlon = pd.read_json ('booking_hotel_scraping_2.json')\n",
    "df_booking_latlon = pd.DataFrame(df_booking_latlon)\n",
    "df_booking_latlon"
   ]
  },
  {
   "cell_type": "code",
   "execution_count": 73,
   "metadata": {},
   "outputs": [
    {
     "data": {
      "text/html": [
       "<div>\n",
       "<style scoped>\n",
       "    .dataframe tbody tr th:only-of-type {\n",
       "        vertical-align: middle;\n",
       "    }\n",
       "\n",
       "    .dataframe tbody tr th {\n",
       "        vertical-align: top;\n",
       "    }\n",
       "\n",
       "    .dataframe thead th {\n",
       "        text-align: right;\n",
       "    }\n",
       "</style>\n",
       "<table border=\"1\" class=\"dataframe\">\n",
       "  <thead>\n",
       "    <tr style=\"text-align: right;\">\n",
       "      <th></th>\n",
       "      <th>lat_H</th>\n",
       "      <th>lon_H</th>\n",
       "    </tr>\n",
       "  </thead>\n",
       "  <tbody>\n",
       "    <tr>\n",
       "      <th>0</th>\n",
       "      <td>49.89755206</td>\n",
       "      <td>2.31635948</td>\n",
       "    </tr>\n",
       "    <tr>\n",
       "      <th>1</th>\n",
       "      <td>49.89444519</td>\n",
       "      <td>2.30094239</td>\n",
       "    </tr>\n",
       "    <tr>\n",
       "      <th>2</th>\n",
       "      <td>49.88146960</td>\n",
       "      <td>2.29987140</td>\n",
       "    </tr>\n",
       "    <tr>\n",
       "      <th>3</th>\n",
       "      <td>49.88833910</td>\n",
       "      <td>2.31217084</td>\n",
       "    </tr>\n",
       "    <tr>\n",
       "      <th>4</th>\n",
       "      <td>49.89422900</td>\n",
       "      <td>2.30577800</td>\n",
       "    </tr>\n",
       "    <tr>\n",
       "      <th>...</th>\n",
       "      <td>...</td>\n",
       "      <td>...</td>\n",
       "    </tr>\n",
       "    <tr>\n",
       "      <th>870</th>\n",
       "      <td>43.49224970</td>\n",
       "      <td>-1.47577260</td>\n",
       "    </tr>\n",
       "    <tr>\n",
       "      <th>871</th>\n",
       "      <td>43.49530232</td>\n",
       "      <td>-1.46939464</td>\n",
       "    </tr>\n",
       "    <tr>\n",
       "      <th>872</th>\n",
       "      <td>43.48954193</td>\n",
       "      <td>-1.47812448</td>\n",
       "    </tr>\n",
       "    <tr>\n",
       "      <th>873</th>\n",
       "      <td>43.49112493</td>\n",
       "      <td>-1.45484090</td>\n",
       "    </tr>\n",
       "    <tr>\n",
       "      <th>874</th>\n",
       "      <td>43.48392100</td>\n",
       "      <td>-1.49821200</td>\n",
       "    </tr>\n",
       "  </tbody>\n",
       "</table>\n",
       "<p>875 rows × 2 columns</p>\n",
       "</div>"
      ],
      "text/plain": [
       "           lat_H        lon_H\n",
       "0    49.89755206   2.31635948\n",
       "1    49.89444519   2.30094239\n",
       "2    49.88146960   2.29987140\n",
       "3    49.88833910   2.31217084\n",
       "4    49.89422900   2.30577800\n",
       "..           ...          ...\n",
       "870  43.49224970  -1.47577260\n",
       "871  43.49530232  -1.46939464\n",
       "872  43.48954193  -1.47812448\n",
       "873  43.49112493  -1.45484090\n",
       "874  43.48392100  -1.49821200\n",
       "\n",
       "[875 rows x 2 columns]"
      ]
     },
     "execution_count": 73,
     "metadata": {},
     "output_type": "execute_result"
    }
   ],
   "source": [
    "# we also need to split the lat and lon that comes in one part\n",
    "df_booking_latlon = df_booking_latlon['lat_lon'].str.split(',', expand=True)\n",
    "df_booking_latlon['lat_H'] = df_booking_latlon[0]\n",
    "df_booking_latlon['lon_H'] = df_booking_latlon[1]\n",
    "df_booking_latlon = df_booking_latlon[['lat_H', 'lon_H']]\n",
    "df_booking_latlon"
   ]
  },
  {
   "cell_type": "code",
   "execution_count": 74,
   "metadata": {},
   "outputs": [],
   "source": [
    "# we convert the columns into float\n",
    "df_booking_latlon[['lat_H', 'lon_H']] = df_booking_latlon[['lat_H', 'lon_H']] .astype(float)"
   ]
  },
  {
   "cell_type": "code",
   "execution_count": 75,
   "metadata": {},
   "outputs": [
    {
     "data": {
      "text/html": [
       "<div>\n",
       "<style scoped>\n",
       "    .dataframe tbody tr th:only-of-type {\n",
       "        vertical-align: middle;\n",
       "    }\n",
       "\n",
       "    .dataframe tbody tr th {\n",
       "        vertical-align: top;\n",
       "    }\n",
       "\n",
       "    .dataframe thead th {\n",
       "        text-align: right;\n",
       "    }\n",
       "</style>\n",
       "<table border=\"1\" class=\"dataframe\">\n",
       "  <thead>\n",
       "    <tr style=\"text-align: right;\">\n",
       "      <th></th>\n",
       "      <th>city</th>\n",
       "      <th>name</th>\n",
       "      <th>description</th>\n",
       "      <th>rating</th>\n",
       "      <th>location</th>\n",
       "      <th>url</th>\n",
       "      <th>cid</th>\n",
       "      <th>lat_H</th>\n",
       "      <th>lon_H</th>\n",
       "    </tr>\n",
       "  </thead>\n",
       "  <tbody>\n",
       "    <tr>\n",
       "      <th>0</th>\n",
       "      <td>Amiens</td>\n",
       "      <td>WHITE HOUSE DHAVERNAS - PROCHE CENTRE - PARKIN...</td>\n",
       "      <td>Situé à Amiens, en Picardie, à proximité de la...</td>\n",
       "      <td>8.7</td>\n",
       "      <td>Amiens</td>\n",
       "      <td>https://www.booking.com/hotel/fr/white-house-d...</td>\n",
       "      <td>2</td>\n",
       "      <td>49.897552</td>\n",
       "      <td>2.316359</td>\n",
       "    </tr>\n",
       "    <tr>\n",
       "      <th>1</th>\n",
       "      <td>Amiens</td>\n",
       "      <td>La Parenthèse Envoutée</td>\n",
       "      <td>Situé à Amiens, en Picardie, à proximité de la...</td>\n",
       "      <td>9.0</td>\n",
       "      <td>Amiens</td>\n",
       "      <td>https://www.booking.com/hotel/fr/aux-caves.fr....</td>\n",
       "      <td>2</td>\n",
       "      <td>49.894445</td>\n",
       "      <td>2.300942</td>\n",
       "    </tr>\n",
       "    <tr>\n",
       "      <th>2</th>\n",
       "      <td>Amiens</td>\n",
       "      <td>Holiday Inn Express Amiens, an IHG Hotel</td>\n",
       "      <td>Rénové en avril 2015, le Holiday Inn Express A...</td>\n",
       "      <td>7.9</td>\n",
       "      <td>Amiens</td>\n",
       "      <td>https://www.booking.com/hotel/fr/express-by-ho...</td>\n",
       "      <td>2</td>\n",
       "      <td>49.881470</td>\n",
       "      <td>2.299871</td>\n",
       "    </tr>\n",
       "    <tr>\n",
       "      <th>3</th>\n",
       "      <td>Amiens</td>\n",
       "      <td>L'Oratoire</td>\n",
       "      <td>Situé à Amiens, à proximité de la gare, du par...</td>\n",
       "      <td>8.0</td>\n",
       "      <td>Amiens</td>\n",
       "      <td>https://www.booking.com/hotel/fr/oratoire-amie...</td>\n",
       "      <td>2</td>\n",
       "      <td>49.888339</td>\n",
       "      <td>2.312171</td>\n",
       "    </tr>\n",
       "    <tr>\n",
       "      <th>4</th>\n",
       "      <td>Amiens</td>\n",
       "      <td>Hotel Le Prieuré et La Résidence</td>\n",
       "      <td>L'Hotel Le Prieuré et La Résidence est situé d...</td>\n",
       "      <td>8.3</td>\n",
       "      <td>Amiens</td>\n",
       "      <td>https://www.booking.com/hotel/fr/le-prieure-am...</td>\n",
       "      <td>2</td>\n",
       "      <td>49.894229</td>\n",
       "      <td>2.305778</td>\n",
       "    </tr>\n",
       "    <tr>\n",
       "      <th>...</th>\n",
       "      <td>...</td>\n",
       "      <td>...</td>\n",
       "      <td>...</td>\n",
       "      <td>...</td>\n",
       "      <td>...</td>\n",
       "      <td>...</td>\n",
       "      <td>...</td>\n",
       "      <td>...</td>\n",
       "      <td>...</td>\n",
       "    </tr>\n",
       "    <tr>\n",
       "      <th>870</th>\n",
       "      <td>Bayonne</td>\n",
       "      <td>Studio centre Bayonne</td>\n",
       "      <td>Situé à Bayonne, en Aquitaine, le Studio centr...</td>\n",
       "      <td>8.2</td>\n",
       "      <td>Bayonne</td>\n",
       "      <td>https://www.booking.com/hotel/fr/studio-centre...</td>\n",
       "      <td>7</td>\n",
       "      <td>43.492250</td>\n",
       "      <td>-1.475773</td>\n",
       "    </tr>\n",
       "    <tr>\n",
       "      <th>871</th>\n",
       "      <td>Bayonne</td>\n",
       "      <td>Hôtel des Arceaux</td>\n",
       "      <td>Situé dans une zone piétonne du centre histori...</td>\n",
       "      <td>7.0</td>\n",
       "      <td>Bayonne</td>\n",
       "      <td>https://www.booking.com/hotel/fr/des-arceaux.f...</td>\n",
       "      <td>7</td>\n",
       "      <td>43.495302</td>\n",
       "      <td>-1.469395</td>\n",
       "    </tr>\n",
       "    <tr>\n",
       "      <th>872</th>\n",
       "      <td>Bayonne</td>\n",
       "      <td>Campanile Bayonne</td>\n",
       "      <td>Situé à 5 minutes en voiture du centre de Bayo...</td>\n",
       "      <td>6.6</td>\n",
       "      <td>Bayonne</td>\n",
       "      <td>https://www.booking.com/hotel/fr/campanile-bay...</td>\n",
       "      <td>7</td>\n",
       "      <td>43.489542</td>\n",
       "      <td>-1.478124</td>\n",
       "    </tr>\n",
       "    <tr>\n",
       "      <th>873</th>\n",
       "      <td>Bayonne</td>\n",
       "      <td>La Chambre d'Hote de Mano - Centre-ville de Ba...</td>\n",
       "      <td>Situé à 200 mètres de la gare de Bayonne, à mo...</td>\n",
       "      <td>9.4</td>\n",
       "      <td>Bayonne</td>\n",
       "      <td>https://www.booking.com/hotel/fr/chambre-d-39-...</td>\n",
       "      <td>7</td>\n",
       "      <td>43.491125</td>\n",
       "      <td>-1.454841</td>\n",
       "    </tr>\n",
       "    <tr>\n",
       "      <th>874</th>\n",
       "      <td>Bayonne</td>\n",
       "      <td>Villa AJNA Bayonne</td>\n",
       "      <td>Située à Bayonne, la Villa AJNA Bayonne propos...</td>\n",
       "      <td>8.8</td>\n",
       "      <td>Bayonne</td>\n",
       "      <td>https://www.booking.com/hotel/fr/chambre-chino...</td>\n",
       "      <td>7</td>\n",
       "      <td>43.483921</td>\n",
       "      <td>-1.498212</td>\n",
       "    </tr>\n",
       "  </tbody>\n",
       "</table>\n",
       "<p>875 rows × 9 columns</p>\n",
       "</div>"
      ],
      "text/plain": [
       "        city                                               name  \\\n",
       "0     Amiens  WHITE HOUSE DHAVERNAS - PROCHE CENTRE - PARKIN...   \n",
       "1     Amiens                             La Parenthèse Envoutée   \n",
       "2     Amiens           Holiday Inn Express Amiens, an IHG Hotel   \n",
       "3     Amiens                                         L'Oratoire   \n",
       "4     Amiens                   Hotel Le Prieuré et La Résidence   \n",
       "..       ...                                                ...   \n",
       "870  Bayonne                              Studio centre Bayonne   \n",
       "871  Bayonne                                  Hôtel des Arceaux   \n",
       "872  Bayonne                                  Campanile Bayonne   \n",
       "873  Bayonne  La Chambre d'Hote de Mano - Centre-ville de Ba...   \n",
       "874  Bayonne                                 Villa AJNA Bayonne   \n",
       "\n",
       "                                           description  rating location  \\\n",
       "0    Situé à Amiens, en Picardie, à proximité de la...     8.7   Amiens   \n",
       "1    Situé à Amiens, en Picardie, à proximité de la...     9.0   Amiens   \n",
       "2    Rénové en avril 2015, le Holiday Inn Express A...     7.9   Amiens   \n",
       "3    Situé à Amiens, à proximité de la gare, du par...     8.0   Amiens   \n",
       "4    L'Hotel Le Prieuré et La Résidence est situé d...     8.3   Amiens   \n",
       "..                                                 ...     ...      ...   \n",
       "870  Situé à Bayonne, en Aquitaine, le Studio centr...     8.2  Bayonne   \n",
       "871  Situé dans une zone piétonne du centre histori...     7.0  Bayonne   \n",
       "872  Situé à 5 minutes en voiture du centre de Bayo...     6.6  Bayonne   \n",
       "873  Situé à 200 mètres de la gare de Bayonne, à mo...     9.4  Bayonne   \n",
       "874  Située à Bayonne, la Villa AJNA Bayonne propos...     8.8  Bayonne   \n",
       "\n",
       "                                                   url  cid      lat_H  \\\n",
       "0    https://www.booking.com/hotel/fr/white-house-d...    2  49.897552   \n",
       "1    https://www.booking.com/hotel/fr/aux-caves.fr....    2  49.894445   \n",
       "2    https://www.booking.com/hotel/fr/express-by-ho...    2  49.881470   \n",
       "3    https://www.booking.com/hotel/fr/oratoire-amie...    2  49.888339   \n",
       "4    https://www.booking.com/hotel/fr/le-prieure-am...    2  49.894229   \n",
       "..                                                 ...  ...        ...   \n",
       "870  https://www.booking.com/hotel/fr/studio-centre...    7  43.492250   \n",
       "871  https://www.booking.com/hotel/fr/des-arceaux.f...    7  43.495302   \n",
       "872  https://www.booking.com/hotel/fr/campanile-bay...    7  43.489542   \n",
       "873  https://www.booking.com/hotel/fr/chambre-d-39-...    7  43.491125   \n",
       "874  https://www.booking.com/hotel/fr/chambre-chino...    7  43.483921   \n",
       "\n",
       "        lon_H  \n",
       "0    2.316359  \n",
       "1    2.300942  \n",
       "2    2.299871  \n",
       "3    2.312171  \n",
       "4    2.305778  \n",
       "..        ...  \n",
       "870 -1.475773  \n",
       "871 -1.469395  \n",
       "872 -1.478124  \n",
       "873 -1.454841  \n",
       "874 -1.498212  \n",
       "\n",
       "[875 rows x 9 columns]"
      ]
     },
     "execution_count": 75,
     "metadata": {},
     "output_type": "execute_result"
    }
   ],
   "source": [
    "# we join all the informations\n",
    "booking_df_with_latlon = booking_df.join(df_booking_latlon)\n",
    "booking_df_with_latlon"
   ]
  },
  {
   "attachments": {},
   "cell_type": "markdown",
   "metadata": {},
   "source": [
    "---------\n",
    "### __4. Create our data lake using AWS S3__\n",
    "---------"
   ]
  },
  {
   "cell_type": "code",
   "execution_count": 76,
   "metadata": {},
   "outputs": [],
   "source": [
    "\"\"\"os.environ['aws_access_key_id'] = 'XXXXX'\n",
    "os.environ['aws_secret_access_key'] = 'XXXXX'\"\"\""
   ]
  },
  {
   "cell_type": "code",
   "execution_count": 77,
   "metadata": {},
   "outputs": [],
   "source": [
    "# creating our boto3 session in order to interact with AWS\n",
    "session = boto3.Session(\n",
    "    aws_access_key_id = os.getenv('aws_access_key_id'),\n",
    "    aws_secret_access_key = os.getenv('aws_secret_access_key')\n",
    ") "
   ]
  },
  {
   "cell_type": "code",
   "execution_count": 78,
   "metadata": {},
   "outputs": [],
   "source": [
    "# create an S3 resource object to interact with our futur bucket\n",
    "s3 = session.resource('s3')"
   ]
  },
  {
   "cell_type": "code",
   "execution_count": 79,
   "metadata": {},
   "outputs": [
    {
     "data": {
      "text/plain": [
       "s3.Object(bucket_name='kayak.project.booking.scraping', key='booking_scraping_df.csv')"
      ]
     },
     "execution_count": 79,
     "metadata": {},
     "output_type": "execute_result"
    }
   ],
   "source": [
    "# this is the bucket that will hold all our df\n",
    "bucket = s3.create_bucket(Bucket='kayak.project.booking.scraping')\n",
    "\n",
    "# we save cities_df\n",
    "csv_1 = cities_df.to_csv(index = False)\n",
    "\n",
    "# we save weather_df\n",
    "csv_2 = weather_df.to_csv(index = False)\n",
    "\n",
    "# we save booking_df\n",
    "csv_3 = booking_df.to_csv(index = False)\n",
    "\n",
    "# we now can transfert those df to our bucket\n",
    "bucket.put_object(Key='cities_lat_lon_df.csv', Body = csv_1)\n",
    "bucket.put_object(Key='weather_forecast_df.csv', Body = csv_2)\n",
    "bucket.put_object(Key='booking_scraping_df.csv', Body = csv_3)"
   ]
  },
  {
   "attachments": {},
   "cell_type": "markdown",
   "metadata": {},
   "source": [
    "---------\n",
    "### __5. Extract, Transform and Load: Create our data lake using AWS RDS__\n",
    "---------"
   ]
  },
  {
   "attachments": {},
   "cell_type": "markdown",
   "metadata": {},
   "source": [
    "We are now going to create a SQL Database using AWS RDS in order to extract our data from S3 and store it in your newly created DB"
   ]
  },
  {
   "cell_type": "code",
   "execution_count": 80,
   "metadata": {},
   "outputs": [],
   "source": [
    "\"\"\"os.environ['master_username'] = 'admin'\n",
    "os.environ['master_password'] = 'XXXXX'\n",
    "os.environ['endpoint'] = 'XXXXX'\n",
    "os.environ['port'] = 'XXXXX'\"\"\""
   ]
  },
  {
   "cell_type": "code",
   "execution_count": 81,
   "metadata": {},
   "outputs": [],
   "source": [
    "master_username = os.getenv('master_username')\n",
    "master_password = os.getenv('master_password')\n",
    "endpoint = os.getenv('endpoint')\n",
    "port = os.getenv('port')\n",
    "name = os.getenv('name')\n",
    "\n",
    "# we call the function create_engine and set the echo to true which enables logging of the SQL statements executed by the engine\n",
    "engine = create_engine(f'mysql+pymysql://{master_username}:{master_password}@{endpoint}:{port}/', echo=True)"
   ]
  },
  {
   "cell_type": "code",
   "execution_count": 82,
   "metadata": {},
   "outputs": [],
   "source": [
    "#engine.execute(\"DROP DATABASE db1\")"
   ]
  },
  {
   "cell_type": "code",
   "execution_count": 83,
   "metadata": {},
   "outputs": [
    {
     "name": "stdout",
     "output_type": "stream",
     "text": [
      "2023-05-09 15:54:20,416 INFO sqlalchemy.engine.Engine SELECT DATABASE()\n",
      "2023-05-09 15:54:20,417 INFO sqlalchemy.engine.Engine [raw sql] {}\n",
      "2023-05-09 15:54:20,456 INFO sqlalchemy.engine.Engine SELECT @@sql_mode\n",
      "2023-05-09 15:54:20,457 INFO sqlalchemy.engine.Engine [raw sql] {}\n",
      "2023-05-09 15:54:20,469 INFO sqlalchemy.engine.Engine SELECT @@lower_case_table_names\n",
      "2023-05-09 15:54:20,470 INFO sqlalchemy.engine.Engine [raw sql] {}\n",
      "2023-05-09 15:54:20,495 INFO sqlalchemy.engine.Engine CREATE DATABASE db1\n",
      "2023-05-09 15:54:20,496 INFO sqlalchemy.engine.Engine [raw sql] {}\n",
      "2023-05-09 15:54:20,524 INFO sqlalchemy.engine.Engine COMMIT\n"
     ]
    },
    {
     "data": {
      "text/plain": [
       "<sqlalchemy.engine.cursor.LegacyCursorResult at 0x23d7cd939d0>"
      ]
     },
     "execution_count": 83,
     "metadata": {},
     "output_type": "execute_result"
    }
   ],
   "source": [
    "engine.execute(\"CREATE DATABASE db1\")"
   ]
  },
  {
   "cell_type": "code",
   "execution_count": 84,
   "metadata": {},
   "outputs": [
    {
     "name": "stdout",
     "output_type": "stream",
     "text": [
      "booking_scraping_df.csv\n",
      "cities_lat_lon_df.csv\n",
      "weather_forecast_df.csv\n"
     ]
    }
   ],
   "source": [
    "#these are the data frame stored in my s3 bucket\n",
    "for i in bucket.objects.all():\n",
    "    print(i.key)"
   ]
  },
  {
   "cell_type": "code",
   "execution_count": 85,
   "metadata": {},
   "outputs": [
    {
     "name": "stdout",
     "output_type": "stream",
     "text": [
      "2023-05-09 15:54:21,073 INFO sqlalchemy.engine.Engine USE db1\n",
      "2023-05-09 15:54:21,075 INFO sqlalchemy.engine.Engine [raw sql] {}\n"
     ]
    },
    {
     "data": {
      "text/plain": [
       "<sqlalchemy.engine.cursor.LegacyCursorResult at 0x23d7cdc9de0>"
      ]
     },
     "execution_count": 85,
     "metadata": {},
     "output_type": "execute_result"
    }
   ],
   "source": [
    "engine.execute('USE db1')"
   ]
  },
  {
   "cell_type": "code",
   "execution_count": 86,
   "metadata": {},
   "outputs": [
    {
     "name": "stdout",
     "output_type": "stream",
     "text": [
      "2023-05-09 15:54:21,164 INFO sqlalchemy.engine.Engine SELECT COUNT(*) FROM information_schema.tables WHERE table_schema = %(table_schema)s AND table_name = %(table_name)s\n",
      "2023-05-09 15:54:21,165 INFO sqlalchemy.engine.Engine [generated in 0.00175s] {'table_schema': 'None', 'table_name': 'booking_df'}\n",
      "2023-05-09 15:54:21,187 INFO sqlalchemy.engine.Engine BEGIN (implicit)\n",
      "2023-05-09 15:54:21,190 INFO sqlalchemy.engine.Engine \n",
      "CREATE TABLE booking_df (\n",
      "\t`index` BIGINT, \n",
      "\tcity TEXT, \n",
      "\tname TEXT, \n",
      "\tdescription TEXT, \n",
      "\trating FLOAT(53), \n",
      "\tlocation TEXT, \n",
      "\turl TEXT, \n",
      "\tcid BIGINT, \n",
      "\t`lat_H` FLOAT(53), \n",
      "\t`lon_H` FLOAT(53)\n",
      ")\n",
      "\n",
      "\n",
      "2023-05-09 15:54:21,191 INFO sqlalchemy.engine.Engine [no key 0.00151s] {}\n",
      "2023-05-09 15:54:21,293 INFO sqlalchemy.engine.Engine CREATE INDEX ix_booking_df_index ON booking_df (`index`)\n",
      "2023-05-09 15:54:21,294 INFO sqlalchemy.engine.Engine [no key 0.00117s] {}\n",
      "2023-05-09 15:54:21,353 INFO sqlalchemy.engine.Engine COMMIT\n",
      "2023-05-09 15:54:21,372 INFO sqlalchemy.engine.Engine BEGIN (implicit)\n",
      "2023-05-09 15:54:21,385 INFO sqlalchemy.engine.Engine INSERT INTO booking_df (`index`, city, name, description, rating, location, url, cid, `lat_H`, `lon_H`) VALUES (%(index)s, %(city)s, %(name)s, %(description)s, %(rating)s, %(location)s, %(url)s, %(cid)s, %(lat_H)s, %(lon_H)s)\n",
      "2023-05-09 15:54:21,386 INFO sqlalchemy.engine.Engine [generated in 0.00883s] ({'index': 0, 'city': 'Amiens', 'name': 'WHITE HOUSE DHAVERNAS - PROCHE CENTRE - PARKING - WIFi HD', 'description': 'Situé à Amiens, en Picardie, à proximité de la gare et du musée de Berny, le WHITE HOUSE DHAVERNAS - PROCHE CENTRE - PARKING - WIFi HD propose des hébergements avec connexion Wi-Fi et parking privé...', 'rating': 8.7, 'location': 'Amiens', 'url': 'https://www.booking.com/hotel/fr/white-house-dhavernas.fr.html?aid=304142&label=gen173nr-1FCAQoggJCDXNlYXJjaF9hbWllbnNIDVgEaE2IAQGYAQ24AQrIAQXYAQHoAQ ... (127 characters truncated) ... s=2&no_rooms=1&group_children=0&req_children=0&hpos=1&hapos=1&sr_order=popularity&srpvid=384f46e25736021c&srepoch=1683194695&from=searchresults&map=1', 'cid': 2, 'lat_H': 49.89755206, 'lon_H': 2.31635948}, {'index': 1, 'city': 'Amiens', 'name': 'La Parenthèse Envoutée', 'description': \"Situé à Amiens, en Picardie, à proximité de la gare et du parc des jardins flottants, l'établissement La Parenthèse Envoutée propose des hébergements avec connexion Wi-Fi gratuite et accès à un...\", 'rating': 9.0, 'location': 'Amiens', 'url': 'https://www.booking.com/hotel/fr/aux-caves.fr.html?aid=304142&label=gen173nr-1FCAQoggJCDXNlYXJjaF9hbWllbnNIDVgEaE2IAQGYAQ24AQrIAQXYAQHoAQH4AQOIAgGoAg ... (115 characters truncated) ... s=2&no_rooms=1&group_children=0&req_children=0&hpos=2&hapos=2&sr_order=popularity&srpvid=384f46e25736021c&srepoch=1683194695&from=searchresults&map=1', 'cid': 2, 'lat_H': 49.89444519, 'lon_H': 2.30094239}, {'index': 2, 'city': 'Amiens', 'name': 'Holiday Inn Express Amiens, an IHG Hotel', 'description': 'Rénové en avril\\xa02015, le Holiday Inn Express Amiens comprend des chambres confortables avec une connexion Wi-Fi gratuite. ', 'rating': 7.9, 'location': 'Amiens', 'url': 'https://www.booking.com/hotel/fr/express-by-holiday-inn.fr.html?aid=304142&label=gen173nr-1FCAQoggJCDXNlYXJjaF9hbWllbnNIDVgEaE2IAQGYAQ24AQrIAQXYAQHoA ... (159 characters truncated) ... &req_children=0&hpos=3&hapos=3&sr_order=popularity&srpvid=384f46e25736021c&srepoch=1683194695&from_sustainable_property_sr=1&from=searchresults&map=1', 'cid': 2, 'lat_H': 49.8814696, 'lon_H': 2.2998714}, {'index': 3, 'city': 'Amiens', 'name': \"L'Oratoire\", 'description': \"Situé à Amiens, à proximité de la gare, du parc des jardins flottants et du musée Berny, l'établissement L'Oratoire propose une connexion Wi-Fi gratuite. \", 'rating': 8.0, 'location': 'Amiens', 'url': 'https://www.booking.com/hotel/fr/oratoire-amiens.fr.html?aid=304142&label=gen173nr-1FCAQoggJCDXNlYXJjaF9hbWllbnNIDVgEaE2IAQGYAQ24AQrIAQXYAQHoAQH4AQOI ... (121 characters truncated) ... s=2&no_rooms=1&group_children=0&req_children=0&hpos=4&hapos=4&sr_order=popularity&srpvid=384f46e25736021c&srepoch=1683194695&from=searchresults&map=1', 'cid': 2, 'lat_H': 49.8883391, 'lon_H': 2.31217084}, {'index': 4, 'city': 'Amiens', 'name': 'Hotel Le Prieuré et La Résidence', 'description': \"L'Hotel Le Prieuré et La Résidence est situé dans le centre-ville d'Amiens, au pied de la cathédrale. \", 'rating': 8.3, 'location': 'Amiens', 'url': 'https://www.booking.com/hotel/fr/le-prieure-amiens.fr.html?aid=304142&label=gen173nr-1FCAQoggJCDXNlYXJjaF9hbWllbnNIDVgEaE2IAQGYAQ24AQrIAQXYAQHoAQH4AQ ... (154 characters truncated) ... &req_children=0&hpos=5&hapos=5&sr_order=popularity&srpvid=384f46e25736021c&srepoch=1683194695&from_sustainable_property_sr=1&from=searchresults&map=1', 'cid': 2, 'lat_H': 49.894229, 'lon_H': 2.305778}, {'index': 5, 'city': 'Amiens', 'name': 'Le Cottage des Hortillonnages', 'description': \"Le Cottage des Hortillonnages est situé à Amiens, à 1,5 km de la gare et à 5,1 km du Zénith d'Amiens, dans une région où vous pourrez pêcher. \", 'rating': 9.3, 'location': 'Amiens', 'url': 'https://www.booking.com/hotel/fr/le-cottage-des-hortillons.fr.html?aid=304142&label=gen173nr-1FCAQoggJCDXNlYXJjaF9hbWllbnNIDVgEaE2IAQGYAQ24AQrIAQXYAQ ... (162 characters truncated) ... &req_children=0&hpos=6&hapos=6&sr_order=popularity&srpvid=384f46e25736021c&srepoch=1683194695&from_sustainable_property_sr=1&from=searchresults&map=1', 'cid': 2, 'lat_H': 49.8930114, 'lon_H': 2.3058662}, {'index': 6, 'city': 'Amiens', 'name': 'Les Augustins', 'description': \"Situé à Amiens, à moins de 700 mètres de la gare et à 3,5 km du Zénith, l'établissement Les Augustins propose des hébergements avec une connexion Wi-Fi gratuite et un coin salon. \", 'rating': 7.9, 'location': 'Amiens', 'url': 'https://www.booking.com/hotel/fr/les-augustins-amiens.fr.html?aid=304142&label=gen173nr-1FCAQoggJCDXNlYXJjaF9hbWllbnNIDVgEaE2IAQGYAQ24AQrIAQXYAQHoAQH ... (126 characters truncated) ... s=2&no_rooms=1&group_children=0&req_children=0&hpos=7&hapos=7&sr_order=popularity&srpvid=384f46e25736021c&srepoch=1683194695&from=searchresults&map=1', 'cid': 2, 'lat_H': 49.8916762, 'lon_H': 2.30775386}, {'index': 7, 'city': 'Amiens', 'name': 'Moxy Amiens', 'description': 'Situé au cœur de la ville et à deux pas de la gare, l’hôtel Moxy Amiens est un pied-à-terre idéal pour vos déplacements professionnels ou sportifs, pour un voyage entre amis ou un séjour découverte en...', 'rating': 8.5, 'location': 'Amiens', 'url': 'https://www.booking.com/hotel/fr/campanile-amiens-centre-gare.fr.html?aid=304142&label=gen173nr-1FCAQoggJCDXNlYXJjaF9hbWllbnNIDVgEaE2IAQGYAQ24AQrIAQX ... (165 characters truncated) ... &req_children=0&hpos=8&hapos=8&sr_order=popularity&srpvid=384f46e25736021c&srepoch=1683194695&from_sustainable_property_sr=1&from=searchresults&map=1', 'cid': 2, 'lat_H': 49.891249, 'lon_H': 2.30953}  ... displaying 10 of 875 total bound parameter sets ...  {'index': 873, 'city': 'Bayonne', 'name': \"La Chambre d'Hote de Mano - Centre-ville de Bayonne\", 'description': \"Situé à 200 mètres de la gare de Bayonne, à moins de 2 minutes à pied des berges de l'Adour et à 1 km de la cathédrale, l'établissement La Chambre d'Hote De Mano - Centre-ville de Bayonne vous propose...\", 'rating': 9.4, 'location': 'Bayonne', 'url': 'https://www.booking.com/hotel/fr/chambre-d-39-hotes-de-bayonne-france.fr.html?aid=304142&label=gen173nr-1FCAQoggJCDnNlYXJjaF9iYXlvbm5lSA1YBGhNiAEBmAE ... (146 characters truncated) ... 2&no_rooms=1&group_children=0&req_children=0&hpos=24&hapos=24&sr_order=popularity&srpvid=342146e55eaf0264&srepoch=1683194701&from=searchresults&map=1', 'cid': 7, 'lat_H': 43.49112493, 'lon_H': -1.4548409}, {'index': 874, 'city': 'Bayonne', 'name': 'Villa AJNA Bayonne', 'description': \"Située à Bayonne, la Villa AJNA Bayonne propose une connexion Wi-Fi gratuite, un service de prêt de vélos, un jardin et un salon commun. Vous pourrez profiter d'un sauna. \", 'rating': 8.8, 'location': 'Bayonne', 'url': 'https://www.booking.com/hotel/fr/chambre-chinoise.fr.html?aid=304142&label=gen173nr-1FCAQoggJCDnNlYXJjaF9iYXlvbm5lSA1YBGhNiAEBmAENuAEKyAEF2AEB6AEB-AE ... (157 characters truncated) ... eq_children=0&hpos=25&hapos=25&sr_order=popularity&srpvid=342146e55eaf0264&srepoch=1683194701&from_sustainable_property_sr=1&from=searchresults&map=1', 'cid': 7, 'lat_H': 43.483921, 'lon_H': -1.498212})\n",
      "2023-05-09 15:54:21,944 INFO sqlalchemy.engine.Engine COMMIT\n"
     ]
    },
    {
     "data": {
      "text/plain": [
       "875"
      ]
     },
     "execution_count": 86,
     "metadata": {},
     "output_type": "execute_result"
    }
   ],
   "source": [
    "booking_df_with_latlon.to_sql('booking_df', engine)"
   ]
  },
  {
   "cell_type": "code",
   "execution_count": 87,
   "metadata": {},
   "outputs": [
    {
     "name": "stdout",
     "output_type": "stream",
     "text": [
      "2023-05-09 15:54:22,098 INFO sqlalchemy.engine.Engine SELECT COUNT(*) FROM information_schema.tables WHERE table_schema = %(table_schema)s AND table_name = %(table_name)s\n",
      "2023-05-09 15:54:22,099 INFO sqlalchemy.engine.Engine [cached since 0.9357s ago] {'table_schema': 'None', 'table_name': 'cities_df'}\n",
      "2023-05-09 15:54:22,143 INFO sqlalchemy.engine.Engine BEGIN (implicit)\n",
      "2023-05-09 15:54:22,144 INFO sqlalchemy.engine.Engine \n",
      "CREATE TABLE cities_df (\n",
      "\t`index` BIGINT, \n",
      "\tcid BIGINT, \n",
      "\tcity TEXT, \n",
      "\tlatitude FLOAT(53), \n",
      "\tlongitude FLOAT(53)\n",
      ")\n",
      "\n",
      "\n",
      "2023-05-09 15:54:22,145 INFO sqlalchemy.engine.Engine [no key 0.00086s] {}\n",
      "2023-05-09 15:54:22,191 INFO sqlalchemy.engine.Engine CREATE INDEX ix_cities_df_index ON cities_df (`index`)\n",
      "2023-05-09 15:54:22,191 INFO sqlalchemy.engine.Engine [no key 0.00089s] {}\n",
      "2023-05-09 15:54:22,228 INFO sqlalchemy.engine.Engine COMMIT\n",
      "2023-05-09 15:54:22,241 INFO sqlalchemy.engine.Engine BEGIN (implicit)\n",
      "2023-05-09 15:54:22,244 INFO sqlalchemy.engine.Engine INSERT INTO cities_df (`index`, cid, city, latitude, longitude) VALUES (%(index)s, %(cid)s, %(city)s, %(latitude)s, %(longitude)s)\n",
      "2023-05-09 15:54:22,245 INFO sqlalchemy.engine.Engine [generated in 0.00142s] ({'index': 0, 'cid': 0, 'city': 'Aigues Mortes', 'latitude': 43.5658225, 'longitude': 4.1912837}, {'index': 1, 'cid': 1, 'city': 'Aix en Provence', 'latitude': 43.5298424, 'longitude': 5.4474738}, {'index': 2, 'cid': 2, 'city': 'Amiens', 'latitude': 49.8941708, 'longitude': 2.2956951}, {'index': 3, 'cid': 3, 'city': 'Annecy', 'latitude': 45.8992348, 'longitude': 6.1288847}, {'index': 4, 'cid': 4, 'city': 'Ariege', 'latitude': 42.9455368, 'longitude': 1.4065544156065486}, {'index': 5, 'cid': 5, 'city': 'Avignon', 'latitude': 43.9492493, 'longitude': 4.8059012}, {'index': 6, 'cid': 6, 'city': 'Bayeux', 'latitude': 49.2764624, 'longitude': -0.7024738}, {'index': 7, 'cid': 7, 'city': 'Bayonne', 'latitude': 43.4945144, 'longitude': -1.4736657}  ... displaying 10 of 35 total bound parameter sets ...  {'index': 33, 'cid': 33, 'city': 'Toulouse', 'latitude': 43.6044622, 'longitude': 1.4442469}, {'index': 34, 'cid': 34, 'city': 'Uzes', 'latitude': 44.0121279, 'longitude': 4.4196718})\n",
      "2023-05-09 15:54:22,258 INFO sqlalchemy.engine.Engine COMMIT\n"
     ]
    },
    {
     "data": {
      "text/plain": [
       "35"
      ]
     },
     "execution_count": 87,
     "metadata": {},
     "output_type": "execute_result"
    }
   ],
   "source": [
    "cities_df.to_sql('cities_df', engine, if_exists='replace')"
   ]
  },
  {
   "cell_type": "code",
   "execution_count": 88,
   "metadata": {},
   "outputs": [
    {
     "name": "stdout",
     "output_type": "stream",
     "text": [
      "2023-05-09 15:54:22,385 INFO sqlalchemy.engine.Engine SELECT COUNT(*) FROM information_schema.tables WHERE table_schema = %(table_schema)s AND table_name = %(table_name)s\n",
      "2023-05-09 15:54:22,386 INFO sqlalchemy.engine.Engine [cached since 1.223s ago] {'table_schema': 'None', 'table_name': 'weather_df'}\n",
      "2023-05-09 15:54:22,413 INFO sqlalchemy.engine.Engine BEGIN (implicit)\n",
      "2023-05-09 15:54:22,415 INFO sqlalchemy.engine.Engine \n",
      "CREATE TABLE weather_df (\n",
      "\t`index` BIGINT, \n",
      "\tday_time TEXT, \n",
      "\ttemperature FLOAT(53), \n",
      "\tprobability_to_rain FLOAT(53), \n",
      "\tweather_description TEXT, \n",
      "\tcid BIGINT\n",
      ")\n",
      "\n",
      "\n",
      "2023-05-09 15:54:22,416 INFO sqlalchemy.engine.Engine [no key 0.00116s] {}\n",
      "2023-05-09 15:54:22,461 INFO sqlalchemy.engine.Engine CREATE INDEX ix_weather_df_index ON weather_df (`index`)\n",
      "2023-05-09 15:54:22,462 INFO sqlalchemy.engine.Engine [no key 0.00083s] {}\n",
      "2023-05-09 15:54:22,493 INFO sqlalchemy.engine.Engine COMMIT\n",
      "2023-05-09 15:54:22,507 INFO sqlalchemy.engine.Engine BEGIN (implicit)\n",
      "2023-05-09 15:54:22,510 INFO sqlalchemy.engine.Engine INSERT INTO weather_df (`index`, day_time, temperature, probability_to_rain, weather_description, cid) VALUES (%(index)s, %(day_time)s, %(temperature)s, %(probability_to_rain)s, %(weather_description)s, %(cid)s)\n",
      "2023-05-09 15:54:22,511 INFO sqlalchemy.engine.Engine [generated in 0.00224s] ({'index': 0, 'day_time': '2023-05-10 13:00:00', 'temperature': 20.14, 'probability_to_rain': 0.0, 'weather_description': 'clear sky', 'cid': 0}, {'index': 1, 'day_time': '2023-05-11 13:00:00', 'temperature': 19.37, 'probability_to_rain': 0.0, 'weather_description': 'scattered clouds', 'cid': 0}, {'index': 2, 'day_time': '2023-05-12 13:00:00', 'temperature': 17.43, 'probability_to_rain': 0.3, 'weather_description': 'light rain', 'cid': 0}, {'index': 3, 'day_time': '2023-05-13 13:00:00', 'temperature': 18.31, 'probability_to_rain': 0.73, 'weather_description': 'light rain', 'cid': 0}, {'index': 4, 'day_time': '2023-05-14 13:00:00', 'temperature': 22.53, 'probability_to_rain': 0.39, 'weather_description': 'scattered clouds', 'cid': 0}, {'index': 5, 'day_time': '2023-05-15 13:00:00', 'temperature': 17.18, 'probability_to_rain': 0.0, 'weather_description': 'overcast clouds', 'cid': 0}, {'index': 6, 'day_time': '2023-05-16 13:00:00', 'temperature': 17.59, 'probability_to_rain': 0.09, 'weather_description': 'few clouds', 'cid': 0}, {'index': 7, 'day_time': '2023-05-10 13:00:00', 'temperature': 18.76, 'probability_to_rain': 0.37, 'weather_description': 'clear sky', 'cid': 1}  ... displaying 10 of 245 total bound parameter sets ...  {'index': 243, 'day_time': '2023-05-15 13:00:00', 'temperature': 18.31, 'probability_to_rain': 0.01, 'weather_description': 'overcast clouds', 'cid': 34}, {'index': 244, 'day_time': '2023-05-16 13:00:00', 'temperature': 18.44, 'probability_to_rain': 0.07, 'weather_description': 'scattered clouds', 'cid': 34})\n",
      "2023-05-09 15:54:22,546 INFO sqlalchemy.engine.Engine COMMIT\n"
     ]
    },
    {
     "data": {
      "text/plain": [
       "245"
      ]
     },
     "execution_count": 88,
     "metadata": {},
     "output_type": "execute_result"
    }
   ],
   "source": [
    "weather_df.to_sql('weather_df', engine, if_exists='replace')"
   ]
  },
  {
   "cell_type": "code",
   "execution_count": 89,
   "metadata": {},
   "outputs": [
    {
     "name": "stdout",
     "output_type": "stream",
     "text": [
      "2023-05-09 15:54:22,634 INFO sqlalchemy.engine.Engine SELECT COUNT(*) FROM information_schema.tables WHERE table_schema = %(table_schema)s AND table_name = %(table_name)s\n",
      "2023-05-09 15:54:22,636 INFO sqlalchemy.engine.Engine [cached since 1.473s ago] {'table_schema': 'None', 'table_name': 'SELECT cities_df.cid, cities_df.city, cities_df.latitude, cities_df.longitude, MAX(weather_df.temperature) AS highest_temperature FROM weather_df INN ... (24 characters truncated) ... ther_df.cid = cities_df.cid GROUP BY cities_df.cid, cities_df.city, cities_df.latitude, cities_df.longitude ORDER BY highest_temperature DESC LIMIT 5'}\n",
      "2023-05-09 15:54:22,652 INFO sqlalchemy.engine.Engine SELECT cities_df.cid, cities_df.city, cities_df.latitude, cities_df.longitude, MAX(weather_df.temperature) AS highest_temperature FROM weather_df INNER JOIN cities_df ON weather_df.cid = cities_df.cid GROUP BY cities_df.cid, cities_df.city, cities_df.latitude, cities_df.longitude ORDER BY highest_temperature DESC LIMIT 5\n",
      "2023-05-09 15:54:22,653 INFO sqlalchemy.engine.Engine [raw sql] {}\n"
     ]
    },
    {
     "data": {
      "text/html": [
       "<div>\n",
       "<style scoped>\n",
       "    .dataframe tbody tr th:only-of-type {\n",
       "        vertical-align: middle;\n",
       "    }\n",
       "\n",
       "    .dataframe tbody tr th {\n",
       "        vertical-align: top;\n",
       "    }\n",
       "\n",
       "    .dataframe thead th {\n",
       "        text-align: right;\n",
       "    }\n",
       "</style>\n",
       "<table border=\"1\" class=\"dataframe\">\n",
       "  <thead>\n",
       "    <tr style=\"text-align: right;\">\n",
       "      <th></th>\n",
       "      <th>cid</th>\n",
       "      <th>city</th>\n",
       "      <th>latitude</th>\n",
       "      <th>longitude</th>\n",
       "      <th>highest_temperature</th>\n",
       "    </tr>\n",
       "  </thead>\n",
       "  <tbody>\n",
       "    <tr>\n",
       "      <th>0</th>\n",
       "      <td>27</td>\n",
       "      <td>Nimes</td>\n",
       "      <td>43.837425</td>\n",
       "      <td>4.360069</td>\n",
       "      <td>22.58</td>\n",
       "    </tr>\n",
       "    <tr>\n",
       "      <th>1</th>\n",
       "      <td>0</td>\n",
       "      <td>Aigues Mortes</td>\n",
       "      <td>43.565823</td>\n",
       "      <td>4.191284</td>\n",
       "      <td>22.53</td>\n",
       "    </tr>\n",
       "    <tr>\n",
       "      <th>2</th>\n",
       "      <td>10</td>\n",
       "      <td>Bormes les Mimosas</td>\n",
       "      <td>43.150697</td>\n",
       "      <td>6.341928</td>\n",
       "      <td>21.58</td>\n",
       "    </tr>\n",
       "    <tr>\n",
       "      <th>3</th>\n",
       "      <td>5</td>\n",
       "      <td>Avignon</td>\n",
       "      <td>43.949249</td>\n",
       "      <td>4.805901</td>\n",
       "      <td>21.32</td>\n",
       "    </tr>\n",
       "    <tr>\n",
       "      <th>4</th>\n",
       "      <td>30</td>\n",
       "      <td>Saintes Maries de la mer</td>\n",
       "      <td>43.452277</td>\n",
       "      <td>4.428717</td>\n",
       "      <td>21.30</td>\n",
       "    </tr>\n",
       "  </tbody>\n",
       "</table>\n",
       "</div>"
      ],
      "text/plain": [
       "   cid                      city   latitude  longitude  highest_temperature\n",
       "0   27                     Nimes  43.837425   4.360069                22.58\n",
       "1    0             Aigues Mortes  43.565823   4.191284                22.53\n",
       "2   10        Bormes les Mimosas  43.150697   6.341928                21.58\n",
       "3    5                   Avignon  43.949249   4.805901                21.32\n",
       "4   30  Saintes Maries de la mer  43.452277   4.428717                21.30"
      ]
     },
     "execution_count": 89,
     "metadata": {},
     "output_type": "execute_result"
    }
   ],
   "source": [
    "# Top 5 destinations by with the highest temperature\n",
    "df1 = pd.read_sql(\"SELECT cities_df.cid, cities_df.city, cities_df.latitude, cities_df.longitude, MAX(weather_df.temperature) AS highest_temperature FROM weather_df INNER JOIN cities_df ON weather_df.cid = cities_df.cid GROUP BY cities_df.cid, cities_df.city, cities_df.latitude, cities_df.longitude ORDER BY highest_temperature DESC LIMIT 5\", engine)\n",
    "df1 = pd.DataFrame(df1)\n",
    "df1"
   ]
  },
  {
   "cell_type": "code",
   "execution_count": 90,
   "metadata": {},
   "outputs": [
    {
     "name": "stdout",
     "output_type": "stream",
     "text": [
      "2023-05-09 15:54:22,802 INFO sqlalchemy.engine.Engine SELECT COUNT(*) FROM information_schema.tables WHERE table_schema = %(table_schema)s AND table_name = %(table_name)s\n",
      "2023-05-09 15:54:22,803 INFO sqlalchemy.engine.Engine [cached since 1.64s ago] {'table_schema': 'None', 'table_name': 'SELECT booking_df.name, booking_df.rating, booking_df.url, booking_df.cid, booking_df.lat_H, booking_df.lon_H FROM booking_df JOIN (SELECT cities_df. ... (247 characters truncated) ... ies_df.longitude ORDER BY highest_temperature DESC LIMIT 5) AS top_cities ON booking_df.cid = top_cities.cid ORDER BY booking_df.rating DESC LIMIT 20'}\n",
      "2023-05-09 15:54:22,822 INFO sqlalchemy.engine.Engine SELECT booking_df.name, booking_df.rating, booking_df.url, booking_df.cid, booking_df.lat_H, booking_df.lon_H FROM booking_df JOIN (SELECT cities_df.cid, cities_df.city, cities_df.latitude, cities_df.longitude, MAX(weather_df.temperature) AS highest_temperature FROM weather_df INNER JOIN cities_df ON weather_df.cid = cities_df.cid GROUP BY cities_df.cid, cities_df.city, cities_df.latitude, cities_df.longitude ORDER BY highest_temperature DESC LIMIT 5) AS top_cities ON booking_df.cid = top_cities.cid ORDER BY booking_df.rating DESC LIMIT 20\n",
      "2023-05-09 15:54:22,823 INFO sqlalchemy.engine.Engine [raw sql] {}\n"
     ]
    },
    {
     "data": {
      "text/html": [
       "<div>\n",
       "<style scoped>\n",
       "    .dataframe tbody tr th:only-of-type {\n",
       "        vertical-align: middle;\n",
       "    }\n",
       "\n",
       "    .dataframe tbody tr th {\n",
       "        vertical-align: top;\n",
       "    }\n",
       "\n",
       "    .dataframe thead th {\n",
       "        text-align: right;\n",
       "    }\n",
       "</style>\n",
       "<table border=\"1\" class=\"dataframe\">\n",
       "  <thead>\n",
       "    <tr style=\"text-align: right;\">\n",
       "      <th></th>\n",
       "      <th>name</th>\n",
       "      <th>rating</th>\n",
       "      <th>url</th>\n",
       "      <th>cid</th>\n",
       "      <th>lat_H</th>\n",
       "      <th>lon_H</th>\n",
       "    </tr>\n",
       "  </thead>\n",
       "  <tbody>\n",
       "    <tr>\n",
       "      <th>0</th>\n",
       "      <td>Roma Divine home cinéma et jardin</td>\n",
       "      <td>9.8</td>\n",
       "      <td>https://www.booking.com/hotel/fr/roma-divine-h...</td>\n",
       "      <td>27</td>\n",
       "      <td>43.835487</td>\n",
       "      <td>4.364885</td>\n",
       "    </tr>\n",
       "    <tr>\n",
       "      <th>1</th>\n",
       "      <td>Antichambre</td>\n",
       "      <td>9.8</td>\n",
       "      <td>https://www.booking.com/hotel/fr/antichambre.f...</td>\n",
       "      <td>27</td>\n",
       "      <td>43.835588</td>\n",
       "      <td>4.364194</td>\n",
       "    </tr>\n",
       "    <tr>\n",
       "      <th>2</th>\n",
       "      <td>Le Hameau de la Nicolinière</td>\n",
       "      <td>9.8</td>\n",
       "      <td>https://www.booking.com/hotel/fr/le-hameau-de-...</td>\n",
       "      <td>10</td>\n",
       "      <td>43.103481</td>\n",
       "      <td>6.327924</td>\n",
       "    </tr>\n",
       "    <tr>\n",
       "      <th>3</th>\n",
       "      <td>Séjour atypique et insolite sur notre péniche ...</td>\n",
       "      <td>9.7</td>\n",
       "      <td>https://www.booking.com/hotel/fr/peniche-aigue...</td>\n",
       "      <td>0</td>\n",
       "      <td>43.581709</td>\n",
       "      <td>4.208536</td>\n",
       "    </tr>\n",
       "    <tr>\n",
       "      <th>4</th>\n",
       "      <td>Le Repaire du Soleil</td>\n",
       "      <td>9.7</td>\n",
       "      <td>https://www.booking.com/hotel/fr/le-repaire-du...</td>\n",
       "      <td>0</td>\n",
       "      <td>43.566131</td>\n",
       "      <td>4.193800</td>\n",
       "    </tr>\n",
       "    <tr>\n",
       "      <th>5</th>\n",
       "      <td>Duplex climatisé-Hauteur sous plafond 1,9m-Par...</td>\n",
       "      <td>9.6</td>\n",
       "      <td>https://www.booking.com/hotel/fr/duplex-climat...</td>\n",
       "      <td>5</td>\n",
       "      <td>43.946512</td>\n",
       "      <td>4.803512</td>\n",
       "    </tr>\n",
       "    <tr>\n",
       "      <th>6</th>\n",
       "      <td>HomeStay Bormes</td>\n",
       "      <td>9.6</td>\n",
       "      <td>https://www.booking.com/hotel/fr/homestay-borm...</td>\n",
       "      <td>10</td>\n",
       "      <td>43.122591</td>\n",
       "      <td>6.355040</td>\n",
       "    </tr>\n",
       "    <tr>\n",
       "      <th>7</th>\n",
       "      <td>Mas Fandelou</td>\n",
       "      <td>9.5</td>\n",
       "      <td>https://www.booking.com/hotel/fr/mas-fandelou....</td>\n",
       "      <td>30</td>\n",
       "      <td>43.451223</td>\n",
       "      <td>4.426668</td>\n",
       "    </tr>\n",
       "    <tr>\n",
       "      <th>8</th>\n",
       "      <td>Boutique Hôtel des Remparts &amp; Spa</td>\n",
       "      <td>9.5</td>\n",
       "      <td>https://www.booking.com/hotel/fr/les-remparts-...</td>\n",
       "      <td>0</td>\n",
       "      <td>43.568036</td>\n",
       "      <td>4.190344</td>\n",
       "    </tr>\n",
       "    <tr>\n",
       "      <th>9</th>\n",
       "      <td>la cabane du saunier Stella - Etang du Roy</td>\n",
       "      <td>9.5</td>\n",
       "      <td>https://www.booking.com/hotel/fr/la-cabane-du-...</td>\n",
       "      <td>0</td>\n",
       "      <td>43.579302</td>\n",
       "      <td>4.212834</td>\n",
       "    </tr>\n",
       "    <tr>\n",
       "      <th>10</th>\n",
       "      <td>Au cœur des Papes, dans bâtisse de charme stud...</td>\n",
       "      <td>9.4</td>\n",
       "      <td>https://www.booking.com/hotel/fr/au-coeur-des-...</td>\n",
       "      <td>5</td>\n",
       "      <td>43.292427</td>\n",
       "      <td>5.360845</td>\n",
       "    </tr>\n",
       "    <tr>\n",
       "      <th>11</th>\n",
       "      <td>Domaine de Rhodes B&amp;B</td>\n",
       "      <td>9.4</td>\n",
       "      <td>https://www.booking.com/hotel/fr/domaine-de-rh...</td>\n",
       "      <td>5</td>\n",
       "      <td>43.974516</td>\n",
       "      <td>4.832590</td>\n",
       "    </tr>\n",
       "    <tr>\n",
       "      <th>12</th>\n",
       "      <td>Le Pari Nîmois, avec Parking, Centre Ville Arènes</td>\n",
       "      <td>9.4</td>\n",
       "      <td>https://www.booking.com/hotel/fr/le-pari-nimoi...</td>\n",
       "      <td>27</td>\n",
       "      <td>43.834472</td>\n",
       "      <td>4.356771</td>\n",
       "    </tr>\n",
       "    <tr>\n",
       "      <th>13</th>\n",
       "      <td>Les deux mas</td>\n",
       "      <td>9.4</td>\n",
       "      <td>https://www.booking.com/hotel/fr/lou-mazet-bor...</td>\n",
       "      <td>10</td>\n",
       "      <td>43.216440</td>\n",
       "      <td>5.541746</td>\n",
       "    </tr>\n",
       "    <tr>\n",
       "      <th>14</th>\n",
       "      <td>La Chouette de Camargue</td>\n",
       "      <td>9.4</td>\n",
       "      <td>https://www.booking.com/hotel/fr/la-chouette-d...</td>\n",
       "      <td>0</td>\n",
       "      <td>43.574746</td>\n",
       "      <td>4.188398</td>\n",
       "    </tr>\n",
       "    <tr>\n",
       "      <th>15</th>\n",
       "      <td>B&amp;B La Terre Brûlée</td>\n",
       "      <td>9.2</td>\n",
       "      <td>https://www.booking.com/hotel/fr/b-amp-b-la-te...</td>\n",
       "      <td>0</td>\n",
       "      <td>43.568796</td>\n",
       "      <td>4.188087</td>\n",
       "    </tr>\n",
       "    <tr>\n",
       "      <th>16</th>\n",
       "      <td>Ô 36 Rempart Sud B&amp;B</td>\n",
       "      <td>9.2</td>\n",
       "      <td>https://www.booking.com/hotel/fr/o-36-rempart-...</td>\n",
       "      <td>0</td>\n",
       "      <td>43.571866</td>\n",
       "      <td>4.193662</td>\n",
       "    </tr>\n",
       "    <tr>\n",
       "      <th>17</th>\n",
       "      <td>le logis de l’étoile</td>\n",
       "      <td>9.2</td>\n",
       "      <td>https://www.booking.com/hotel/fr/le-logis-de-l...</td>\n",
       "      <td>27</td>\n",
       "      <td>43.836261</td>\n",
       "      <td>4.358701</td>\n",
       "    </tr>\n",
       "    <tr>\n",
       "      <th>18</th>\n",
       "      <td>Le Mirage</td>\n",
       "      <td>9.2</td>\n",
       "      <td>https://www.booking.com/hotel/fr/le-domaine-du...</td>\n",
       "      <td>10</td>\n",
       "      <td>43.123813</td>\n",
       "      <td>6.358133</td>\n",
       "    </tr>\n",
       "    <tr>\n",
       "      <th>19</th>\n",
       "      <td>Appartement moderne tout confort, idéalement p...</td>\n",
       "      <td>9.2</td>\n",
       "      <td>https://www.booking.com/hotel/fr/appartement-m...</td>\n",
       "      <td>0</td>\n",
       "      <td>43.567701</td>\n",
       "      <td>4.193413</td>\n",
       "    </tr>\n",
       "  </tbody>\n",
       "</table>\n",
       "</div>"
      ],
      "text/plain": [
       "                                                 name  rating  \\\n",
       "0                   Roma Divine home cinéma et jardin     9.8   \n",
       "1                                         Antichambre     9.8   \n",
       "2                         Le Hameau de la Nicolinière     9.8   \n",
       "3   Séjour atypique et insolite sur notre péniche ...     9.7   \n",
       "4                                Le Repaire du Soleil     9.7   \n",
       "5   Duplex climatisé-Hauteur sous plafond 1,9m-Par...     9.6   \n",
       "6                                     HomeStay Bormes     9.6   \n",
       "7                                        Mas Fandelou     9.5   \n",
       "8                   Boutique Hôtel des Remparts & Spa     9.5   \n",
       "9          la cabane du saunier Stella - Etang du Roy     9.5   \n",
       "10  Au cœur des Papes, dans bâtisse de charme stud...     9.4   \n",
       "11                              Domaine de Rhodes B&B     9.4   \n",
       "12  Le Pari Nîmois, avec Parking, Centre Ville Arènes     9.4   \n",
       "13                                       Les deux mas     9.4   \n",
       "14                            La Chouette de Camargue     9.4   \n",
       "15                                B&B La Terre Brûlée     9.2   \n",
       "16                               Ô 36 Rempart Sud B&B     9.2   \n",
       "17                               le logis de l’étoile     9.2   \n",
       "18                                          Le Mirage     9.2   \n",
       "19  Appartement moderne tout confort, idéalement p...     9.2   \n",
       "\n",
       "                                                  url  cid      lat_H  \\\n",
       "0   https://www.booking.com/hotel/fr/roma-divine-h...   27  43.835487   \n",
       "1   https://www.booking.com/hotel/fr/antichambre.f...   27  43.835588   \n",
       "2   https://www.booking.com/hotel/fr/le-hameau-de-...   10  43.103481   \n",
       "3   https://www.booking.com/hotel/fr/peniche-aigue...    0  43.581709   \n",
       "4   https://www.booking.com/hotel/fr/le-repaire-du...    0  43.566131   \n",
       "5   https://www.booking.com/hotel/fr/duplex-climat...    5  43.946512   \n",
       "6   https://www.booking.com/hotel/fr/homestay-borm...   10  43.122591   \n",
       "7   https://www.booking.com/hotel/fr/mas-fandelou....   30  43.451223   \n",
       "8   https://www.booking.com/hotel/fr/les-remparts-...    0  43.568036   \n",
       "9   https://www.booking.com/hotel/fr/la-cabane-du-...    0  43.579302   \n",
       "10  https://www.booking.com/hotel/fr/au-coeur-des-...    5  43.292427   \n",
       "11  https://www.booking.com/hotel/fr/domaine-de-rh...    5  43.974516   \n",
       "12  https://www.booking.com/hotel/fr/le-pari-nimoi...   27  43.834472   \n",
       "13  https://www.booking.com/hotel/fr/lou-mazet-bor...   10  43.216440   \n",
       "14  https://www.booking.com/hotel/fr/la-chouette-d...    0  43.574746   \n",
       "15  https://www.booking.com/hotel/fr/b-amp-b-la-te...    0  43.568796   \n",
       "16  https://www.booking.com/hotel/fr/o-36-rempart-...    0  43.571866   \n",
       "17  https://www.booking.com/hotel/fr/le-logis-de-l...   27  43.836261   \n",
       "18  https://www.booking.com/hotel/fr/le-domaine-du...   10  43.123813   \n",
       "19  https://www.booking.com/hotel/fr/appartement-m...    0  43.567701   \n",
       "\n",
       "       lon_H  \n",
       "0   4.364885  \n",
       "1   4.364194  \n",
       "2   6.327924  \n",
       "3   4.208536  \n",
       "4   4.193800  \n",
       "5   4.803512  \n",
       "6   6.355040  \n",
       "7   4.426668  \n",
       "8   4.190344  \n",
       "9   4.212834  \n",
       "10  5.360845  \n",
       "11  4.832590  \n",
       "12  4.356771  \n",
       "13  5.541746  \n",
       "14  4.188398  \n",
       "15  4.188087  \n",
       "16  4.193662  \n",
       "17  4.358701  \n",
       "18  6.358133  \n",
       "19  4.193413  "
      ]
     },
     "execution_count": 90,
     "metadata": {},
     "output_type": "execute_result"
    }
   ],
   "source": [
    "# Top 20 hotels in those areas with the highest ratings\n",
    "df2 = pd.read_sql(\"SELECT booking_df.name, booking_df.rating, booking_df.url, booking_df.cid, booking_df.lat_H, booking_df.lon_H FROM booking_df JOIN (SELECT cities_df.cid, cities_df.city, cities_df.latitude, cities_df.longitude, MAX(weather_df.temperature) AS highest_temperature FROM weather_df INNER JOIN cities_df ON weather_df.cid = cities_df.cid GROUP BY cities_df.cid, cities_df.city, cities_df.latitude, cities_df.longitude ORDER BY highest_temperature DESC LIMIT 5) AS top_cities ON booking_df.cid = top_cities.cid ORDER BY booking_df.rating DESC LIMIT 20\", engine)\n",
    "df2 = pd.DataFrame(df2)\n",
    "df2"
   ]
  },
  {
   "cell_type": "code",
   "execution_count": 91,
   "metadata": {},
   "outputs": [
    {
     "name": "stdout",
     "output_type": "stream",
     "text": [
      "2023-05-09 15:54:22,949 INFO sqlalchemy.engine.Engine SELECT COUNT(*) FROM information_schema.tables WHERE table_schema = %(table_schema)s AND table_name = %(table_name)s\n",
      "2023-05-09 15:54:22,950 INFO sqlalchemy.engine.Engine [cached since 1.786s ago] {'table_schema': 'None', 'table_name': 'SELECT booking_df.name, booking_df.rating, booking_df.url, booking_df.cid, booking_df.lat_H, booking_df.lon_H FROM booking_df ORDER BY booking_df.rating DESC LIMIT 20'}\n",
      "2023-05-09 15:54:22,978 INFO sqlalchemy.engine.Engine SELECT booking_df.name, booking_df.rating, booking_df.url, booking_df.cid, booking_df.lat_H, booking_df.lon_H FROM booking_df ORDER BY booking_df.rating DESC LIMIT 20\n",
      "2023-05-09 15:54:22,979 INFO sqlalchemy.engine.Engine [raw sql] {}\n"
     ]
    },
    {
     "data": {
      "text/html": [
       "<div>\n",
       "<style scoped>\n",
       "    .dataframe tbody tr th:only-of-type {\n",
       "        vertical-align: middle;\n",
       "    }\n",
       "\n",
       "    .dataframe tbody tr th {\n",
       "        vertical-align: top;\n",
       "    }\n",
       "\n",
       "    .dataframe thead th {\n",
       "        text-align: right;\n",
       "    }\n",
       "</style>\n",
       "<table border=\"1\" class=\"dataframe\">\n",
       "  <thead>\n",
       "    <tr style=\"text-align: right;\">\n",
       "      <th></th>\n",
       "      <th>name</th>\n",
       "      <th>rating</th>\n",
       "      <th>url</th>\n",
       "      <th>cid</th>\n",
       "      <th>lat_H</th>\n",
       "      <th>lon_H</th>\n",
       "    </tr>\n",
       "  </thead>\n",
       "  <tbody>\n",
       "    <tr>\n",
       "      <th>0</th>\n",
       "      <td>Le 6 Bis by Les Cailloux Dorés</td>\n",
       "      <td>10.0</td>\n",
       "      <td>https://www.booking.com/hotel/fr/le-6-bis-uzes...</td>\n",
       "      <td>34</td>\n",
       "      <td>44.011689</td>\n",
       "      <td>4.421285</td>\n",
       "    </tr>\n",
       "    <tr>\n",
       "      <th>1</th>\n",
       "      <td>T3 Neuf Garage, clim, wifi, plages à 3min à pied!</td>\n",
       "      <td>10.0</td>\n",
       "      <td>https://www.booking.com/hotel/fr/t3-neuf-garag...</td>\n",
       "      <td>14</td>\n",
       "      <td>42.525382</td>\n",
       "      <td>3.082564</td>\n",
       "    </tr>\n",
       "    <tr>\n",
       "      <th>2</th>\n",
       "      <td>LE LAVOIR Classé 5***** BAYEUX Centre 9 Personnes</td>\n",
       "      <td>10.0</td>\n",
       "      <td>https://www.booking.com/hotel/fr/le-lavoir-cla...</td>\n",
       "      <td>6</td>\n",
       "      <td>49.269999</td>\n",
       "      <td>-0.706950</td>\n",
       "    </tr>\n",
       "    <tr>\n",
       "      <th>3</th>\n",
       "      <td>Villa Design-Piscine-BBQ-Terrasses-Centre-Ville</td>\n",
       "      <td>10.0</td>\n",
       "      <td>https://www.booking.com/hotel/fr/villa-ideale-...</td>\n",
       "      <td>15</td>\n",
       "      <td>48.070866</td>\n",
       "      <td>7.362789</td>\n",
       "    </tr>\n",
       "    <tr>\n",
       "      <th>4</th>\n",
       "      <td>GITE LE COQ ROUGE</td>\n",
       "      <td>9.8</td>\n",
       "      <td>https://www.booking.com/hotel/fr/gite-le-coq-r...</td>\n",
       "      <td>17</td>\n",
       "      <td>48.042576</td>\n",
       "      <td>7.305239</td>\n",
       "    </tr>\n",
       "    <tr>\n",
       "      <th>5</th>\n",
       "      <td>Villa Grimm</td>\n",
       "      <td>9.8</td>\n",
       "      <td>https://www.booking.com/hotel/fr/villa-grimm.f...</td>\n",
       "      <td>13</td>\n",
       "      <td>48.256709</td>\n",
       "      <td>7.450817</td>\n",
       "    </tr>\n",
       "    <tr>\n",
       "      <th>6</th>\n",
       "      <td>Fleur de Vigne</td>\n",
       "      <td>9.8</td>\n",
       "      <td>https://www.booking.com/hotel/fr/fleur-de-vign...</td>\n",
       "      <td>17</td>\n",
       "      <td>48.046113</td>\n",
       "      <td>7.305163</td>\n",
       "    </tr>\n",
       "    <tr>\n",
       "      <th>7</th>\n",
       "      <td>Apartment Le 1727</td>\n",
       "      <td>9.8</td>\n",
       "      <td>https://www.booking.com/hotel/fr/apartment-le-...</td>\n",
       "      <td>31</td>\n",
       "      <td>49.887148</td>\n",
       "      <td>2.311611</td>\n",
       "    </tr>\n",
       "    <tr>\n",
       "      <th>8</th>\n",
       "      <td>Le Hameau de la Nicolinière</td>\n",
       "      <td>9.8</td>\n",
       "      <td>https://www.booking.com/hotel/fr/le-hameau-de-...</td>\n",
       "      <td>10</td>\n",
       "      <td>43.103481</td>\n",
       "      <td>6.327924</td>\n",
       "    </tr>\n",
       "    <tr>\n",
       "      <th>9</th>\n",
       "      <td>Le Loft de La Tour Pinte</td>\n",
       "      <td>9.8</td>\n",
       "      <td>https://www.booking.com/hotel/fr/le-loft-de-la...</td>\n",
       "      <td>11</td>\n",
       "      <td>43.216262</td>\n",
       "      <td>2.286488</td>\n",
       "    </tr>\n",
       "    <tr>\n",
       "      <th>10</th>\n",
       "      <td>Maison De La Bourgade</td>\n",
       "      <td>9.8</td>\n",
       "      <td>https://www.booking.com/hotel/fr/maison-de-la-...</td>\n",
       "      <td>34</td>\n",
       "      <td>44.009668</td>\n",
       "      <td>4.418032</td>\n",
       "    </tr>\n",
       "    <tr>\n",
       "      <th>11</th>\n",
       "      <td>Les appartements de Clélia</td>\n",
       "      <td>9.8</td>\n",
       "      <td>https://www.booking.com/hotel/fr/les-jardins-d...</td>\n",
       "      <td>4</td>\n",
       "      <td>42.589904</td>\n",
       "      <td>1.798368</td>\n",
       "    </tr>\n",
       "    <tr>\n",
       "      <th>12</th>\n",
       "      <td>Roma Divine home cinéma et jardin</td>\n",
       "      <td>9.8</td>\n",
       "      <td>https://www.booking.com/hotel/fr/roma-divine-h...</td>\n",
       "      <td>27</td>\n",
       "      <td>43.835487</td>\n",
       "      <td>4.364885</td>\n",
       "    </tr>\n",
       "    <tr>\n",
       "      <th>13</th>\n",
       "      <td>Antichambre</td>\n",
       "      <td>9.8</td>\n",
       "      <td>https://www.booking.com/hotel/fr/antichambre.f...</td>\n",
       "      <td>27</td>\n",
       "      <td>43.835588</td>\n",
       "      <td>4.364194</td>\n",
       "    </tr>\n",
       "    <tr>\n",
       "      <th>14</th>\n",
       "      <td>Le Clos Fleuri</td>\n",
       "      <td>9.7</td>\n",
       "      <td>https://www.booking.com/hotel/fr/le-clos-fleur...</td>\n",
       "      <td>4</td>\n",
       "      <td>43.034496</td>\n",
       "      <td>1.057240</td>\n",
       "    </tr>\n",
       "    <tr>\n",
       "      <th>15</th>\n",
       "      <td>Le Repaire du Soleil</td>\n",
       "      <td>9.7</td>\n",
       "      <td>https://www.booking.com/hotel/fr/le-repaire-du...</td>\n",
       "      <td>0</td>\n",
       "      <td>43.566131</td>\n",
       "      <td>4.193800</td>\n",
       "    </tr>\n",
       "    <tr>\n",
       "      <th>16</th>\n",
       "      <td>Séjour atypique et insolite sur notre péniche ...</td>\n",
       "      <td>9.7</td>\n",
       "      <td>https://www.booking.com/hotel/fr/peniche-aigue...</td>\n",
       "      <td>0</td>\n",
       "      <td>43.581709</td>\n",
       "      <td>4.208536</td>\n",
       "    </tr>\n",
       "    <tr>\n",
       "      <th>17</th>\n",
       "      <td>Patio Arena</td>\n",
       "      <td>9.7</td>\n",
       "      <td>https://www.booking.com/hotel/fr/patio-arena.f...</td>\n",
       "      <td>7</td>\n",
       "      <td>43.491267</td>\n",
       "      <td>-1.475290</td>\n",
       "    </tr>\n",
       "    <tr>\n",
       "      <th>18</th>\n",
       "      <td>Gite De Charme</td>\n",
       "      <td>9.7</td>\n",
       "      <td>https://www.booking.com/hotel/fr/gite-de-charm...</td>\n",
       "      <td>4</td>\n",
       "      <td>42.935923</td>\n",
       "      <td>1.573169</td>\n",
       "    </tr>\n",
       "    <tr>\n",
       "      <th>19</th>\n",
       "      <td>Magnolia magnifique T2 entièrement rénové.</td>\n",
       "      <td>9.7</td>\n",
       "      <td>https://www.booking.com/hotel/fr/magnolia-magn...</td>\n",
       "      <td>26</td>\n",
       "      <td>44.017020</td>\n",
       "      <td>1.354564</td>\n",
       "    </tr>\n",
       "  </tbody>\n",
       "</table>\n",
       "</div>"
      ],
      "text/plain": [
       "                                                 name  rating  \\\n",
       "0                      Le 6 Bis by Les Cailloux Dorés    10.0   \n",
       "1   T3 Neuf Garage, clim, wifi, plages à 3min à pied!    10.0   \n",
       "2   LE LAVOIR Classé 5***** BAYEUX Centre 9 Personnes    10.0   \n",
       "3     Villa Design-Piscine-BBQ-Terrasses-Centre-Ville    10.0   \n",
       "4                                   GITE LE COQ ROUGE     9.8   \n",
       "5                                         Villa Grimm     9.8   \n",
       "6                                      Fleur de Vigne     9.8   \n",
       "7                                   Apartment Le 1727     9.8   \n",
       "8                         Le Hameau de la Nicolinière     9.8   \n",
       "9                            Le Loft de La Tour Pinte     9.8   \n",
       "10                              Maison De La Bourgade     9.8   \n",
       "11                         Les appartements de Clélia     9.8   \n",
       "12                  Roma Divine home cinéma et jardin     9.8   \n",
       "13                                        Antichambre     9.8   \n",
       "14                                     Le Clos Fleuri     9.7   \n",
       "15                               Le Repaire du Soleil     9.7   \n",
       "16  Séjour atypique et insolite sur notre péniche ...     9.7   \n",
       "17                                        Patio Arena     9.7   \n",
       "18                                     Gite De Charme     9.7   \n",
       "19         Magnolia magnifique T2 entièrement rénové.     9.7   \n",
       "\n",
       "                                                  url  cid      lat_H  \\\n",
       "0   https://www.booking.com/hotel/fr/le-6-bis-uzes...   34  44.011689   \n",
       "1   https://www.booking.com/hotel/fr/t3-neuf-garag...   14  42.525382   \n",
       "2   https://www.booking.com/hotel/fr/le-lavoir-cla...    6  49.269999   \n",
       "3   https://www.booking.com/hotel/fr/villa-ideale-...   15  48.070866   \n",
       "4   https://www.booking.com/hotel/fr/gite-le-coq-r...   17  48.042576   \n",
       "5   https://www.booking.com/hotel/fr/villa-grimm.f...   13  48.256709   \n",
       "6   https://www.booking.com/hotel/fr/fleur-de-vign...   17  48.046113   \n",
       "7   https://www.booking.com/hotel/fr/apartment-le-...   31  49.887148   \n",
       "8   https://www.booking.com/hotel/fr/le-hameau-de-...   10  43.103481   \n",
       "9   https://www.booking.com/hotel/fr/le-loft-de-la...   11  43.216262   \n",
       "10  https://www.booking.com/hotel/fr/maison-de-la-...   34  44.009668   \n",
       "11  https://www.booking.com/hotel/fr/les-jardins-d...    4  42.589904   \n",
       "12  https://www.booking.com/hotel/fr/roma-divine-h...   27  43.835487   \n",
       "13  https://www.booking.com/hotel/fr/antichambre.f...   27  43.835588   \n",
       "14  https://www.booking.com/hotel/fr/le-clos-fleur...    4  43.034496   \n",
       "15  https://www.booking.com/hotel/fr/le-repaire-du...    0  43.566131   \n",
       "16  https://www.booking.com/hotel/fr/peniche-aigue...    0  43.581709   \n",
       "17  https://www.booking.com/hotel/fr/patio-arena.f...    7  43.491267   \n",
       "18  https://www.booking.com/hotel/fr/gite-de-charm...    4  42.935923   \n",
       "19  https://www.booking.com/hotel/fr/magnolia-magn...   26  44.017020   \n",
       "\n",
       "       lon_H  \n",
       "0   4.421285  \n",
       "1   3.082564  \n",
       "2  -0.706950  \n",
       "3   7.362789  \n",
       "4   7.305239  \n",
       "5   7.450817  \n",
       "6   7.305163  \n",
       "7   2.311611  \n",
       "8   6.327924  \n",
       "9   2.286488  \n",
       "10  4.418032  \n",
       "11  1.798368  \n",
       "12  4.364885  \n",
       "13  4.364194  \n",
       "14  1.057240  \n",
       "15  4.193800  \n",
       "16  4.208536  \n",
       "17 -1.475290  \n",
       "18  1.573169  \n",
       "19  1.354564  "
      ]
     },
     "execution_count": 91,
     "metadata": {},
     "output_type": "execute_result"
    }
   ],
   "source": [
    "# Top 20 hotels in those areas with the highest ratings\n",
    "df3 = pd.read_sql(\"SELECT booking_df.name, booking_df.rating, booking_df.url, booking_df.cid, booking_df.lat_H, booking_df.lon_H FROM booking_df ORDER BY booking_df.rating DESC LIMIT 20\", engine)\n",
    "df3 = pd.DataFrame(df3)\n",
    "df3"
   ]
  },
  {
   "cell_type": "code",
   "execution_count": 92,
   "metadata": {},
   "outputs": [
    {
     "data": {
      "text/plain": [
       "\"# we have the 20 best hotel and none of those 20 is located in Aix, that is why it is not there.\\nbest_destination = pd.merge(df1, df2, on=['cid'])\\nbest_destination = pd.DataFrame(best_destination)\""
      ]
     },
     "execution_count": 92,
     "metadata": {},
     "output_type": "execute_result"
    }
   ],
   "source": [
    "\"\"\"# we have the 20 best hotel and none of those 20 is located in Aix, that is why it is not there.\n",
    "best_destination = pd.merge(df1, df2, on=['cid'])\n",
    "best_destination = pd.DataFrame(best_destination)\"\"\""
   ]
  },
  {
   "attachments": {},
   "cell_type": "markdown",
   "metadata": {},
   "source": [
    "---------\n",
    "### __6. Visualize our Top5 Destinations and Top 20 hotels__\n",
    "---------"
   ]
  },
  {
   "cell_type": "code",
   "execution_count": 93,
   "metadata": {},
   "outputs": [
    {
     "data": {
      "application/vnd.plotly.v1+json": {
       "config": {
        "plotlyServerURL": "https://plot.ly"
       },
       "data": [
        {
         "customdata": [
          [
           43.8374249,
           4.3600687,
           22.58
          ],
          [
           43.5658225,
           4.1912837,
           22.53
          ],
          [
           43.1506968,
           6.3419285,
           21.58
          ],
          [
           43.9492493,
           4.8059012,
           21.32
          ],
          [
           43.4522771,
           4.4287172,
           21.3
          ]
         ],
         "hovertemplate": "<b>%{hovertext}</b><br><br>highest_temperature=%{marker.color}<br>latitude=%{customdata[0]}<br>longitude=%{customdata[1]}<extra></extra>",
         "hovertext": [
          "Nimes",
          "Aigues Mortes",
          "Bormes les Mimosas",
          "Avignon",
          "Saintes Maries de la mer"
         ],
         "lat": [
          43.8374249,
          43.5658225,
          43.1506968,
          43.9492493,
          43.4522771
         ],
         "legendgroup": "",
         "lon": [
          4.3600687,
          4.1912837,
          6.3419285,
          4.8059012,
          4.4287172
         ],
         "marker": {
          "color": [
           22.58,
           22.53,
           21.58,
           21.32,
           21.3
          ],
          "coloraxis": "coloraxis",
          "size": [
           22.58,
           22.53,
           21.58,
           21.32,
           21.3
          ],
          "sizemode": "area",
          "sizeref": 0.05644999999999999
         },
         "mode": "markers",
         "name": "",
         "showlegend": false,
         "subplot": "mapbox",
         "type": "scattermapbox"
        }
       ],
       "layout": {
        "coloraxis": {
         "colorbar": {
          "title": {
           "text": "highest_temperature"
          }
         },
         "colorscale": [
          [
           0,
           "#0d0887"
          ],
          [
           0.1111111111111111,
           "#46039f"
          ],
          [
           0.2222222222222222,
           "#7201a8"
          ],
          [
           0.3333333333333333,
           "#9c179e"
          ],
          [
           0.4444444444444444,
           "#bd3786"
          ],
          [
           0.5555555555555556,
           "#d8576b"
          ],
          [
           0.6666666666666666,
           "#ed7953"
          ],
          [
           0.7777777777777778,
           "#fb9f3a"
          ],
          [
           0.8888888888888888,
           "#fdca26"
          ],
          [
           1,
           "#f0f921"
          ]
         ]
        },
        "height": 550,
        "legend": {
         "itemsizing": "constant",
         "tracegroupgap": 0
        },
        "mapbox": {
         "center": {
          "lat": 43.591094119999994,
          "lon": 4.8255798599999995
         },
         "domain": {
          "x": [
           0,
           1
          ],
          "y": [
           0,
           1
          ]
         },
         "style": "carto-positron",
         "zoom": 6
        },
        "template": {
         "data": {
          "bar": [
           {
            "error_x": {
             "color": "#2a3f5f"
            },
            "error_y": {
             "color": "#2a3f5f"
            },
            "marker": {
             "line": {
              "color": "#E5ECF6",
              "width": 0.5
             },
             "pattern": {
              "fillmode": "overlay",
              "size": 10,
              "solidity": 0.2
             }
            },
            "type": "bar"
           }
          ],
          "barpolar": [
           {
            "marker": {
             "line": {
              "color": "#E5ECF6",
              "width": 0.5
             },
             "pattern": {
              "fillmode": "overlay",
              "size": 10,
              "solidity": 0.2
             }
            },
            "type": "barpolar"
           }
          ],
          "carpet": [
           {
            "aaxis": {
             "endlinecolor": "#2a3f5f",
             "gridcolor": "white",
             "linecolor": "white",
             "minorgridcolor": "white",
             "startlinecolor": "#2a3f5f"
            },
            "baxis": {
             "endlinecolor": "#2a3f5f",
             "gridcolor": "white",
             "linecolor": "white",
             "minorgridcolor": "white",
             "startlinecolor": "#2a3f5f"
            },
            "type": "carpet"
           }
          ],
          "choropleth": [
           {
            "colorbar": {
             "outlinewidth": 0,
             "ticks": ""
            },
            "type": "choropleth"
           }
          ],
          "contour": [
           {
            "colorbar": {
             "outlinewidth": 0,
             "ticks": ""
            },
            "colorscale": [
             [
              0,
              "#0d0887"
             ],
             [
              0.1111111111111111,
              "#46039f"
             ],
             [
              0.2222222222222222,
              "#7201a8"
             ],
             [
              0.3333333333333333,
              "#9c179e"
             ],
             [
              0.4444444444444444,
              "#bd3786"
             ],
             [
              0.5555555555555556,
              "#d8576b"
             ],
             [
              0.6666666666666666,
              "#ed7953"
             ],
             [
              0.7777777777777778,
              "#fb9f3a"
             ],
             [
              0.8888888888888888,
              "#fdca26"
             ],
             [
              1,
              "#f0f921"
             ]
            ],
            "type": "contour"
           }
          ],
          "contourcarpet": [
           {
            "colorbar": {
             "outlinewidth": 0,
             "ticks": ""
            },
            "type": "contourcarpet"
           }
          ],
          "heatmap": [
           {
            "colorbar": {
             "outlinewidth": 0,
             "ticks": ""
            },
            "colorscale": [
             [
              0,
              "#0d0887"
             ],
             [
              0.1111111111111111,
              "#46039f"
             ],
             [
              0.2222222222222222,
              "#7201a8"
             ],
             [
              0.3333333333333333,
              "#9c179e"
             ],
             [
              0.4444444444444444,
              "#bd3786"
             ],
             [
              0.5555555555555556,
              "#d8576b"
             ],
             [
              0.6666666666666666,
              "#ed7953"
             ],
             [
              0.7777777777777778,
              "#fb9f3a"
             ],
             [
              0.8888888888888888,
              "#fdca26"
             ],
             [
              1,
              "#f0f921"
             ]
            ],
            "type": "heatmap"
           }
          ],
          "heatmapgl": [
           {
            "colorbar": {
             "outlinewidth": 0,
             "ticks": ""
            },
            "colorscale": [
             [
              0,
              "#0d0887"
             ],
             [
              0.1111111111111111,
              "#46039f"
             ],
             [
              0.2222222222222222,
              "#7201a8"
             ],
             [
              0.3333333333333333,
              "#9c179e"
             ],
             [
              0.4444444444444444,
              "#bd3786"
             ],
             [
              0.5555555555555556,
              "#d8576b"
             ],
             [
              0.6666666666666666,
              "#ed7953"
             ],
             [
              0.7777777777777778,
              "#fb9f3a"
             ],
             [
              0.8888888888888888,
              "#fdca26"
             ],
             [
              1,
              "#f0f921"
             ]
            ],
            "type": "heatmapgl"
           }
          ],
          "histogram": [
           {
            "marker": {
             "pattern": {
              "fillmode": "overlay",
              "size": 10,
              "solidity": 0.2
             }
            },
            "type": "histogram"
           }
          ],
          "histogram2d": [
           {
            "colorbar": {
             "outlinewidth": 0,
             "ticks": ""
            },
            "colorscale": [
             [
              0,
              "#0d0887"
             ],
             [
              0.1111111111111111,
              "#46039f"
             ],
             [
              0.2222222222222222,
              "#7201a8"
             ],
             [
              0.3333333333333333,
              "#9c179e"
             ],
             [
              0.4444444444444444,
              "#bd3786"
             ],
             [
              0.5555555555555556,
              "#d8576b"
             ],
             [
              0.6666666666666666,
              "#ed7953"
             ],
             [
              0.7777777777777778,
              "#fb9f3a"
             ],
             [
              0.8888888888888888,
              "#fdca26"
             ],
             [
              1,
              "#f0f921"
             ]
            ],
            "type": "histogram2d"
           }
          ],
          "histogram2dcontour": [
           {
            "colorbar": {
             "outlinewidth": 0,
             "ticks": ""
            },
            "colorscale": [
             [
              0,
              "#0d0887"
             ],
             [
              0.1111111111111111,
              "#46039f"
             ],
             [
              0.2222222222222222,
              "#7201a8"
             ],
             [
              0.3333333333333333,
              "#9c179e"
             ],
             [
              0.4444444444444444,
              "#bd3786"
             ],
             [
              0.5555555555555556,
              "#d8576b"
             ],
             [
              0.6666666666666666,
              "#ed7953"
             ],
             [
              0.7777777777777778,
              "#fb9f3a"
             ],
             [
              0.8888888888888888,
              "#fdca26"
             ],
             [
              1,
              "#f0f921"
             ]
            ],
            "type": "histogram2dcontour"
           }
          ],
          "mesh3d": [
           {
            "colorbar": {
             "outlinewidth": 0,
             "ticks": ""
            },
            "type": "mesh3d"
           }
          ],
          "parcoords": [
           {
            "line": {
             "colorbar": {
              "outlinewidth": 0,
              "ticks": ""
             }
            },
            "type": "parcoords"
           }
          ],
          "pie": [
           {
            "automargin": true,
            "type": "pie"
           }
          ],
          "scatter": [
           {
            "fillpattern": {
             "fillmode": "overlay",
             "size": 10,
             "solidity": 0.2
            },
            "type": "scatter"
           }
          ],
          "scatter3d": [
           {
            "line": {
             "colorbar": {
              "outlinewidth": 0,
              "ticks": ""
             }
            },
            "marker": {
             "colorbar": {
              "outlinewidth": 0,
              "ticks": ""
             }
            },
            "type": "scatter3d"
           }
          ],
          "scattercarpet": [
           {
            "marker": {
             "colorbar": {
              "outlinewidth": 0,
              "ticks": ""
             }
            },
            "type": "scattercarpet"
           }
          ],
          "scattergeo": [
           {
            "marker": {
             "colorbar": {
              "outlinewidth": 0,
              "ticks": ""
             }
            },
            "type": "scattergeo"
           }
          ],
          "scattergl": [
           {
            "marker": {
             "colorbar": {
              "outlinewidth": 0,
              "ticks": ""
             }
            },
            "type": "scattergl"
           }
          ],
          "scattermapbox": [
           {
            "marker": {
             "colorbar": {
              "outlinewidth": 0,
              "ticks": ""
             }
            },
            "type": "scattermapbox"
           }
          ],
          "scatterpolar": [
           {
            "marker": {
             "colorbar": {
              "outlinewidth": 0,
              "ticks": ""
             }
            },
            "type": "scatterpolar"
           }
          ],
          "scatterpolargl": [
           {
            "marker": {
             "colorbar": {
              "outlinewidth": 0,
              "ticks": ""
             }
            },
            "type": "scatterpolargl"
           }
          ],
          "scatterternary": [
           {
            "marker": {
             "colorbar": {
              "outlinewidth": 0,
              "ticks": ""
             }
            },
            "type": "scatterternary"
           }
          ],
          "surface": [
           {
            "colorbar": {
             "outlinewidth": 0,
             "ticks": ""
            },
            "colorscale": [
             [
              0,
              "#0d0887"
             ],
             [
              0.1111111111111111,
              "#46039f"
             ],
             [
              0.2222222222222222,
              "#7201a8"
             ],
             [
              0.3333333333333333,
              "#9c179e"
             ],
             [
              0.4444444444444444,
              "#bd3786"
             ],
             [
              0.5555555555555556,
              "#d8576b"
             ],
             [
              0.6666666666666666,
              "#ed7953"
             ],
             [
              0.7777777777777778,
              "#fb9f3a"
             ],
             [
              0.8888888888888888,
              "#fdca26"
             ],
             [
              1,
              "#f0f921"
             ]
            ],
            "type": "surface"
           }
          ],
          "table": [
           {
            "cells": {
             "fill": {
              "color": "#EBF0F8"
             },
             "line": {
              "color": "white"
             }
            },
            "header": {
             "fill": {
              "color": "#C8D4E3"
             },
             "line": {
              "color": "white"
             }
            },
            "type": "table"
           }
          ]
         },
         "layout": {
          "annotationdefaults": {
           "arrowcolor": "#2a3f5f",
           "arrowhead": 0,
           "arrowwidth": 1
          },
          "autotypenumbers": "strict",
          "coloraxis": {
           "colorbar": {
            "outlinewidth": 0,
            "ticks": ""
           }
          },
          "colorscale": {
           "diverging": [
            [
             0,
             "#8e0152"
            ],
            [
             0.1,
             "#c51b7d"
            ],
            [
             0.2,
             "#de77ae"
            ],
            [
             0.3,
             "#f1b6da"
            ],
            [
             0.4,
             "#fde0ef"
            ],
            [
             0.5,
             "#f7f7f7"
            ],
            [
             0.6,
             "#e6f5d0"
            ],
            [
             0.7,
             "#b8e186"
            ],
            [
             0.8,
             "#7fbc41"
            ],
            [
             0.9,
             "#4d9221"
            ],
            [
             1,
             "#276419"
            ]
           ],
           "sequential": [
            [
             0,
             "#0d0887"
            ],
            [
             0.1111111111111111,
             "#46039f"
            ],
            [
             0.2222222222222222,
             "#7201a8"
            ],
            [
             0.3333333333333333,
             "#9c179e"
            ],
            [
             0.4444444444444444,
             "#bd3786"
            ],
            [
             0.5555555555555556,
             "#d8576b"
            ],
            [
             0.6666666666666666,
             "#ed7953"
            ],
            [
             0.7777777777777778,
             "#fb9f3a"
            ],
            [
             0.8888888888888888,
             "#fdca26"
            ],
            [
             1,
             "#f0f921"
            ]
           ],
           "sequentialminus": [
            [
             0,
             "#0d0887"
            ],
            [
             0.1111111111111111,
             "#46039f"
            ],
            [
             0.2222222222222222,
             "#7201a8"
            ],
            [
             0.3333333333333333,
             "#9c179e"
            ],
            [
             0.4444444444444444,
             "#bd3786"
            ],
            [
             0.5555555555555556,
             "#d8576b"
            ],
            [
             0.6666666666666666,
             "#ed7953"
            ],
            [
             0.7777777777777778,
             "#fb9f3a"
            ],
            [
             0.8888888888888888,
             "#fdca26"
            ],
            [
             1,
             "#f0f921"
            ]
           ]
          },
          "colorway": [
           "#636efa",
           "#EF553B",
           "#00cc96",
           "#ab63fa",
           "#FFA15A",
           "#19d3f3",
           "#FF6692",
           "#B6E880",
           "#FF97FF",
           "#FECB52"
          ],
          "font": {
           "color": "#2a3f5f"
          },
          "geo": {
           "bgcolor": "white",
           "lakecolor": "white",
           "landcolor": "#E5ECF6",
           "showlakes": true,
           "showland": true,
           "subunitcolor": "white"
          },
          "hoverlabel": {
           "align": "left"
          },
          "hovermode": "closest",
          "mapbox": {
           "style": "light"
          },
          "paper_bgcolor": "white",
          "plot_bgcolor": "#E5ECF6",
          "polar": {
           "angularaxis": {
            "gridcolor": "white",
            "linecolor": "white",
            "ticks": ""
           },
           "bgcolor": "#E5ECF6",
           "radialaxis": {
            "gridcolor": "white",
            "linecolor": "white",
            "ticks": ""
           }
          },
          "scene": {
           "xaxis": {
            "backgroundcolor": "#E5ECF6",
            "gridcolor": "white",
            "gridwidth": 2,
            "linecolor": "white",
            "showbackground": true,
            "ticks": "",
            "zerolinecolor": "white"
           },
           "yaxis": {
            "backgroundcolor": "#E5ECF6",
            "gridcolor": "white",
            "gridwidth": 2,
            "linecolor": "white",
            "showbackground": true,
            "ticks": "",
            "zerolinecolor": "white"
           },
           "zaxis": {
            "backgroundcolor": "#E5ECF6",
            "gridcolor": "white",
            "gridwidth": 2,
            "linecolor": "white",
            "showbackground": true,
            "ticks": "",
            "zerolinecolor": "white"
           }
          },
          "shapedefaults": {
           "line": {
            "color": "#2a3f5f"
           }
          },
          "ternary": {
           "aaxis": {
            "gridcolor": "white",
            "linecolor": "white",
            "ticks": ""
           },
           "baxis": {
            "gridcolor": "white",
            "linecolor": "white",
            "ticks": ""
           },
           "bgcolor": "#E5ECF6",
           "caxis": {
            "gridcolor": "white",
            "linecolor": "white",
            "ticks": ""
           }
          },
          "title": {
           "x": 0.05
          },
          "xaxis": {
           "automargin": true,
           "gridcolor": "white",
           "linecolor": "white",
           "ticks": "",
           "title": {
            "standoff": 15
           },
           "zerolinecolor": "white",
           "zerolinewidth": 2
          },
          "yaxis": {
           "automargin": true,
           "gridcolor": "white",
           "linecolor": "white",
           "ticks": "",
           "title": {
            "standoff": 15
           },
           "zerolinecolor": "white",
           "zerolinewidth": 2
          }
         }
        },
        "title": {
         "text": "<b>Top 5 cities by temperature</b>"
        }
       }
      }
     },
     "metadata": {},
     "output_type": "display_data"
    }
   ],
   "source": [
    "# Top 5 cities by temperature\n",
    "fig1 = px.scatter_mapbox(df1,\n",
    "lat='latitude', lon='longitude',\n",
    "mapbox_style='carto-positron',\n",
    "title='<b>Top 5 cities by temperature</b>',\n",
    "hover_name = 'city',\n",
    "hover_data = ['latitude', 'longitude', 'highest_temperature'],\n",
    "color = 'highest_temperature',\n",
    "size = 'highest_temperature', \n",
    "zoom = 6,\n",
    "height = 550)\n",
    "\n",
    "fig1.show()\n"
   ]
  },
  {
   "cell_type": "code",
   "execution_count": 94,
   "metadata": {},
   "outputs": [
    {
     "data": {
      "application/vnd.plotly.v1+json": {
       "config": {
        "plotlyServerURL": "https://plot.ly"
       },
       "data": [
        {
         "customdata": [
          [
           43.8354875,
           4.36488547,
           9.8,
           "Roma Divine home cinéma et jardin"
          ],
          [
           43.83558788,
           4.36419414,
           9.8,
           "Antichambre"
          ],
          [
           43.10348079,
           6.32792383,
           9.8,
           "Le Hameau de la Nicolinière"
          ],
          [
           43.581709,
           4.208536,
           9.7,
           "Séjour atypique et insolite sur notre péniche La Coradine avec jacuzzi"
          ],
          [
           43.56613122,
           4.19379989,
           9.7,
           "Le Repaire du Soleil"
          ],
          [
           43.9465116,
           4.8035118,
           9.6,
           "Duplex climatisé-Hauteur sous plafond 1,9m-Parking privé gratuit-Netflix-Arrivée autonome !! Duplex-Ceiling height 1,9m-Free private parking-Netflix-Self check in"
          ],
          [
           43.12259115,
           6.35503985,
           9.6,
           "HomeStay Bormes"
          ],
          [
           43.45122281,
           4.42666832,
           9.5,
           "Mas Fandelou"
          ],
          [
           43.56803552,
           4.1903438,
           9.5,
           "Boutique Hôtel des Remparts & Spa"
          ],
          [
           43.5793021,
           4.2128337,
           9.5,
           "la cabane du saunier Stella - Etang du Roy"
          ],
          [
           43.29242722,
           5.36084533,
           9.4,
           "Au cœur des Papes, dans bâtisse de charme studios & appartements en cœur de ville"
          ],
          [
           43.97451606,
           4.83258963,
           9.4,
           "Domaine de Rhodes B&B"
          ],
          [
           43.834472,
           4.356771,
           9.4,
           "Le Pari Nîmois, avec Parking, Centre Ville Arènes"
          ],
          [
           43.21644024,
           5.54174572,
           9.4,
           "Les deux mas"
          ],
          [
           43.5747463,
           4.1883983,
           9.4,
           "La Chouette de Camargue"
          ],
          [
           43.56879591,
           4.18808669,
           9.2,
           "B&B La Terre Brûlée"
          ],
          [
           43.57186625,
           4.19366169,
           9.2,
           "Ô 36 Rempart Sud B&B"
          ],
          [
           43.8362611,
           4.3587013,
           9.2,
           "le logis de l’étoile"
          ],
          [
           43.1238127,
           6.3581327,
           9.2,
           "Le Mirage"
          ],
          [
           43.567701,
           4.193413,
           9.2,
           "Appartement moderne tout confort, idéalement placé"
          ]
         ],
         "hovertemplate": "<b>%{hovertext}</b><br><br>lat_H=%{customdata[0]}<br>lon_H=%{customdata[1]}<br>rating=%{marker.color}<br>name=%{customdata[3]}<extra></extra>",
         "hovertext": [
          "Roma Divine home cinéma et jardin",
          "Antichambre",
          "Le Hameau de la Nicolinière",
          "Séjour atypique et insolite sur notre péniche La Coradine avec jacuzzi",
          "Le Repaire du Soleil",
          "Duplex climatisé-Hauteur sous plafond 1,9m-Parking privé gratuit-Netflix-Arrivée autonome !! Duplex-Ceiling height 1,9m-Free private parking-Netflix-Self check in",
          "HomeStay Bormes",
          "Mas Fandelou",
          "Boutique Hôtel des Remparts & Spa",
          "la cabane du saunier Stella - Etang du Roy",
          "Au cœur des Papes, dans bâtisse de charme studios & appartements en cœur de ville",
          "Domaine de Rhodes B&B",
          "Le Pari Nîmois, avec Parking, Centre Ville Arènes",
          "Les deux mas",
          "La Chouette de Camargue",
          "B&B La Terre Brûlée",
          "Ô 36 Rempart Sud B&B",
          "le logis de l’étoile",
          "Le Mirage",
          "Appartement moderne tout confort, idéalement placé"
         ],
         "lat": [
          43.8354875,
          43.83558788,
          43.10348079,
          43.581709,
          43.56613122,
          43.9465116,
          43.12259115,
          43.45122281,
          43.56803552,
          43.5793021,
          43.29242722,
          43.97451606,
          43.834472,
          43.21644024,
          43.5747463,
          43.56879591,
          43.57186625,
          43.8362611,
          43.1238127,
          43.567701
         ],
         "legendgroup": "",
         "lon": [
          4.36488547,
          4.36419414,
          6.32792383,
          4.208536,
          4.19379989,
          4.8035118,
          6.35503985,
          4.42666832,
          4.1903438,
          4.2128337,
          5.36084533,
          4.83258963,
          4.356771,
          5.54174572,
          4.1883983,
          4.18808669,
          4.19366169,
          4.3587013,
          6.3581327,
          4.193413
         ],
         "marker": {
          "color": [
           9.8,
           9.8,
           9.8,
           9.7,
           9.7,
           9.6,
           9.6,
           9.5,
           9.5,
           9.5,
           9.4,
           9.4,
           9.4,
           9.4,
           9.4,
           9.2,
           9.2,
           9.2,
           9.2,
           9.2
          ],
          "coloraxis": "coloraxis"
         },
         "mode": "markers",
         "name": "",
         "showlegend": false,
         "subplot": "mapbox",
         "type": "scattermapbox"
        }
       ],
       "layout": {
        "coloraxis": {
         "colorbar": {
          "title": {
           "text": "rating"
          }
         },
         "colorscale": [
          [
           0,
           "#0d0887"
          ],
          [
           0.1111111111111111,
           "#46039f"
          ],
          [
           0.2222222222222222,
           "#7201a8"
          ],
          [
           0.3333333333333333,
           "#9c179e"
          ],
          [
           0.4444444444444444,
           "#bd3786"
          ],
          [
           0.5555555555555556,
           "#d8576b"
          ],
          [
           0.6666666666666666,
           "#ed7953"
          ],
          [
           0.7777777777777778,
           "#fb9f3a"
          ],
          [
           0.8888888888888888,
           "#fdca26"
          ],
          [
           1,
           "#f0f921"
          ]
         ]
        },
        "height": 550,
        "legend": {
         "tracegroupgap": 0
        },
        "mapbox": {
         "center": {
          "lat": 43.5575549175,
          "lon": 4.751004107999999
         },
         "domain": {
          "x": [
           0,
           1
          ],
          "y": [
           0,
           1
          ]
         },
         "style": "carto-positron",
         "zoom": 6
        },
        "template": {
         "data": {
          "bar": [
           {
            "error_x": {
             "color": "#2a3f5f"
            },
            "error_y": {
             "color": "#2a3f5f"
            },
            "marker": {
             "line": {
              "color": "#E5ECF6",
              "width": 0.5
             },
             "pattern": {
              "fillmode": "overlay",
              "size": 10,
              "solidity": 0.2
             }
            },
            "type": "bar"
           }
          ],
          "barpolar": [
           {
            "marker": {
             "line": {
              "color": "#E5ECF6",
              "width": 0.5
             },
             "pattern": {
              "fillmode": "overlay",
              "size": 10,
              "solidity": 0.2
             }
            },
            "type": "barpolar"
           }
          ],
          "carpet": [
           {
            "aaxis": {
             "endlinecolor": "#2a3f5f",
             "gridcolor": "white",
             "linecolor": "white",
             "minorgridcolor": "white",
             "startlinecolor": "#2a3f5f"
            },
            "baxis": {
             "endlinecolor": "#2a3f5f",
             "gridcolor": "white",
             "linecolor": "white",
             "minorgridcolor": "white",
             "startlinecolor": "#2a3f5f"
            },
            "type": "carpet"
           }
          ],
          "choropleth": [
           {
            "colorbar": {
             "outlinewidth": 0,
             "ticks": ""
            },
            "type": "choropleth"
           }
          ],
          "contour": [
           {
            "colorbar": {
             "outlinewidth": 0,
             "ticks": ""
            },
            "colorscale": [
             [
              0,
              "#0d0887"
             ],
             [
              0.1111111111111111,
              "#46039f"
             ],
             [
              0.2222222222222222,
              "#7201a8"
             ],
             [
              0.3333333333333333,
              "#9c179e"
             ],
             [
              0.4444444444444444,
              "#bd3786"
             ],
             [
              0.5555555555555556,
              "#d8576b"
             ],
             [
              0.6666666666666666,
              "#ed7953"
             ],
             [
              0.7777777777777778,
              "#fb9f3a"
             ],
             [
              0.8888888888888888,
              "#fdca26"
             ],
             [
              1,
              "#f0f921"
             ]
            ],
            "type": "contour"
           }
          ],
          "contourcarpet": [
           {
            "colorbar": {
             "outlinewidth": 0,
             "ticks": ""
            },
            "type": "contourcarpet"
           }
          ],
          "heatmap": [
           {
            "colorbar": {
             "outlinewidth": 0,
             "ticks": ""
            },
            "colorscale": [
             [
              0,
              "#0d0887"
             ],
             [
              0.1111111111111111,
              "#46039f"
             ],
             [
              0.2222222222222222,
              "#7201a8"
             ],
             [
              0.3333333333333333,
              "#9c179e"
             ],
             [
              0.4444444444444444,
              "#bd3786"
             ],
             [
              0.5555555555555556,
              "#d8576b"
             ],
             [
              0.6666666666666666,
              "#ed7953"
             ],
             [
              0.7777777777777778,
              "#fb9f3a"
             ],
             [
              0.8888888888888888,
              "#fdca26"
             ],
             [
              1,
              "#f0f921"
             ]
            ],
            "type": "heatmap"
           }
          ],
          "heatmapgl": [
           {
            "colorbar": {
             "outlinewidth": 0,
             "ticks": ""
            },
            "colorscale": [
             [
              0,
              "#0d0887"
             ],
             [
              0.1111111111111111,
              "#46039f"
             ],
             [
              0.2222222222222222,
              "#7201a8"
             ],
             [
              0.3333333333333333,
              "#9c179e"
             ],
             [
              0.4444444444444444,
              "#bd3786"
             ],
             [
              0.5555555555555556,
              "#d8576b"
             ],
             [
              0.6666666666666666,
              "#ed7953"
             ],
             [
              0.7777777777777778,
              "#fb9f3a"
             ],
             [
              0.8888888888888888,
              "#fdca26"
             ],
             [
              1,
              "#f0f921"
             ]
            ],
            "type": "heatmapgl"
           }
          ],
          "histogram": [
           {
            "marker": {
             "pattern": {
              "fillmode": "overlay",
              "size": 10,
              "solidity": 0.2
             }
            },
            "type": "histogram"
           }
          ],
          "histogram2d": [
           {
            "colorbar": {
             "outlinewidth": 0,
             "ticks": ""
            },
            "colorscale": [
             [
              0,
              "#0d0887"
             ],
             [
              0.1111111111111111,
              "#46039f"
             ],
             [
              0.2222222222222222,
              "#7201a8"
             ],
             [
              0.3333333333333333,
              "#9c179e"
             ],
             [
              0.4444444444444444,
              "#bd3786"
             ],
             [
              0.5555555555555556,
              "#d8576b"
             ],
             [
              0.6666666666666666,
              "#ed7953"
             ],
             [
              0.7777777777777778,
              "#fb9f3a"
             ],
             [
              0.8888888888888888,
              "#fdca26"
             ],
             [
              1,
              "#f0f921"
             ]
            ],
            "type": "histogram2d"
           }
          ],
          "histogram2dcontour": [
           {
            "colorbar": {
             "outlinewidth": 0,
             "ticks": ""
            },
            "colorscale": [
             [
              0,
              "#0d0887"
             ],
             [
              0.1111111111111111,
              "#46039f"
             ],
             [
              0.2222222222222222,
              "#7201a8"
             ],
             [
              0.3333333333333333,
              "#9c179e"
             ],
             [
              0.4444444444444444,
              "#bd3786"
             ],
             [
              0.5555555555555556,
              "#d8576b"
             ],
             [
              0.6666666666666666,
              "#ed7953"
             ],
             [
              0.7777777777777778,
              "#fb9f3a"
             ],
             [
              0.8888888888888888,
              "#fdca26"
             ],
             [
              1,
              "#f0f921"
             ]
            ],
            "type": "histogram2dcontour"
           }
          ],
          "mesh3d": [
           {
            "colorbar": {
             "outlinewidth": 0,
             "ticks": ""
            },
            "type": "mesh3d"
           }
          ],
          "parcoords": [
           {
            "line": {
             "colorbar": {
              "outlinewidth": 0,
              "ticks": ""
             }
            },
            "type": "parcoords"
           }
          ],
          "pie": [
           {
            "automargin": true,
            "type": "pie"
           }
          ],
          "scatter": [
           {
            "fillpattern": {
             "fillmode": "overlay",
             "size": 10,
             "solidity": 0.2
            },
            "type": "scatter"
           }
          ],
          "scatter3d": [
           {
            "line": {
             "colorbar": {
              "outlinewidth": 0,
              "ticks": ""
             }
            },
            "marker": {
             "colorbar": {
              "outlinewidth": 0,
              "ticks": ""
             }
            },
            "type": "scatter3d"
           }
          ],
          "scattercarpet": [
           {
            "marker": {
             "colorbar": {
              "outlinewidth": 0,
              "ticks": ""
             }
            },
            "type": "scattercarpet"
           }
          ],
          "scattergeo": [
           {
            "marker": {
             "colorbar": {
              "outlinewidth": 0,
              "ticks": ""
             }
            },
            "type": "scattergeo"
           }
          ],
          "scattergl": [
           {
            "marker": {
             "colorbar": {
              "outlinewidth": 0,
              "ticks": ""
             }
            },
            "type": "scattergl"
           }
          ],
          "scattermapbox": [
           {
            "marker": {
             "colorbar": {
              "outlinewidth": 0,
              "ticks": ""
             }
            },
            "type": "scattermapbox"
           }
          ],
          "scatterpolar": [
           {
            "marker": {
             "colorbar": {
              "outlinewidth": 0,
              "ticks": ""
             }
            },
            "type": "scatterpolar"
           }
          ],
          "scatterpolargl": [
           {
            "marker": {
             "colorbar": {
              "outlinewidth": 0,
              "ticks": ""
             }
            },
            "type": "scatterpolargl"
           }
          ],
          "scatterternary": [
           {
            "marker": {
             "colorbar": {
              "outlinewidth": 0,
              "ticks": ""
             }
            },
            "type": "scatterternary"
           }
          ],
          "surface": [
           {
            "colorbar": {
             "outlinewidth": 0,
             "ticks": ""
            },
            "colorscale": [
             [
              0,
              "#0d0887"
             ],
             [
              0.1111111111111111,
              "#46039f"
             ],
             [
              0.2222222222222222,
              "#7201a8"
             ],
             [
              0.3333333333333333,
              "#9c179e"
             ],
             [
              0.4444444444444444,
              "#bd3786"
             ],
             [
              0.5555555555555556,
              "#d8576b"
             ],
             [
              0.6666666666666666,
              "#ed7953"
             ],
             [
              0.7777777777777778,
              "#fb9f3a"
             ],
             [
              0.8888888888888888,
              "#fdca26"
             ],
             [
              1,
              "#f0f921"
             ]
            ],
            "type": "surface"
           }
          ],
          "table": [
           {
            "cells": {
             "fill": {
              "color": "#EBF0F8"
             },
             "line": {
              "color": "white"
             }
            },
            "header": {
             "fill": {
              "color": "#C8D4E3"
             },
             "line": {
              "color": "white"
             }
            },
            "type": "table"
           }
          ]
         },
         "layout": {
          "annotationdefaults": {
           "arrowcolor": "#2a3f5f",
           "arrowhead": 0,
           "arrowwidth": 1
          },
          "autotypenumbers": "strict",
          "coloraxis": {
           "colorbar": {
            "outlinewidth": 0,
            "ticks": ""
           }
          },
          "colorscale": {
           "diverging": [
            [
             0,
             "#8e0152"
            ],
            [
             0.1,
             "#c51b7d"
            ],
            [
             0.2,
             "#de77ae"
            ],
            [
             0.3,
             "#f1b6da"
            ],
            [
             0.4,
             "#fde0ef"
            ],
            [
             0.5,
             "#f7f7f7"
            ],
            [
             0.6,
             "#e6f5d0"
            ],
            [
             0.7,
             "#b8e186"
            ],
            [
             0.8,
             "#7fbc41"
            ],
            [
             0.9,
             "#4d9221"
            ],
            [
             1,
             "#276419"
            ]
           ],
           "sequential": [
            [
             0,
             "#0d0887"
            ],
            [
             0.1111111111111111,
             "#46039f"
            ],
            [
             0.2222222222222222,
             "#7201a8"
            ],
            [
             0.3333333333333333,
             "#9c179e"
            ],
            [
             0.4444444444444444,
             "#bd3786"
            ],
            [
             0.5555555555555556,
             "#d8576b"
            ],
            [
             0.6666666666666666,
             "#ed7953"
            ],
            [
             0.7777777777777778,
             "#fb9f3a"
            ],
            [
             0.8888888888888888,
             "#fdca26"
            ],
            [
             1,
             "#f0f921"
            ]
           ],
           "sequentialminus": [
            [
             0,
             "#0d0887"
            ],
            [
             0.1111111111111111,
             "#46039f"
            ],
            [
             0.2222222222222222,
             "#7201a8"
            ],
            [
             0.3333333333333333,
             "#9c179e"
            ],
            [
             0.4444444444444444,
             "#bd3786"
            ],
            [
             0.5555555555555556,
             "#d8576b"
            ],
            [
             0.6666666666666666,
             "#ed7953"
            ],
            [
             0.7777777777777778,
             "#fb9f3a"
            ],
            [
             0.8888888888888888,
             "#fdca26"
            ],
            [
             1,
             "#f0f921"
            ]
           ]
          },
          "colorway": [
           "#636efa",
           "#EF553B",
           "#00cc96",
           "#ab63fa",
           "#FFA15A",
           "#19d3f3",
           "#FF6692",
           "#B6E880",
           "#FF97FF",
           "#FECB52"
          ],
          "font": {
           "color": "#2a3f5f"
          },
          "geo": {
           "bgcolor": "white",
           "lakecolor": "white",
           "landcolor": "#E5ECF6",
           "showlakes": true,
           "showland": true,
           "subunitcolor": "white"
          },
          "hoverlabel": {
           "align": "left"
          },
          "hovermode": "closest",
          "mapbox": {
           "style": "light"
          },
          "paper_bgcolor": "white",
          "plot_bgcolor": "#E5ECF6",
          "polar": {
           "angularaxis": {
            "gridcolor": "white",
            "linecolor": "white",
            "ticks": ""
           },
           "bgcolor": "#E5ECF6",
           "radialaxis": {
            "gridcolor": "white",
            "linecolor": "white",
            "ticks": ""
           }
          },
          "scene": {
           "xaxis": {
            "backgroundcolor": "#E5ECF6",
            "gridcolor": "white",
            "gridwidth": 2,
            "linecolor": "white",
            "showbackground": true,
            "ticks": "",
            "zerolinecolor": "white"
           },
           "yaxis": {
            "backgroundcolor": "#E5ECF6",
            "gridcolor": "white",
            "gridwidth": 2,
            "linecolor": "white",
            "showbackground": true,
            "ticks": "",
            "zerolinecolor": "white"
           },
           "zaxis": {
            "backgroundcolor": "#E5ECF6",
            "gridcolor": "white",
            "gridwidth": 2,
            "linecolor": "white",
            "showbackground": true,
            "ticks": "",
            "zerolinecolor": "white"
           }
          },
          "shapedefaults": {
           "line": {
            "color": "#2a3f5f"
           }
          },
          "ternary": {
           "aaxis": {
            "gridcolor": "white",
            "linecolor": "white",
            "ticks": ""
           },
           "baxis": {
            "gridcolor": "white",
            "linecolor": "white",
            "ticks": ""
           },
           "bgcolor": "#E5ECF6",
           "caxis": {
            "gridcolor": "white",
            "linecolor": "white",
            "ticks": ""
           }
          },
          "title": {
           "x": 0.05
          },
          "xaxis": {
           "automargin": true,
           "gridcolor": "white",
           "linecolor": "white",
           "ticks": "",
           "title": {
            "standoff": 15
           },
           "zerolinecolor": "white",
           "zerolinewidth": 2
          },
          "yaxis": {
           "automargin": true,
           "gridcolor": "white",
           "linecolor": "white",
           "ticks": "",
           "title": {
            "standoff": 15
           },
           "zerolinecolor": "white",
           "zerolinewidth": 2
          }
         }
        },
        "title": {
         "text": "<b>Top 20 Hotels in the Top 5 areas by ratings</b>"
        }
       }
      }
     },
     "metadata": {},
     "output_type": "display_data"
    }
   ],
   "source": [
    "# Top 20 hotels by ratings\n",
    "# ⚠️There are actually 20 hotels, you need to zoom into each region⚠️\n",
    "\n",
    "fig2 = px.scatter_mapbox(df2,\n",
    "lat='lat_H', lon='lon_H',\n",
    "mapbox_style='carto-positron',\n",
    "title='<b>Top 20 Hotels in the Top 5 areas by ratings</b>',\n",
    "hover_name = 'name',\n",
    "hover_data = ['lat_H', 'lon_H', 'rating', 'name'],\n",
    "color = 'rating',\n",
    "zoom = 6,\n",
    "height = 550)\n",
    "\n",
    "fig2.show()\n"
   ]
  },
  {
   "attachments": {},
   "cell_type": "markdown",
   "metadata": {},
   "source": [
    "⚠️There are actually 20 hotels displayed in the map above, you need to zoom into each region to see them as they are really close to each other. chaging the marker size depending on the rating for instance will make the visualization more difficult⚠️"
   ]
  },
  {
   "cell_type": "code",
   "execution_count": 95,
   "metadata": {},
   "outputs": [
    {
     "data": {
      "application/vnd.plotly.v1+json": {
       "config": {
        "plotlyServerURL": "https://plot.ly"
       },
       "data": [
        {
         "customdata": [
          [
           44.01168919,
           4.42128514,
           10,
           "Le 6 Bis by Les Cailloux Dorés"
          ],
          [
           42.52538159,
           3.08256391,
           10,
           "T3 Neuf Garage, clim, wifi, plages à 3min à pied!"
          ],
          [
           49.26999926,
           -0.70694983,
           10,
           "LE LAVOIR Classé 5***** BAYEUX Centre 9 Personnes"
          ],
          [
           48.0708662,
           7.3627888,
           10,
           "Villa Design-Piscine-BBQ-Terrasses-Centre-Ville"
          ],
          [
           48.0425764,
           7.3052388,
           9.8,
           "GITE LE COQ ROUGE"
          ],
          [
           48.2567086,
           7.4508171,
           9.8,
           "Villa Grimm"
          ],
          [
           48.0461134,
           7.3051632,
           9.8,
           "Fleur de Vigne"
          ],
          [
           49.88714842,
           2.3116109,
           9.8,
           "Apartment Le 1727"
          ],
          [
           43.10348079,
           6.32792383,
           9.8,
           "Le Hameau de la Nicolinière"
          ],
          [
           43.21626207,
           2.28648797,
           9.8,
           "Le Loft de La Tour Pinte"
          ],
          [
           44.009668,
           4.418032,
           9.8,
           "Maison De La Bourgade"
          ],
          [
           42.58990385,
           1.79836833,
           9.8,
           "Les appartements de Clélia"
          ],
          [
           43.8354875,
           4.36488547,
           9.8,
           "Roma Divine home cinéma et jardin"
          ],
          [
           43.83558788,
           4.36419414,
           9.8,
           "Antichambre"
          ],
          [
           43.0344956,
           1.0572396,
           9.7,
           "Le Clos Fleuri"
          ],
          [
           43.56613122,
           4.19379989,
           9.7,
           "Le Repaire du Soleil"
          ],
          [
           43.581709,
           4.208536,
           9.7,
           "Séjour atypique et insolite sur notre péniche La Coradine avec jacuzzi"
          ],
          [
           43.491267,
           -1.4752899,
           9.7,
           "Patio Arena"
          ],
          [
           42.9359233,
           1.57316923,
           9.7,
           "Gite De Charme"
          ],
          [
           44.01702,
           1.3545639,
           9.7,
           "Magnolia magnifique T2 entièrement rénové."
          ]
         ],
         "hovertemplate": "<b>%{hovertext}</b><br><br>rating=%{marker.color}<br>lat_H=%{customdata[0]}<br>lon_H=%{customdata[1]}<br>name=%{customdata[3]}<extra></extra>",
         "hovertext": [
          "Le 6 Bis by Les Cailloux Dorés",
          "T3 Neuf Garage, clim, wifi, plages à 3min à pied!",
          "LE LAVOIR Classé 5***** BAYEUX Centre 9 Personnes",
          "Villa Design-Piscine-BBQ-Terrasses-Centre-Ville",
          "GITE LE COQ ROUGE",
          "Villa Grimm",
          "Fleur de Vigne",
          "Apartment Le 1727",
          "Le Hameau de la Nicolinière",
          "Le Loft de La Tour Pinte",
          "Maison De La Bourgade",
          "Les appartements de Clélia",
          "Roma Divine home cinéma et jardin",
          "Antichambre",
          "Le Clos Fleuri",
          "Le Repaire du Soleil",
          "Séjour atypique et insolite sur notre péniche La Coradine avec jacuzzi",
          "Patio Arena",
          "Gite De Charme",
          "Magnolia magnifique T2 entièrement rénové."
         ],
         "lat": [
          44.01168919,
          42.52538159,
          49.26999926,
          48.0708662,
          48.0425764,
          48.2567086,
          48.0461134,
          49.88714842,
          43.10348079,
          43.21626207,
          44.009668,
          42.58990385,
          43.8354875,
          43.83558788,
          43.0344956,
          43.56613122,
          43.581709,
          43.491267,
          42.9359233,
          44.01702
         ],
         "legendgroup": "",
         "lon": [
          4.42128514,
          3.08256391,
          -0.70694983,
          7.3627888,
          7.3052388,
          7.4508171,
          7.3051632,
          2.3116109,
          6.32792383,
          2.28648797,
          4.418032,
          1.79836833,
          4.36488547,
          4.36419414,
          1.0572396,
          4.19379989,
          4.208536,
          -1.4752899,
          1.57316923,
          1.3545639
         ],
         "marker": {
          "color": [
           10,
           10,
           10,
           10,
           9.8,
           9.8,
           9.8,
           9.8,
           9.8,
           9.8,
           9.8,
           9.8,
           9.8,
           9.8,
           9.7,
           9.7,
           9.7,
           9.7,
           9.7,
           9.7
          ],
          "coloraxis": "coloraxis",
          "size": [
           10,
           10,
           10,
           10,
           9.8,
           9.8,
           9.8,
           9.8,
           9.8,
           9.8,
           9.8,
           9.8,
           9.8,
           9.8,
           9.7,
           9.7,
           9.7,
           9.7,
           9.7,
           9.7
          ],
          "sizemode": "area",
          "sizeref": 0.025
         },
         "mode": "markers",
         "name": "",
         "showlegend": false,
         "subplot": "mapbox",
         "type": "scattermapbox"
        }
       ],
       "layout": {
        "coloraxis": {
         "colorbar": {
          "title": {
           "text": "rating"
          }
         },
         "colorscale": [
          [
           0,
           "#0d0887"
          ],
          [
           0.1111111111111111,
           "#46039f"
          ],
          [
           0.2222222222222222,
           "#7201a8"
          ],
          [
           0.3333333333333333,
           "#9c179e"
          ],
          [
           0.4444444444444444,
           "#bd3786"
          ],
          [
           0.5555555555555556,
           "#d8576b"
          ],
          [
           0.6666666666666666,
           "#ed7953"
          ],
          [
           0.7777777777777778,
           "#fb9f3a"
          ],
          [
           0.8888888888888888,
           "#fdca26"
          ],
          [
           1,
           "#f0f921"
          ]
         ]
        },
        "height": 550,
        "legend": {
         "itemsizing": "constant",
         "tracegroupgap": 0
        },
        "mapbox": {
         "center": {
          "lat": 44.9663709635,
          "lon": 3.650221424
         },
         "domain": {
          "x": [
           0,
           1
          ],
          "y": [
           0,
           1
          ]
         },
         "style": "carto-positron",
         "zoom": 3.7
        },
        "template": {
         "data": {
          "bar": [
           {
            "error_x": {
             "color": "#2a3f5f"
            },
            "error_y": {
             "color": "#2a3f5f"
            },
            "marker": {
             "line": {
              "color": "#E5ECF6",
              "width": 0.5
             },
             "pattern": {
              "fillmode": "overlay",
              "size": 10,
              "solidity": 0.2
             }
            },
            "type": "bar"
           }
          ],
          "barpolar": [
           {
            "marker": {
             "line": {
              "color": "#E5ECF6",
              "width": 0.5
             },
             "pattern": {
              "fillmode": "overlay",
              "size": 10,
              "solidity": 0.2
             }
            },
            "type": "barpolar"
           }
          ],
          "carpet": [
           {
            "aaxis": {
             "endlinecolor": "#2a3f5f",
             "gridcolor": "white",
             "linecolor": "white",
             "minorgridcolor": "white",
             "startlinecolor": "#2a3f5f"
            },
            "baxis": {
             "endlinecolor": "#2a3f5f",
             "gridcolor": "white",
             "linecolor": "white",
             "minorgridcolor": "white",
             "startlinecolor": "#2a3f5f"
            },
            "type": "carpet"
           }
          ],
          "choropleth": [
           {
            "colorbar": {
             "outlinewidth": 0,
             "ticks": ""
            },
            "type": "choropleth"
           }
          ],
          "contour": [
           {
            "colorbar": {
             "outlinewidth": 0,
             "ticks": ""
            },
            "colorscale": [
             [
              0,
              "#0d0887"
             ],
             [
              0.1111111111111111,
              "#46039f"
             ],
             [
              0.2222222222222222,
              "#7201a8"
             ],
             [
              0.3333333333333333,
              "#9c179e"
             ],
             [
              0.4444444444444444,
              "#bd3786"
             ],
             [
              0.5555555555555556,
              "#d8576b"
             ],
             [
              0.6666666666666666,
              "#ed7953"
             ],
             [
              0.7777777777777778,
              "#fb9f3a"
             ],
             [
              0.8888888888888888,
              "#fdca26"
             ],
             [
              1,
              "#f0f921"
             ]
            ],
            "type": "contour"
           }
          ],
          "contourcarpet": [
           {
            "colorbar": {
             "outlinewidth": 0,
             "ticks": ""
            },
            "type": "contourcarpet"
           }
          ],
          "heatmap": [
           {
            "colorbar": {
             "outlinewidth": 0,
             "ticks": ""
            },
            "colorscale": [
             [
              0,
              "#0d0887"
             ],
             [
              0.1111111111111111,
              "#46039f"
             ],
             [
              0.2222222222222222,
              "#7201a8"
             ],
             [
              0.3333333333333333,
              "#9c179e"
             ],
             [
              0.4444444444444444,
              "#bd3786"
             ],
             [
              0.5555555555555556,
              "#d8576b"
             ],
             [
              0.6666666666666666,
              "#ed7953"
             ],
             [
              0.7777777777777778,
              "#fb9f3a"
             ],
             [
              0.8888888888888888,
              "#fdca26"
             ],
             [
              1,
              "#f0f921"
             ]
            ],
            "type": "heatmap"
           }
          ],
          "heatmapgl": [
           {
            "colorbar": {
             "outlinewidth": 0,
             "ticks": ""
            },
            "colorscale": [
             [
              0,
              "#0d0887"
             ],
             [
              0.1111111111111111,
              "#46039f"
             ],
             [
              0.2222222222222222,
              "#7201a8"
             ],
             [
              0.3333333333333333,
              "#9c179e"
             ],
             [
              0.4444444444444444,
              "#bd3786"
             ],
             [
              0.5555555555555556,
              "#d8576b"
             ],
             [
              0.6666666666666666,
              "#ed7953"
             ],
             [
              0.7777777777777778,
              "#fb9f3a"
             ],
             [
              0.8888888888888888,
              "#fdca26"
             ],
             [
              1,
              "#f0f921"
             ]
            ],
            "type": "heatmapgl"
           }
          ],
          "histogram": [
           {
            "marker": {
             "pattern": {
              "fillmode": "overlay",
              "size": 10,
              "solidity": 0.2
             }
            },
            "type": "histogram"
           }
          ],
          "histogram2d": [
           {
            "colorbar": {
             "outlinewidth": 0,
             "ticks": ""
            },
            "colorscale": [
             [
              0,
              "#0d0887"
             ],
             [
              0.1111111111111111,
              "#46039f"
             ],
             [
              0.2222222222222222,
              "#7201a8"
             ],
             [
              0.3333333333333333,
              "#9c179e"
             ],
             [
              0.4444444444444444,
              "#bd3786"
             ],
             [
              0.5555555555555556,
              "#d8576b"
             ],
             [
              0.6666666666666666,
              "#ed7953"
             ],
             [
              0.7777777777777778,
              "#fb9f3a"
             ],
             [
              0.8888888888888888,
              "#fdca26"
             ],
             [
              1,
              "#f0f921"
             ]
            ],
            "type": "histogram2d"
           }
          ],
          "histogram2dcontour": [
           {
            "colorbar": {
             "outlinewidth": 0,
             "ticks": ""
            },
            "colorscale": [
             [
              0,
              "#0d0887"
             ],
             [
              0.1111111111111111,
              "#46039f"
             ],
             [
              0.2222222222222222,
              "#7201a8"
             ],
             [
              0.3333333333333333,
              "#9c179e"
             ],
             [
              0.4444444444444444,
              "#bd3786"
             ],
             [
              0.5555555555555556,
              "#d8576b"
             ],
             [
              0.6666666666666666,
              "#ed7953"
             ],
             [
              0.7777777777777778,
              "#fb9f3a"
             ],
             [
              0.8888888888888888,
              "#fdca26"
             ],
             [
              1,
              "#f0f921"
             ]
            ],
            "type": "histogram2dcontour"
           }
          ],
          "mesh3d": [
           {
            "colorbar": {
             "outlinewidth": 0,
             "ticks": ""
            },
            "type": "mesh3d"
           }
          ],
          "parcoords": [
           {
            "line": {
             "colorbar": {
              "outlinewidth": 0,
              "ticks": ""
             }
            },
            "type": "parcoords"
           }
          ],
          "pie": [
           {
            "automargin": true,
            "type": "pie"
           }
          ],
          "scatter": [
           {
            "fillpattern": {
             "fillmode": "overlay",
             "size": 10,
             "solidity": 0.2
            },
            "type": "scatter"
           }
          ],
          "scatter3d": [
           {
            "line": {
             "colorbar": {
              "outlinewidth": 0,
              "ticks": ""
             }
            },
            "marker": {
             "colorbar": {
              "outlinewidth": 0,
              "ticks": ""
             }
            },
            "type": "scatter3d"
           }
          ],
          "scattercarpet": [
           {
            "marker": {
             "colorbar": {
              "outlinewidth": 0,
              "ticks": ""
             }
            },
            "type": "scattercarpet"
           }
          ],
          "scattergeo": [
           {
            "marker": {
             "colorbar": {
              "outlinewidth": 0,
              "ticks": ""
             }
            },
            "type": "scattergeo"
           }
          ],
          "scattergl": [
           {
            "marker": {
             "colorbar": {
              "outlinewidth": 0,
              "ticks": ""
             }
            },
            "type": "scattergl"
           }
          ],
          "scattermapbox": [
           {
            "marker": {
             "colorbar": {
              "outlinewidth": 0,
              "ticks": ""
             }
            },
            "type": "scattermapbox"
           }
          ],
          "scatterpolar": [
           {
            "marker": {
             "colorbar": {
              "outlinewidth": 0,
              "ticks": ""
             }
            },
            "type": "scatterpolar"
           }
          ],
          "scatterpolargl": [
           {
            "marker": {
             "colorbar": {
              "outlinewidth": 0,
              "ticks": ""
             }
            },
            "type": "scatterpolargl"
           }
          ],
          "scatterternary": [
           {
            "marker": {
             "colorbar": {
              "outlinewidth": 0,
              "ticks": ""
             }
            },
            "type": "scatterternary"
           }
          ],
          "surface": [
           {
            "colorbar": {
             "outlinewidth": 0,
             "ticks": ""
            },
            "colorscale": [
             [
              0,
              "#0d0887"
             ],
             [
              0.1111111111111111,
              "#46039f"
             ],
             [
              0.2222222222222222,
              "#7201a8"
             ],
             [
              0.3333333333333333,
              "#9c179e"
             ],
             [
              0.4444444444444444,
              "#bd3786"
             ],
             [
              0.5555555555555556,
              "#d8576b"
             ],
             [
              0.6666666666666666,
              "#ed7953"
             ],
             [
              0.7777777777777778,
              "#fb9f3a"
             ],
             [
              0.8888888888888888,
              "#fdca26"
             ],
             [
              1,
              "#f0f921"
             ]
            ],
            "type": "surface"
           }
          ],
          "table": [
           {
            "cells": {
             "fill": {
              "color": "#EBF0F8"
             },
             "line": {
              "color": "white"
             }
            },
            "header": {
             "fill": {
              "color": "#C8D4E3"
             },
             "line": {
              "color": "white"
             }
            },
            "type": "table"
           }
          ]
         },
         "layout": {
          "annotationdefaults": {
           "arrowcolor": "#2a3f5f",
           "arrowhead": 0,
           "arrowwidth": 1
          },
          "autotypenumbers": "strict",
          "coloraxis": {
           "colorbar": {
            "outlinewidth": 0,
            "ticks": ""
           }
          },
          "colorscale": {
           "diverging": [
            [
             0,
             "#8e0152"
            ],
            [
             0.1,
             "#c51b7d"
            ],
            [
             0.2,
             "#de77ae"
            ],
            [
             0.3,
             "#f1b6da"
            ],
            [
             0.4,
             "#fde0ef"
            ],
            [
             0.5,
             "#f7f7f7"
            ],
            [
             0.6,
             "#e6f5d0"
            ],
            [
             0.7,
             "#b8e186"
            ],
            [
             0.8,
             "#7fbc41"
            ],
            [
             0.9,
             "#4d9221"
            ],
            [
             1,
             "#276419"
            ]
           ],
           "sequential": [
            [
             0,
             "#0d0887"
            ],
            [
             0.1111111111111111,
             "#46039f"
            ],
            [
             0.2222222222222222,
             "#7201a8"
            ],
            [
             0.3333333333333333,
             "#9c179e"
            ],
            [
             0.4444444444444444,
             "#bd3786"
            ],
            [
             0.5555555555555556,
             "#d8576b"
            ],
            [
             0.6666666666666666,
             "#ed7953"
            ],
            [
             0.7777777777777778,
             "#fb9f3a"
            ],
            [
             0.8888888888888888,
             "#fdca26"
            ],
            [
             1,
             "#f0f921"
            ]
           ],
           "sequentialminus": [
            [
             0,
             "#0d0887"
            ],
            [
             0.1111111111111111,
             "#46039f"
            ],
            [
             0.2222222222222222,
             "#7201a8"
            ],
            [
             0.3333333333333333,
             "#9c179e"
            ],
            [
             0.4444444444444444,
             "#bd3786"
            ],
            [
             0.5555555555555556,
             "#d8576b"
            ],
            [
             0.6666666666666666,
             "#ed7953"
            ],
            [
             0.7777777777777778,
             "#fb9f3a"
            ],
            [
             0.8888888888888888,
             "#fdca26"
            ],
            [
             1,
             "#f0f921"
            ]
           ]
          },
          "colorway": [
           "#636efa",
           "#EF553B",
           "#00cc96",
           "#ab63fa",
           "#FFA15A",
           "#19d3f3",
           "#FF6692",
           "#B6E880",
           "#FF97FF",
           "#FECB52"
          ],
          "font": {
           "color": "#2a3f5f"
          },
          "geo": {
           "bgcolor": "white",
           "lakecolor": "white",
           "landcolor": "#E5ECF6",
           "showlakes": true,
           "showland": true,
           "subunitcolor": "white"
          },
          "hoverlabel": {
           "align": "left"
          },
          "hovermode": "closest",
          "mapbox": {
           "style": "light"
          },
          "paper_bgcolor": "white",
          "plot_bgcolor": "#E5ECF6",
          "polar": {
           "angularaxis": {
            "gridcolor": "white",
            "linecolor": "white",
            "ticks": ""
           },
           "bgcolor": "#E5ECF6",
           "radialaxis": {
            "gridcolor": "white",
            "linecolor": "white",
            "ticks": ""
           }
          },
          "scene": {
           "xaxis": {
            "backgroundcolor": "#E5ECF6",
            "gridcolor": "white",
            "gridwidth": 2,
            "linecolor": "white",
            "showbackground": true,
            "ticks": "",
            "zerolinecolor": "white"
           },
           "yaxis": {
            "backgroundcolor": "#E5ECF6",
            "gridcolor": "white",
            "gridwidth": 2,
            "linecolor": "white",
            "showbackground": true,
            "ticks": "",
            "zerolinecolor": "white"
           },
           "zaxis": {
            "backgroundcolor": "#E5ECF6",
            "gridcolor": "white",
            "gridwidth": 2,
            "linecolor": "white",
            "showbackground": true,
            "ticks": "",
            "zerolinecolor": "white"
           }
          },
          "shapedefaults": {
           "line": {
            "color": "#2a3f5f"
           }
          },
          "ternary": {
           "aaxis": {
            "gridcolor": "white",
            "linecolor": "white",
            "ticks": ""
           },
           "baxis": {
            "gridcolor": "white",
            "linecolor": "white",
            "ticks": ""
           },
           "bgcolor": "#E5ECF6",
           "caxis": {
            "gridcolor": "white",
            "linecolor": "white",
            "ticks": ""
           }
          },
          "title": {
           "x": 0.05
          },
          "xaxis": {
           "automargin": true,
           "gridcolor": "white",
           "linecolor": "white",
           "ticks": "",
           "title": {
            "standoff": 15
           },
           "zerolinecolor": "white",
           "zerolinewidth": 2
          },
          "yaxis": {
           "automargin": true,
           "gridcolor": "white",
           "linecolor": "white",
           "ticks": "",
           "title": {
            "standoff": 15
           },
           "zerolinecolor": "white",
           "zerolinewidth": 2
          }
         }
        },
        "title": {
         "text": "<b>Top 20 Hotels overal in France by ratings</b>"
        }
       }
      }
     },
     "metadata": {},
     "output_type": "display_data"
    }
   ],
   "source": [
    "# Top 20 hotels from the list of our 35 cities France by ratings\n",
    "\n",
    "fig3 = px.scatter_mapbox(df3,\n",
    "lat='lat_H', lon='lon_H',\n",
    "mapbox_style='carto-positron',\n",
    "title='<b>Top 20 Hotels overal in France by ratings</b>',\n",
    "hover_name = 'name',\n",
    "hover_data = ['lat_H', 'lon_H', 'rating', 'name'],\n",
    "color = 'rating',\n",
    "size = 'rating',\n",
    "zoom = 3.7,\n",
    "height = 550)\n",
    "\n",
    "fig3.show()\n"
   ]
  },
  {
   "attachments": {},
   "cell_type": "markdown",
   "metadata": {},
   "source": [
    "__`NOTEBOOK END`__"
   ]
  }
 ],
 "metadata": {
  "kernelspec": {
   "display_name": "base",
   "language": "python",
   "name": "python3"
  },
  "language_info": {
   "codemirror_mode": {
    "name": "ipython",
    "version": 3
   },
   "file_extension": ".py",
   "mimetype": "text/x-python",
   "name": "python",
   "nbconvert_exporter": "python",
   "pygments_lexer": "ipython3",
   "version": "3.10.9"
  },
  "orig_nbformat": 4,
  "vscode": {
   "interpreter": {
    "hash": "ad2bdc8ecc057115af97d19610ffacc2b4e99fae6737bb82f5d7fb13d2f2c186"
   }
  }
 },
 "nbformat": 4,
 "nbformat_minor": 2
}
